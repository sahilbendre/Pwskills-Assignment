{
 "cells": [
  {
   "cell_type": "markdown",
   "id": "873ce89e-5876-40e1-b60f-2809d1e2f12e",
   "metadata": {},
   "source": [
    "Q1. Explain Class and Object with respect to Object-Oriented Programming. Give a suitable example?"
   ]
  },
  {
   "cell_type": "markdown",
   "id": "f5c061cd-70fd-413c-aa9d-9ef1f2c96844",
   "metadata": {},
   "source": [
    "Class:Class is considered has a blueprint of object.we can think class is a skech of house.it conatin all detail about floors ,doors and windows etc.Based on these descriptions we build the house. House is the object.\n",
    "Object:Object is instace of class For example, suppose Bike is a class then we can create objects like bike1, bike2, etc from the class."
   ]
  },
  {
   "cell_type": "code",
   "execution_count": 11,
   "id": "5d9cf91a-d716-48a2-84ab-8348f099dc8f",
   "metadata": {},
   "outputs": [
    {
     "name": "stdout",
     "output_type": "stream",
     "text": [
      "Name: KTM, Gears: 0 \n",
      "Name: Duke, Gears: 5 ,Engine:125cc\n"
     ]
    }
   ],
   "source": [
    "#Create a Class\n",
    "class bike:\n",
    "    gear=0\n",
    "    name=\"\"\n",
    "    engine=\"250cc\"\n",
    "#create a first Object\n",
    "bike1=bike()\n",
    "bike1.name=\"KTM\"\n",
    "bike1.engine=\"125cc\"\n",
    "print(f\"Name: {bike1.name}, Gears: {bike1.gear} \")\n",
    "#create a Second Object\n",
    "bike2=bike()\n",
    "bike2.gear=5\n",
    "bike2.name=\"Duke\"\n",
    "bike.engine=\"125cc\"\n",
    "print(f\"Name: {bike2.name}, Gears: {bike2.gear} ,Engine:{bike2.engine}\")\n",
    "    "
   ]
  },
  {
   "cell_type": "markdown",
   "id": "e33be4f4-6d3a-4f9c-9983-d1dc7d8c43f9",
   "metadata": {},
   "source": [
    "In above program we create 2 object first is bike1 and second is bike2 which is an instace of bike class.The object bike1 has own object and methods.When we call bike1.engine it  is executed on bike1 instance"
   ]
  },
  {
   "cell_type": "markdown",
   "id": "19d72acf-583c-4295-afb2-7e9b33c82f57",
   "metadata": {},
   "source": [
    "Q2. Name the four pillars of OOPs?"
   ]
  },
  {
   "cell_type": "markdown",
   "id": "6971e635-dd06-4a99-a13a-66d6e72ad9a4",
   "metadata": {},
   "source": [
    "These four pillars are Inheritance, Polymorphism, Encapsulation and Abstraction."
   ]
  },
  {
   "cell_type": "markdown",
   "id": "452cef69-9fb1-498b-8f27-5b7df3815838",
   "metadata": {},
   "source": [
    "Q3. Explain why the __init__() function is used. Give a suitable example"
   ]
  },
  {
   "cell_type": "markdown",
   "id": "a5bbeffa-392d-4835-8a37-6dc37b0c9f9f",
   "metadata": {},
   "source": [
    "__init__() method is also know as a constructor,when we create object of class then __init__() automatically called.the init method is used to set up the initial state of an object when it is created, so that each object has its own unique set of attributes that define its state."
   ]
  },
  {
   "cell_type": "code",
   "execution_count": 23,
   "id": "504428f0-e6f9-4bf5-a4a5-f8dd2d8be1ca",
   "metadata": {},
   "outputs": [
    {
     "name": "stdout",
     "output_type": "stream",
     "text": [
      "From Mumbai,To Maldives,Number of days for Holiday 4 Days\n",
      "From Delhi,To Japan,Number of days for Holiday 10 Days\n"
     ]
    }
   ],
   "source": [
    "class Trip:\n",
    "    def __init__(self, to_city, from_city,num_of_days):\n",
    "        self.t_city=to_city\n",
    "        self.f_city=from_city\n",
    "        self.n_o_days=num_of_days\n",
    "    def book(self):\n",
    "        print(f\"From {self.f_city},To {self.t_city},Number of days for Holiday {self.n_o_days} Days\")\n",
    "t1=Trip(\"Maldives\",\"Mumbai\",4)\n",
    "t1.book()\n",
    "t2=Trip(\"Japan\",\"Delhi\",10)\n",
    "t2.book()"
   ]
  },
  {
   "cell_type": "markdown",
   "id": "c101079d-5902-4e66-8e70-d1934029222e",
   "metadata": {},
   "source": [
    "Q4. Why self is used in OOPs?"
   ]
  },
  {
   "cell_type": "markdown",
   "id": "cc7be99e-ac74-44bb-91a2-f5c2087e5075",
   "metadata": {},
   "source": [
    "self represents the instance of the class. By using the “self”  we can access the attributes and methods of the class in python. It binds the attributes with the given arguments.Self is always pointing to Current Object.and it must be included as the first parameter in every method definition within a class.we can use any name instead of self keyword."
   ]
  },
  {
   "cell_type": "markdown",
   "id": "77fc7a7d-dc46-454b-a614-06f30a69b1a8",
   "metadata": {},
   "source": [
    "Q5. What is inheritance? Give an example for each type of inheritance."
   ]
  },
  {
   "cell_type": "markdown",
   "id": "8f158bc4-050d-4a36-9d60-f3705ceb6d62",
   "metadata": {},
   "source": [
    "Inheritance is mechanism in which one class acquires property of another class.For example, a child inherits the traits of his/her parents.with Inheritance ,we can reuse the field and method of the exiting class.Hence, inheritance facilitates Reusability and is an important concept of OOPs.\n",
    "There are five types of Inheritence in Python:\n",
    "1]Single Inheritance:In Single Inheritance,one class inherits to another single class.It is very basic Inheritence ,where single child inherits properties and function of a parent class."
   ]
  },
  {
   "cell_type": "code",
   "execution_count": 26,
   "id": "2531ac48-ba25-4bf1-9ecc-a51d9f88beac",
   "metadata": {},
   "outputs": [
    {
     "name": "stdout",
     "output_type": "stream",
     "text": [
      "Animal Speaking\n",
      "Dogs barking\n"
     ]
    }
   ],
   "source": [
    "class animal:\n",
    "    def speak(self):\n",
    "        print(\"Animal Speaking\")\n",
    "class dog(animal):\n",
    "    def bark(self):\n",
    "        print(\"Dogs barking\")\n",
    "        \n",
    "d=dog()\n",
    "d.speak()\n",
    "d.bark()"
   ]
  },
  {
   "cell_type": "markdown",
   "id": "4ea49027-9772-4f23-866b-183a44e43c75",
   "metadata": {},
   "source": [
    "2]Multiple Inheritance:In Multiple Inheritance,one class inherits Multiple other class.In this, the child class has access to the methods and properties of all its parent classes."
   ]
  },
  {
   "cell_type": "code",
   "execution_count": 8,
   "id": "677118b5-816e-4634-87f3-e9c83840d91b",
   "metadata": {},
   "outputs": [
    {
     "name": "stdout",
     "output_type": "stream",
     "text": [
      "Father Enjoys Driving\n",
      "Mother Enjoys Cooking\n",
      "Child Loves Playing\n"
     ]
    }
   ],
   "source": [
    "class Father():\n",
    "    def Driving(self):\n",
    "        print(\"Father Enjoys Driving\")\n",
    "class Mother():\n",
    "    def Cooking(self):\n",
    "        print(\"Mother Enjoys Cooking\")\n",
    "class Child(Father, Mother):\n",
    "    def Playing(self):\n",
    "        print(\"Child Loves Playing\")\n",
    "c = Child()\n",
    "c.Driving()\n",
    "c.Cooking()\n",
    "c.Playing()"
   ]
  },
  {
   "cell_type": "markdown",
   "id": "1b55692a-b911-4f55-9b92-aff5d46d2158",
   "metadata": {},
   "source": [
    "3]Multilevel Inheritance:In Multilevel Inheritance, the child class inherits another child class. It is the chain of inheritance in which the parent class is the child of some other class."
   ]
  },
  {
   "cell_type": "code",
   "execution_count": 7,
   "id": "c85050ef-0520-4fa5-bc54-e79967bcb7bc",
   "metadata": {},
   "outputs": [
    {
     "name": "stdout",
     "output_type": "stream",
     "text": [
      "final review\n",
      "write\n",
      "review\n"
     ]
    }
   ],
   "source": [
    "class manager:\n",
    "    def final_review(self):\n",
    "        print(\"final review\")\n",
    "class reviwer(manager):\n",
    "    def review(self):\n",
    "        print(\"review\")\n",
    "class writer(reviwer):\n",
    "    def write(self):\n",
    "        print(\"write\")\n",
    "        \n",
    "o=writer()\n",
    "o.final_review()\n",
    "o.write()\n",
    "o.review()"
   ]
  },
  {
   "cell_type": "markdown",
   "id": "943b479e-3acf-4eea-8f3a-ad19442e7ca2",
   "metadata": {},
   "source": [
    "4.Hierarchical Inheritance:Hierarchical inheritance is a type of inheritance where different multiple classes inherit a single parent class."
   ]
  },
  {
   "cell_type": "code",
   "execution_count": null,
   "id": "441ecd0d-370a-48a5-8710-b61f6df64c9d",
   "metadata": {},
   "outputs": [],
   "source": [
    "# Base class\n",
    "class Parent:\n",
    "\tdef func1(self):\n",
    "\t\tprint(\"This function is in parent class.\")\n",
    "\n",
    "class Child1(Parent):\n",
    "\tdef func2(self):\n",
    "\t\tprint(\"This function is in child 1.\")\n",
    "\n",
    "class Child2(Parent):\n",
    "\tdef func3(self):\n",
    "\t\tprint(\"This function is in child 2.\")\n",
    "\n",
    "\n",
    "# Driver's code\n",
    "object1 = Child1()\n",
    "object2 = Child2()\n",
    "object1.func1()\n",
    "object1.func2()\n",
    "object2.func1()\n",
    "object2.func3()\n"
   ]
  },
  {
   "cell_type": "markdown",
   "id": "b603a20c-09c4-470f-b961-8a5129d92820",
   "metadata": {},
   "source": [
    "5]Hybrid inheritance:Hybrid inheritance in Python is a combination of more than one type of inheritance. It is not any sequence or pattern of inheriting classes but is used as a naming convention where more than one type of inheritance is involved."
   ]
  },
  {
   "cell_type": "code",
   "execution_count": null,
   "id": "99d2d387-c0da-4fd3-9ba1-205a8f70462d",
   "metadata": {},
   "outputs": [],
   "source": [
    "class School:\n",
    "\tdef func1(self):\n",
    "\t\tprint(\"This function is in school.\")\n",
    "\n",
    "\n",
    "class Student1(School):\n",
    "\tdef func2(self):\n",
    "\t\tprint(\"This function is in student 1. \")\n",
    "\n",
    "\n",
    "class Student2(School):\n",
    "\tdef func3(self):\n",
    "\t\tprint(\"This function is in student 2.\")\n",
    "\n",
    "\n",
    "class Student3(Student1, School):\n",
    "\tdef func4(self):\n",
    "\t\tprint(\"This function is in student 3.\")\n",
    "\n",
    "\n",
    "# Driver's code\n",
    "object = Student3()\n",
    "object.func1()\n",
    "object.func2()"
   ]
  }
 ],
 "metadata": {
  "kernelspec": {
   "display_name": "Python 3 (ipykernel)",
   "language": "python",
   "name": "python3"
  },
  "language_info": {
   "codemirror_mode": {
    "name": "ipython",
    "version": 3
   },
   "file_extension": ".py",
   "mimetype": "text/x-python",
   "name": "python",
   "nbconvert_exporter": "python",
   "pygments_lexer": "ipython3",
   "version": "3.10.8"
  }
 },
 "nbformat": 4,
 "nbformat_minor": 5
}
