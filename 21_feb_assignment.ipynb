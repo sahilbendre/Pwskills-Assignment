{
 "cells": [
  {
   "cell_type": "markdown",
   "id": "7d9be9dd-6129-4ec3-b5d3-5668df439ea5",
   "metadata": {},
   "source": [
    "__Q1.What is Web Scraping? Why is it Used? Give three areas where Web Scraping is used to get data?__"
   ]
  },
  {
   "cell_type": "markdown",
   "id": "6697c3df-a0db-43e5-8bd9-58977e4d3d90",
   "metadata": {},
   "source": [
    "Web scraping is the process of collecting structured web data in an automated manner. It's also widely known as web data extraction or web data scraping. Some of the main use cases of web scraping include price monitoring, price intelligence, news monitoring, lead generation, and market research among many others.\n",
    "\n",
    "Web scraping is used for various purposes and has become an essential tool for data extraction and analysis in many fields. Here are some common reasons why web scraping is used:\n",
    "\n",
    "__Business Intelligence__: Companies use web scraping to gather data on their competitors, market trends, and consumer behavior to gain insights and improve their business strategies.\n",
    "\n",
    "__Research__: Researchers use web scraping to collect data on various topics, such as social media trends, political opinions, and scientific research.\n",
    "\n",
    "__E-commerce__: E-commerce companies use web scraping to extract product information and pricing data from competitor websites to improve their pricing strategies."
   ]
  },
  {
   "cell_type": "markdown",
   "id": "9e99864d-45e1-4a4d-9664-c786319dfc93",
   "metadata": {},
   "source": [
    " __Q2.What are the different methods used for Web Scraping?__"
   ]
  },
  {
   "cell_type": "markdown",
   "id": "d5aa2ef6-9d5c-4b32-92c0-52f505c0c5aa",
   "metadata": {},
   "source": [
    "There are several methods used for web scraping, including:\n",
    "\n",
    "Manual scraping: This method involves manually browsing a website and copying/pasting relevant data into a spreadsheet or other format.\n",
    "\n",
    "HTML parsing: This method involves analyzing the HTML code of a website and extracting relevant data using programming languages such as Python, PHP, or JavaScript.\n",
    "\n",
    "Web scraping tools: There are various web scraping tools available that can automate the process of extracting data from websites. Examples include Scrapy, Beautiful Soup, and Selenium.\n",
    "\n",
    "API scraping: Many websites offer APIs (Application Programming Interfaces) that can be used to access and extract data from their databases. API scraping involves using programming languages to interact with these APIs and extract the desired data.\n",
    "\n",
    "Screen scraping: This method involves capturing data from the screen using screen capture software. It is typically used for extracting data from non-web-based software."
   ]
  },
  {
   "cell_type": "markdown",
   "id": "a6a0e847-b662-4a55-9fcf-0e643f39bb3e",
   "metadata": {},
   "source": [
    "__Q3.What is Beautiful Soup? Why is it used?__"
   ]
  },
  {
   "cell_type": "markdown",
   "id": "2cd4b13e-9657-47fa-a9d5-b3e465dbc10a",
   "metadata": {},
   "source": [
    "Beautiful Soup is a Python package for parsing HTML and XML documents (including having malformed markup, i.e. non-closed tags, so named after tag soup). It creates a parse tree for parsed pages that can be used to extract data from HTML, which is useful for web scraping.\n"
   ]
  },
  {
   "cell_type": "markdown",
   "id": "d26f0e99-bfa8-44f3-b744-9b5895817d1c",
   "metadata": {},
   "source": [
    "__Q4. Why is flask used in this Web Scraping project?__"
   ]
  },
  {
   "cell_type": "markdown",
   "id": "2ee1a91d-d3cb-490c-bd99-d74021719a93",
   "metadata": {},
   "source": [
    "Flask is a lightweight and flexible web framework that is used in this web scraping project because it provides a simple and easy-to-use interface for building web applications. Flask allows developers to quickly create web applications with minimal setup and configuration, making it an ideal choice for small to medium-sized projects like this one.\n",
    "\n",
    "In addition, Flask provides a number of useful features such as routing, templating, and request handling that make it easy to build dynamic web applications. It also integrates well with other Python libraries and tools commonly used in web scraping projects, such as Beautiful Soup and Requests."
   ]
  },
  {
   "cell_type": "markdown",
   "id": "509c164c-45b8-4320-bc46-1da04451f8e3",
   "metadata": {},
   "source": [
    "Write the names of AWS services used in this project. Also, explain the use of each service"
   ]
  },
  {
   "cell_type": "markdown",
   "id": "46eaf08e-3695-4251-bf94-f653ace251e3",
   "metadata": {},
   "source": [
    "In this project we used AWS CodePipeline and AWS Elastic Beanstalk"
   ]
  },
  {
   "cell_type": "markdown",
   "id": "83e35224-6119-44ff-bb96-1d234c989378",
   "metadata": {},
   "source": [
    "__AWS CodePipeline__ is a continuous delivery service that enables you to model, visualize, and automate the steps required to release your software. With AWS CodePipeline, you model the full release process for building your code, deploying to pre-production environments, testing your application and releasing it to production. AWS CodePipeline then builds, tests, and deploys your application according to the defined workflow every time there is a code change. You can integrate partner tools and your own custom tools into any stage of the release process to form an end-to-end continuous delivery solution.\n",
    "\n",
    "__AWS Elastic Beanstalk__ is a platform as a service (PaaS) offering that simplifies deploying and managing applications. It abstracts away the underlying infrastructure, allowing you to focus on your application code. With Elastic Beanstalk, you can quickly deploy web applications and services without worrying about configuring and managing the underlying compute resources, load balancing, auto-scaling, and other infrastructure components. It supports multiple programming languages, frameworks, and environments, making it easier to run and scale your application.\n"
   ]
  },
  {
   "cell_type": "code",
   "execution_count": null,
   "id": "9b843d7f-636f-4f99-870c-195a2d2423a8",
   "metadata": {},
   "outputs": [],
   "source": []
  }
 ],
 "metadata": {
  "kernelspec": {
   "display_name": "Python 3 (ipykernel)",
   "language": "python",
   "name": "python3"
  },
  "language_info": {
   "codemirror_mode": {
    "name": "ipython",
    "version": 3
   },
   "file_extension": ".py",
   "mimetype": "text/x-python",
   "name": "python",
   "nbconvert_exporter": "python",
   "pygments_lexer": "ipython3",
   "version": "3.10.8"
  }
 },
 "nbformat": 4,
 "nbformat_minor": 5
}
