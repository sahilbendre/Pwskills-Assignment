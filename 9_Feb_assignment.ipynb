{
 "cells": [
  {
   "cell_type": "markdown",
   "id": "9f2f94b1-b99a-45b2-83d9-1fbfe44d3e4b",
   "metadata": {},
   "source": [
    "Q1. Create a vehicle class with an init method having instance variables as name_of_vehicle, max_speed\n",
    "and average_of_vehicle."
   ]
  },
  {
   "cell_type": "code",
   "execution_count": 1,
   "id": "406a8b54-6900-48a7-bb37-732b9bcbcba4",
   "metadata": {},
   "outputs": [],
   "source": [
    "class vehicle():\n",
    "    def __init__(self,name_of_vehicle,max_speed,average_of_vehicle):\n",
    "        self.name_of_vehicle=name_of_vehicle\n",
    "        self.max_speed=max_speed\n",
    "        self.average_of_vehicle=average_of_vehicle"
   ]
  },
  {
   "cell_type": "markdown",
   "id": "1f4ea5c0-ed65-44fc-9c99-08162e489be4",
   "metadata": {},
   "source": [
    "Q2. Create a child class car from the vehicle class created in Que 1, which will inherit the vehicle class.\n",
    "Create a method named seating_capacity which takes capacity as an argument and returns the name of\n",
    "the vehicle and its seating capacity."
   ]
  },
  {
   "cell_type": "code",
   "execution_count": 14,
   "id": "4a7a39a6-36f4-4822-91b4-cd1f21a06ba9",
   "metadata": {},
   "outputs": [],
   "source": [
    "class car(vehicle):\n",
    "    def seating_capacity(self,seats):\n",
    "        self.seats=seats\n",
    "        return self.name_of_vehicle,\" seating capacity is\" ,self.seats"
   ]
  },
  {
   "cell_type": "code",
   "execution_count": 15,
   "id": "aa6e94d4-e6f6-4ac5-9f71-b618251fe6b3",
   "metadata": {},
   "outputs": [
    {
     "data": {
      "text/plain": [
       "('nexon', ' seating capacity is', 5)"
      ]
     },
     "execution_count": 15,
     "metadata": {},
     "output_type": "execute_result"
    }
   ],
   "source": [
    "nexon=car(\"nexon\",160,80)\n",
    "nexon.seating_capacity(5)"
   ]
  },
  {
   "cell_type": "markdown",
   "id": "24e8b8c1-4810-4552-b6eb-0361b0c91b2d",
   "metadata": {},
   "source": [
    "Q3. What is multiple inheritance? Write a python code to demonstrate multiple inheritance."
   ]
  },
  {
   "cell_type": "markdown",
   "id": "e5591b57-fb12-4f8e-8b95-a5a01902ceea",
   "metadata": {},
   "source": [
    "A class Can be derived from more than one class This is called multiple inheritance."
   ]
  },
  {
   "cell_type": "code",
   "execution_count": 21,
   "id": "5a499610-fa56-44e0-8eae-96cd70c922a7",
   "metadata": {},
   "outputs": [
    {
     "name": "stdout",
     "output_type": "stream",
     "text": [
      "dance is my passion\n",
      "criket is my passion\n",
      "Cooking is my passion\n"
     ]
    }
   ],
   "source": [
    "class mother():\n",
    "    def cooking(self):\n",
    "        print(\"Cooking is my passion\")\n",
    "class father():\n",
    "    def criket(self):\n",
    "        print(\"criket is my passion\")\n",
    "class child(father,mother):\n",
    "    def dancing(self):\n",
    "        print(\"dance is my passion\")\n",
    "\n",
    "child=child()\n",
    "child.dancing()\n",
    "child.criket()\n",
    "child.cooking()\n",
    "    "
   ]
  },
  {
   "cell_type": "markdown",
   "id": "9d97ad97-e075-49f7-bd22-324f8993834a",
   "metadata": {},
   "source": [
    "Q4. What are getter and setter in python? Create a class and create a getter and a setter method in this \n",
    "class"
   ]
  },
  {
   "cell_type": "markdown",
   "id": "e5781f27-ec9b-4c81-8409-b7fc814d1722",
   "metadata": {},
   "source": [
    "In Python, Getter And Setter are not same as those in other object oriented programming lamguage.Basically,the main purpose of using getter and setter in object-oriented programs is to ensure data encapsulation."
   ]
  },
  {
   "cell_type": "code",
   "execution_count": 7,
   "id": "cd8d86d0-6652-4743-9732-d835b43264c3",
   "metadata": {},
   "outputs": [
    {
     "data": {
      "text/plain": [
       "2000"
      ]
     },
     "execution_count": 7,
     "metadata": {},
     "output_type": "execute_result"
    }
   ],
   "source": [
    "class product:\n",
    "    def __init__(self,price,name):\n",
    "        self.__price=price\n",
    "        self.name=name\n",
    "    #setter method\n",
    "    def set(self,price):\n",
    "        self.__price=price\n",
    "    #getter method\n",
    "    def get(self):\n",
    "        return self.__price\n",
    "chair=product(35000,\"chair\")\n",
    "chair.get()\n",
    "chair.set(2000)\n",
    "chair.get()"
   ]
  },
  {
   "cell_type": "markdown",
   "id": "6d055579-63cc-43c2-848f-7efad200655e",
   "metadata": {},
   "source": [
    "Q5.What is method overriding in python? Write a python code to demonstrate method overriding."
   ]
  },
  {
   "cell_type": "markdown",
   "id": "0f70d9f8-3134-41ea-a436-a194ef44f832",
   "metadata": {},
   "source": [
    "Method overriding is an ability of any object-oriented programming language that allows a subclass or child class to provide a specific implementation of a method that is already provided by one of its super-classes or parent classes.When a method in a subclass has the same name, same parameters or signature and same return type(or sub-type) as a method in its super-class, then the method in the subclass is said to override the method in the super-class."
   ]
  },
  {
   "cell_type": "code",
   "execution_count": null,
   "id": "84b641a5-8fb1-421e-986d-473a91ba1e01",
   "metadata": {},
   "outputs": [],
   "source": [
    "class shapes():\n",
    "    def no_of_sides(self):\n",
    "        print(\"My sides need to be defined. I am from shape class.\")\n",
    "class tringle(shapes):\n",
    "    def no_of_sides(self,sides):\n",
    "        print(\"I have 4 sides. I am from tringle class\")\n",
    "        "
   ]
  }
 ],
 "metadata": {
  "kernelspec": {
   "display_name": "Python 3 (ipykernel)",
   "language": "python",
   "name": "python3"
  },
  "language_info": {
   "codemirror_mode": {
    "name": "ipython",
    "version": 3
   },
   "file_extension": ".py",
   "mimetype": "text/x-python",
   "name": "python",
   "nbconvert_exporter": "python",
   "pygments_lexer": "ipython3",
   "version": "3.10.8"
  }
 },
 "nbformat": 4,
 "nbformat_minor": 5
}
