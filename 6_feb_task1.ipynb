{
 "cells": [
  {
   "cell_type": "markdown",
   "id": "94d35162-23c8-40c8-9a5d-b1f90e0b0b24",
   "metadata": {},
   "source": [
    "Q1. Create a function which will take a list as an argument and return the product of all the numbers\n",
    "after creating a flat list.\n",
    "Use the below-given list as an argument for your function.\n",
    "list1 = [1,2,3,4, [44,55,66, True], False, (34,56,78,89,34), {1,2,3,3,2,1}, {1:34, \"key2\": [55, 67, 78, 89], 4: (45,\n",
    "22, 61, 34)}, [56, 'data science'], 'Machine Learning']\n",
    "Note: you must extract numeric keys and values of the dictionary also."
   ]
  },
  {
   "cell_type": "code",
   "execution_count": 1,
   "id": "b364c234-ac4e-462f-8626-4433797b7ae5",
   "metadata": {},
   "outputs": [
    {
     "name": "stdout",
     "output_type": "stream",
     "text": [
      "Product of all the numbers:  4134711838987085478833841242112000\n",
      "List of integer number: [1, 2, 3, 4, 44, 55, 66, 34, 56, 78, 89, 34, 1, 2, 3, 1, 4, 34, 55, 67, 78, 89, 45, 22, 61, 34, 56]\n"
     ]
    }
   ],
   "source": [
    "def product(n):\n",
    "    num=[]\n",
    "    for i in n:\n",
    "        if type(i)==int or type(i)==float:\n",
    "            num.append(i)\n",
    "        elif type(i)==list or type(i)== set or type(i)==tuple:\n",
    "            num.extend(product(i))\n",
    "        elif type(i)==dict:\n",
    "            for j in i.keys():\n",
    "                if type(j)==int:\n",
    "                    num.append(j)\n",
    "            for k in i.values():\n",
    "                if type(k)==tuple or type(k)==list or type(k)==set:\n",
    "                    num.extend(product(k))\n",
    "                else:\n",
    "                   num.append(k)1\n",
    "    return num\n",
    "\n",
    "\n",
    "list1 = [1, 2, 3, 4, [44, 55, 66, True], False, (34, 56, 78, 89, 34), {1, 2, 3, 3, 2, 1},  {1: 34, \"key2\": [55, 67, 78, 89], 4: (45, 22, 61, 34)}, [56, 'data science'], 'Machine Learning']\n",
    "p = product(list1)\n",
    "k = 1\n",
    "for i in p:\n",
    "    k *= i\n",
    "print('Product of all the numbers: ',k)\n",
    "print(\"List of integer number:\",p)"
   ]
  },
  {
   "cell_type": "markdown",
   "id": "a57f2e2a-c045-4290-8f93-8134eab616ee",
   "metadata": {},
   "source": [
    "Q2. Write a python program for encrypting a message sent to you by your friend. The logic of encryption\n",
    "should be such that, for a the output should be z. For b, the output should be y. For c, the output should\n",
    "be x respectively. Also, the whitespace should be replaced with a dollar sign. Keep the punctuation\n",
    "marks unchanged.\n",
    "Input Sentence: I want to become a Data Scientist.\n",
    "Encrypt the above input sentence using the program you just created.\n",
    "Note: Convert the given input sentence into lowercase before encrypting. The final output should be\n",
    "lowercase?"
   ]
  },
  {
   "cell_type": "code",
   "execution_count": 1,
   "id": "ca1ed858-1d0a-4bde-af37-dec1ba975928",
   "metadata": {},
   "outputs": [
    {
     "name": "stdin",
     "output_type": "stream",
     "text": [
      "Enter Message Here... I want to become a Data Scientist\n"
     ]
    },
    {
     "name": "stdout",
     "output_type": "stream",
     "text": [
      "r$dzmg$gl$yvxlnv$z$wzgz$hxrvmgrhg\n"
     ]
    }
   ],
   "source": [
    "def encrypt(a):\n",
    "    l1 = [\"a\", \"b\", \"c\", \"d\", \"e\", \"f\", \"g\", \"h\", \"i\", \"j\", \"k\", \"l\", \"m\", \"n\", \"o\", \"p\", \"q\", \"r\", \"s\", \"t\", \"u\", \"v\",\n",
    "          \"w\", \"x\", \"y\", \"z\"]\n",
    "    l2 = l1[::-1]\n",
    "    dic1 = {x: y for (x, y) in zip(l1, l2)}\n",
    "    a.lower()\n",
    "    encryptt = \"\"\n",
    "    for i in a:\n",
    "        if i in dic1:\n",
    "            encryptt += \"\" + dic1[i]\n",
    "        elif i == \" \":\n",
    "            encryptt+=\"$\"\n",
    "    return encryptt\n",
    "\n",
    "\n",
    "i = input(\"Enter Message Here...\")\n",
    "e=encrypt(i)\n",
    "print(e)"
   ]
  },
  {
   "cell_type": "code",
   "execution_count": null,
   "id": "bbbcb52e-82fc-4b14-8f0b-792741736ea3",
   "metadata": {},
   "outputs": [],
   "source": []
  },
  {
   "cell_type": "code",
   "execution_count": null,
   "id": "56feff2c-5259-4528-a3e8-76b70f80360a",
   "metadata": {},
   "outputs": [],
   "source": []
  }
 ],
 "metadata": {
  "kernelspec": {
   "display_name": "Python 3 (ipykernel)",
   "language": "python",
   "name": "python3"
  },
  "language_info": {
   "codemirror_mode": {
    "name": "ipython",
    "version": 3
   },
   "file_extension": ".py",
   "mimetype": "text/x-python",
   "name": "python",
   "nbconvert_exporter": "python",
   "pygments_lexer": "ipython3",
   "version": "3.10.8"
  }
 },
 "nbformat": 4,
 "nbformat_minor": 5
}
