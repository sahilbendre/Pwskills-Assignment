{
 "cells": [
  {
   "cell_type": "markdown",
   "id": "dbf743ba-261d-44b4-b57c-4c67223ed410",
   "metadata": {},
   "source": [
    "Q1. What is multithreading in python? Why is it used? Name the module used to handle threads in python?"
   ]
  },
  {
   "cell_type": "markdown",
   "id": "5cdc1d84-4c9f-464d-b047-8e7936505689",
   "metadata": {},
   "source": [
    "Multithreading in Python refers to the ability of a program to execute multiple threads of execution simultaneously. Each thread runs independently and can perform different tasks simultaneously, which can improve the performance and efficiency of a program.\n",
    "\n",
    "In Python, multithreading is often used to improve the responsiveness of graphical user interfaces (GUIs), to perform background tasks while the main program is running, and to speed up certain types of operations that can be parallelized.\n",
    "\n",
    "The module used to handle threads in Python is called \"threading\"."
   ]
  },
  {
   "cell_type": "markdown",
   "id": "579188a2-2c4a-4348-9a41-84fc26aee9d1",
   "metadata": {},
   "source": [
    "Q2. why threading module used? write the use of the following functions\n",
    "1.activeCount()\n",
    "2.currentThread()\n",
    "3.enumerate()"
   ]
  },
  {
   "cell_type": "markdown",
   "id": "14343e40-7ebc-43dd-ae3c-5985b17c830f",
   "metadata": {},
   "source": [
    "The threading module in Python is used to create and manage threads in a Python program. It provides a simple and convenient way to create and start threads, wait for threads to complete, and coordinate the execution of multiple threads.\n",
    "\n",
    "1.activeCount():It will be Returns the number of thread objects that are active.It can be useful for debugging and monitoring purposes, or to ensure that the program is not creating too many threads and causing performance issues.\n",
    "\n",
    "2.currentThread(): It will be Returns the number of thread objects in the caller's thread control.which represents the thread that is currently executing the function. It can be useful for obtaining information about the current thread, such as its name or ID.\n",
    "\n",
    "3.enumerate():It will be Returns a list of all thread objects that are currently active. It can be useful for debugging and monitoring purposes, or to iterate over all the threads in the program and perform some operation on each of them."
   ]
  },
  {
   "cell_type": "markdown",
   "id": "41e8e4ae-deb6-4404-83a5-4d8552a791bd",
   "metadata": {},
   "source": [
    "Q3. Explain the following functions\n",
    "1. run()\n",
    "2.start()\n",
    "3.join()\n",
    "4.isAlive()"
   ]
  },
  {
   "cell_type": "markdown",
   "id": "e90678e5-d99f-476d-86c9-41995ec8ae34",
   "metadata": {},
   "source": [
    "1.run():The run() method is the entry point for a thread. This function is used to define the behavior ofelated to a thread. When a thread is created, we can define its behavior by subclassing the Thread class and overriding its run() method with our own custom code. When the start() method of the thread object is called, it will execute the run() method of the thread.\n",
    "\n",
    "2.start():The start() method starts a thread by calling the run method.When the start() method is called, a new thread is created and the run() method of the thread is executed in a separate process. The start() method does not block the calling thread; instead, it returns immediately, allowing the caller to continue executing.\n",
    "\n",
    "3.join():This function is used to wait for a thread to complete its execution before proceeding with the rest of the program. When this method is called on a thread object, the calling thread will block until the target thread completes its execution.\n",
    "\n",
    "4.isAlive():This method returns a Boolean value indicating whether a thread is currently executing or not. If the thread is still running, isAlive() returns True; otherwise, it returns False. This method can be used to determine the status of a thread and to take appropriate actions based on its state"
   ]
  },
  {
   "cell_type": "markdown",
   "id": "9b514a06-5e44-4de0-9676-7682e964629a",
   "metadata": {},
   "source": [
    "4. Write a python program to create two threads. Thread one must print the list of squares and thread\n",
    "two must print the list of cubes"
   ]
  },
  {
   "cell_type": "code",
   "execution_count": null,
   "id": "ead13983-a71c-4a49-90ab-047bda00277b",
   "metadata": {},
   "outputs": [],
   "source": [
    "import threading\n",
    "def square_print(n):\n",
    "    square=[n**2 for n in range(1,n+1)]\n",
    "    print(square)\n",
    "def cube_print(n):\n",
    "    cube=[[num**3 for num in range(1,n+1)]]\n",
    "    print(cube)\n",
    "thread1=[threading.Thread(target=square_print,args=(10,))]\n",
    "therad2 = [threading.Thread(target=cube_print , args = (10,) )]\n",
    "\n",
    "for t in thread1 : \n",
    "    t.start()\n",
    "for t in thread2:\n",
    "    t.start()"
   ]
  },
  {
   "cell_type": "markdown",
   "id": "732f40c7-6523-471a-aed2-2b88de025e51",
   "metadata": {},
   "source": [
    "Q5. State advantages and disadvantages of multithreading"
   ]
  },
  {
   "cell_type": "markdown",
   "id": "58401c9f-cf64-4f1d-a0fc-b5cc70e7105e",
   "metadata": {},
   "source": [
    "Advantages of multithreading:\n",
    "\n",
    "Increased performance: Multithreading can lead to significant performance improvements for programs that perform many independent tasks, as it allows different parts of the program to execute simultaneously on different CPU cores.\n",
    "\n",
    "Responsiveness: Multithreading can make programs more responsive, as it allows them to continue executing while waiting for I/O or other blocking operations to complete.\n",
    "\n",
    "Resource sharing: Multithreading allows multiple threads to access shared resources, such as files or databases, without requiring complex coordination mechanisms.\n",
    "\n",
    "Modular design: Multithreading can make programs easier to design and implement by allowing different parts of the program to be executed in separate threads, making the program more modular and easier to maintain.\n",
    "\n",
    "Disadvantages:\n",
    "Synchronization issues: Multithreading requires careful management of shared resources to avoid race conditions and other synchronization issues that can lead to errors or incorrect behavior.\n",
    "Complexity: Multithreading can make programs more complex and harder to debug, as it introduces new sources of bugs and errors related to thread synchronization and communication.\n",
    "Overhead: Creating and managing threads requires additional resources, such as memory and CPU time, which can reduce the overall performance of the program if not managed carefully.\n",
    "Scalability issues: The benefits of multithreading may not scale linearly with the number of CPU cores available, as adding more threads may lead to diminishing returns or even reduce performance in some cases."
   ]
  },
  {
   "cell_type": "markdown",
   "id": "d0923da6-724b-453f-9ebf-baadfe6b9038",
   "metadata": {},
   "source": [
    "Q6. Explain deadlocks and race conditions.\n"
   ]
  },
  {
   "cell_type": "markdown",
   "id": "340b8af9-d4fd-4a12-bc96-4cf1352dfc78",
   "metadata": {},
   "source": [
    "Deadlock: A deadlock is a situation that occurs when two or more threads are blocked forever, waiting for each other to release resources. In other words, each thread is waiting for another thread to release a resource that it needs before it can proceed.\n",
    "Race Condition: A race condition is a situation that occurs when two or more threads access shared data and try to change it at the same time. As a result, the values of the shared data become unpredictable and may lead to incorrect behavior of the program."
   ]
  }
 ],
 "metadata": {
  "kernelspec": {
   "display_name": "Python 3 (ipykernel)",
   "language": "python",
   "name": "python3"
  },
  "language_info": {
   "codemirror_mode": {
    "name": "ipython",
    "version": 3
   },
   "file_extension": ".py",
   "mimetype": "text/x-python",
   "name": "python",
   "nbconvert_exporter": "python",
   "pygments_lexer": "ipython3",
   "version": "3.10.8"
  }
 },
 "nbformat": 4,
 "nbformat_minor": 5
}
