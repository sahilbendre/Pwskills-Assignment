{
 "cells": [
  {
   "cell_type": "markdown",
   "id": "d97a8814-19a9-471d-86bc-939a58716866",
   "metadata": {},
   "source": [
    "Q1. What is Statistics?"
   ]
  },
  {
   "cell_type": "markdown",
   "id": "51bcea49-3fdb-4419-91d4-a6bf9b197075",
   "metadata": {},
   "source": [
    "Statistics in data science is the study of how to collect, analyze, interpret, and present data. It is a branch of mathematics that deals with the analysis of data, which can be used to gain insights, make predictions, and inform decision-making."
   ]
  },
  {
   "cell_type": "markdown",
   "id": "8c3a149e-1b8f-4be6-982c-2cc9e08ec2de",
   "metadata": {},
   "source": [
    "Q2. Define the different types of statistics and give an example of when each type might be used."
   ]
  },
  {
   "cell_type": "markdown",
   "id": "1d81ed2d-4c15-4416-984d-3567ce096ac6",
   "metadata": {},
   "source": [
    "There are two types of Statistics first One is Descriptive Statistics And Second one Inferential Statistics. \n",
    "Descriptive statistics is consists of Organizing and Sumrizing a data,Descriptive statistics is a way to organise, represent and describe a collection of data using tables, graphs, and summary measures. For example, the collection of people in a city using the internet or using Television.\n",
    "Example :- \n",
    "      A researcher collects data on the heights of 100 students in a school. The researcher uses descriptive statistics to summarize the data by calculating the mean height, standard deviation, and creating a histogram to visualize the distribution of heights.\n",
    "\n",
    "whereas Inferential Statistics is  involves making predictions or generalizations about a population based on data from a sample. That means once the data has been collected, analysed and summarised then we use these stats to describe the meaning of the collected data. Or we can say, it is used to draw conclusions from the data that depends on random variations.\n",
    "Example :- \n",
    "       A company wants to determine whether a new product will be successful among its target market. The company collects a sample of data from a group of customers who have purchased the product and uses inferential statistics to determine whether the data supports the conclusion that the product will be successful among the entire target market. The company may use techniques such as hypothesis testing, confidence intervals, or regression analysis to draw conclusions about the population."
   ]
  },
  {
   "cell_type": "markdown",
   "id": "da18549a-3379-4435-8427-928d7dfb58ce",
   "metadata": {},
   "source": [
    "Q3. What are the different types of data and how do they differ from each other? Provide an example of\n",
    "each type of data."
   ]
  },
  {
   "cell_type": "markdown",
   "id": "dabd88ad-b62b-469c-a6a9-8f9aa5f95a1e",
   "metadata": {},
   "source": [
    "There are two major Data types.\n",
    "\n",
    "1.Quantitative Data: The Quantitative Data is the type of the data that represents the numerical value of the data.They are also called the Numerical Data.The Example of Quantitative data  is Number of Bank Account, Number of student in class, height and weight.\n",
    "\n",
    "2.Qualitative Data: As the name suggest Qualitative Data tells the features of the data in the statistics. Qualitative Data is also called Categorical data. The Example of Qualitative Data is customer Feedback(Good,Best,Bad), Gender(M,F),Pincode.\n",
    "\n",
    "Both types of data play an important role in statistical analysis and can provide valuable insights depending on the research question and context."
   ]
  },
  {
   "cell_type": "markdown",
   "id": "e7a29dc5-7cb2-4b0d-b1b3-e275d731bc4e",
   "metadata": {},
   "source": [
    "Q4. Categorise the following datasets with respect to quantitative and qualitative data types?"
   ]
  },
  {
   "cell_type": "markdown",
   "id": "97c98160-95ff-408f-b5dd-60e36f7069b2",
   "metadata": {},
   "source": [
    "(i) Grading in exam: A+, A, B+, B, C+, C, D, E"
   ]
  },
  {
   "cell_type": "markdown",
   "id": "e9c47ec5-d6d5-4e0d-b275-7aebd9b36dd1",
   "metadata": {},
   "source": [
    "- Qualitative Data"
   ]
  },
  {
   "cell_type": "markdown",
   "id": "94318ebf-fc2e-45f9-bbb4-4d8440354c5e",
   "metadata": {},
   "source": [
    "(ii) Colour of mangoes: yellow, green, orange, red"
   ]
  },
  {
   "cell_type": "markdown",
   "id": "93d2aa63-1363-4518-9835-f5c179d01c7d",
   "metadata": {},
   "source": [
    "- Qualitative Data"
   ]
  },
  {
   "cell_type": "markdown",
   "id": "361165b8-9180-4d12-8493-88c40587116c",
   "metadata": {},
   "source": [
    "(iii) Height data of a class: [178.9, 179, 179.5, 176, 177.2, 178.3, 175.8,...]"
   ]
  },
  {
   "cell_type": "markdown",
   "id": "15958b98-6ec2-4851-97d5-3ae6bb652d34",
   "metadata": {},
   "source": [
    "- Quantitative Data"
   ]
  },
  {
   "cell_type": "markdown",
   "id": "a4c91c7c-0734-477f-b392-386814592903",
   "metadata": {},
   "source": [
    "(iv) Number of mangoes exported by a farm: [500, 600, 478, 672, ...]"
   ]
  },
  {
   "cell_type": "markdown",
   "id": "ae4167ae-782d-4550-96fe-b7c99c6347a6",
   "metadata": {},
   "source": [
    "- Quantitative Data"
   ]
  },
  {
   "cell_type": "markdown",
   "id": "8f67ae4b-0f7a-48be-9eed-8f208d930cee",
   "metadata": {},
   "source": [
    "Q5. Explain the concept of levels of measurement and give an example of a variable for each level."
   ]
  },
  {
   "cell_type": "markdown",
   "id": "da39bb30-21c6-44e6-981d-aa2354dc1671",
   "metadata": {},
   "source": [
    "1.Nominal scale data: We can Use Qualitative data That means Categorical Data (e.g. Gender, Colours,City of birth, Gender, Ethnicity, Car brands, Marital status). You can categorize your data by labelling them in mutually exclusive groups but there is Order is Doesn't matter. \n",
    "\n",
    "2.Ordinal Scale Data:  You can categorize and rank your data in an order. but you cannot meassured difference.Example is Customer feedback that Best, Good, Bad. here we can rank them 1.Best, 2.Good, 3.Bad \n",
    "\n",
    "3.Interval scale data: Here we get Numeric variable and rank the data and Difference can be meassured. Ratio cann't be measured and also no \"0\" Starting point. Example the difference between any two adjacent temperatures is the same: one degree. But zero degrees is defined differently depending on the scale – it doesn’t mean an absolute absence of temperature. \n",
    "\n",
    "4.Ratio scale data: Here we get Numeric variable and rank the data and Difference can be meassured also we can measured Ratio and it's contains a \"0\" Starting point. Example Student marks in class that is [60,30,0,50,28]. First we sort the data [0,30,28,50,60], then We Meassured the Difference e.g 50-30=20,60-50=10, we also meassured"
   ]
  },
  {
   "cell_type": "markdown",
   "id": "93dc7df4-5248-45ec-b2cb-bc54519f8912",
   "metadata": {},
   "source": [
    "Q6.Why is it important to understand the level of measurement when analyzing data? Provide an\n",
    "example to illustrate your answer."
   ]
  },
  {
   "cell_type": "markdown",
   "id": "01ce8dd7-6f56-4fe1-854d-67f2a183c910",
   "metadata": {},
   "source": [
    "It is important to understand the level of measurement of variables in research, because the level of measurement determines the type of statistical analysis that can be conducted, and, therefore, the type of conclusions that can be drawn from the research.\n",
    "\n",
    "If a variable is nominal, it is inappropriate to perform calculations such as mean or standard deviation, as these statistics are not meaningful for categorical data. Instead, appropriate measures for nominal data include frequency counts and percentages. If a variable is ordinal, it is appropriate to use measures such as median or mode, but not mean, as the ranking of the values does not necessarily correspond to equal intervals. If a variable is interval or ratio, all three measures (mean, median, and mode) can be used, as well as measures such as standard deviation and correlation.\n",
    "\n",
    "An example to illustrate the importance of understanding the level of measurement is the analysis of income data. If income is measured as a nominal variable with categories such as \"less than 20,000\", \"20,000 to 40,000\", and \"more than 40,000\", it would be inappropriate to calculate the mean income, as the categories do not represent equal intervals. Instead, appropriate measures would include the frequency counts and percentages of individuals in each income category. If income is measured as a ratio variable in dollars, the mean income can be calculated and compared across different groups or time periods, and statistical tests such as t-tests or ANOVA can be used to determine whether there are significant differences in income between groups."
   ]
  },
  {
   "cell_type": "markdown",
   "id": "8a26798e-7853-4975-8459-805a90e016eb",
   "metadata": {},
   "source": [
    "Q7. How nominal data type is different from ordinal data type?"
   ]
  },
  {
   "cell_type": "markdown",
   "id": "84431fde-48ae-47da-98a2-ed37c3f42655",
   "metadata": {},
   "source": [
    "The main differences between Nominal Data and Ordinal Data are:\n",
    "\n",
    "While Nominal Data is classified without any intrinsic ordering or rank, Ordinal Data has some predetermined or natural order. \n",
    "Nominal data is qualitative or categorical data, while Ordinal data is considered “in-between” qualitative and quantitative data.\n",
    "Nominal data do not provide any quantitative value, and you cannot perform numeric operations with them or compare them with one another. However, Ordinal data provide sequence, and it is possible to assign numbers to the data. No numeric operations can be performed. But ordinal data makes it possible to compare one item with another in terms of ranking.  \n",
    "Example of Nominal Data – Eye color, Gender; Example of Ordinal data – Customer Feedback, Economic Status"
   ]
  },
  {
   "cell_type": "markdown",
   "id": "ad0522ad-a7b5-48e4-954f-9ebcf12fec1e",
   "metadata": {},
   "source": [
    "Q8. Which type of plot can be used to display data in terms of range?"
   ]
  },
  {
   "cell_type": "markdown",
   "id": "353fdf18-7d79-441e-9895-5a4560659e11",
   "metadata": {},
   "source": [
    "A type of plot that can be used to display data in terms of range is a box plot (also known as a box-and-whisker plot). A box plot is a graphical representation of the distribution of a set of continuous data, using five summary statistics: the minimum value, the first quartile (Q1), the median, the third quartile (Q3), and the maximum value.\n",
    "\n",
    "For example, a box plot could be used to display the range of temperatures recorded in a city over a given period of time. The minimum and maximum values would be represented by the whiskers, and the box would represent the interquartile range (the middle 50% of the data). The median temperature would be represented by a line inside the box. This would allow for easy comparison of temperature ranges across different months or years, and also identify any unusually high or low temperatures as outliers.\n",
    "\n"
   ]
  },
  {
   "cell_type": "markdown",
   "id": "9e0fb7b1-82c0-42e3-9e20-3aa1f5aba7f7",
   "metadata": {},
   "source": [
    "Q9. Describe the difference between descriptive and inferential statistics. Give an example of each\n",
    "type of statistics and explain how they are used."
   ]
  },
  {
   "cell_type": "markdown",
   "id": "09f53baa-dfa7-40fa-adaf-845fea8e7f4b",
   "metadata": {},
   "source": [
    "Descriptive statistics involves summarizing and describing the main features of a data set, such as measures of central tendency (mean, median, mode) and measures of dispersion (range, standard deviation, variance). Descriptive statistics is used to provide a snapshot or summary of the data, in order to gain an understanding of the characteristics and patterns of the data set.\n",
    "\n",
    "Examples of descriptive statistics include calculating the mean height of a group of people or the standard deviation of their weights.\n",
    "\n",
    "Inferential statistics, on the other hand, involves using statistical methods to make inferences or draw conclusions about a population based on a sample of data. Inferential statistics is used to test hypotheses or answer research questions, by making predictions or generalizations about a larger group based on a smaller subset of data.\n",
    "\n",
    "Examples of inferential statistics include hypothesis testing, confidence intervals, and regression analysis."
   ]
  },
  {
   "cell_type": "markdown",
   "id": "e270bdb9-cb5a-4290-b125-0729ac454e7d",
   "metadata": {},
   "source": [
    "Q10. What are some common measures of central tendency and variability used in statistics? Explain\n",
    "how each measure can be used to describe a dataset."
   ]
  },
  {
   "cell_type": "markdown",
   "id": "a07b67d8-9e38-4276-b30f-595be5f8293a",
   "metadata": {},
   "source": [
    "Some of the common Measures of Central Tendency used in Statistics are:\n",
    "\n",
    "Mean: The arithmetic mean, or average, is calculated by summing all the values in a dataset and dividing by the number of values. The mean is a useful measure of central tendency when the data is normally distributed and there are no extreme values or outliers.\n",
    "\n",
    "Median: The median is the middle value in a dataset when the values are arranged in order. The median is useful when there are extreme values or outliers in the dataset, since it is not affected by these values in the same way as the mean.\n",
    "\n",
    "Mode: The mode is the most common value in a dataset. The mode is useful when dealing with categorical data or discrete variables, where there may be several values that occur with the same frequency.\n",
    "\n",
    "Some of the common Measures of Variability used in Statistics are:\n",
    "\n",
    "Range: The range is the difference between the largest and smallest values in a dataset. The range provides a simple measure of variability, but it can be sensitive to extreme values or outliers.\n",
    "\n",
    "Variance: The variance measures the average squared deviation from the mean in a dataset. The variance is useful when you want to quantify the spread of a dataset, and it is used in many statistical tests and models.\n",
    "\n",
    "Standard deviation: The standard deviation is the square root of the variance. The standard deviation provides a more intuitive measure of variability, since it is in the same units as the original data."
   ]
  },
  {
   "cell_type": "code",
   "execution_count": null,
   "id": "6c1f38d1-1f73-4122-824d-2db16f144ea8",
   "metadata": {},
   "outputs": [],
   "source": []
  }
 ],
 "metadata": {
  "kernelspec": {
   "display_name": "Python 3 (ipykernel)",
   "language": "python",
   "name": "python3"
  },
  "language_info": {
   "codemirror_mode": {
    "name": "ipython",
    "version": 3
   },
   "file_extension": ".py",
   "mimetype": "text/x-python",
   "name": "python",
   "nbconvert_exporter": "python",
   "pygments_lexer": "ipython3",
   "version": "3.10.8"
  }
 },
 "nbformat": 4,
 "nbformat_minor": 5
}
