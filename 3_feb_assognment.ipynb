{
 "cells": [
  {
   "cell_type": "markdown",
   "id": "a973d08f-32fb-4009-aac2-3af720042e36",
   "metadata": {},
   "source": [
    "Q1. Which keyword is used to create a function? Create a function to return a list of odd numbers in the range of 1 to 25?"
   ]
  },
  {
   "cell_type": "markdown",
   "id": "0a128862-cd3b-4a7d-84c5-018ddc688c08",
   "metadata": {},
   "source": [
    "We use def keyword to create a function before Funtion name."
   ]
  },
  {
   "cell_type": "code",
   "execution_count": 57,
   "id": "0b5386cd-1d61-4ce1-b5a1-4cf175df0a62",
   "metadata": {},
   "outputs": [
    {
     "data": {
      "text/plain": [
       "[1, 3, 5, 7, 9, 11, 13, 15, 17, 19, 21, 23, 25]"
      ]
     },
     "execution_count": 57,
     "metadata": {},
     "output_type": "execute_result"
    }
   ],
   "source": [
    "def odd_num():\n",
    "    l=[]\n",
    "    for i in range(1,26):\n",
    "        if i%2!=0:\n",
    "            l.append(i)\n",
    "    return l\n",
    "\n",
    "odd_num()"
   ]
  },
  {
   "cell_type": "markdown",
   "id": "9bdaf2ce-e25b-4145-b591-d874d1bf3a45",
   "metadata": {},
   "source": [
    "Q2. Why *args and **kwargs is used in some functions? Create a function each for *args and **kwargs  to demonstrate their use?"
   ]
  },
  {
   "cell_type": "markdown",
   "id": "2295b1bb-d7f9-40a7-919d-b84b3155466f",
   "metadata": {},
   "source": [
    "args:When we don't sure about how many parameter passed to the function then we will use *args.Python has *args which allow us to pass the variable number of non keyword arguments to function.In this function ,we should use an Asterisk * before parameter name  to pass variavle length argumnet.The arguments are passed as a tuple and these passed arguments make tuple inside the function with same name as the parameter excluding asterisk *."
   ]
  },
  {
   "cell_type": "code",
   "execution_count": 58,
   "id": "1d108020-00a4-4c5c-bff2-eadc0ce08a1a",
   "metadata": {},
   "outputs": [
    {
     "name": "stdout",
     "output_type": "stream",
     "text": [
      "Sum of Number: 123\n",
      "Sum of Number: 268\n",
      "Sum of Number: 188\n",
      "Sum of Number: 276\n"
     ]
    }
   ],
   "source": [
    "def sum_num(*num):\n",
    "    s=0\n",
    "    for n in num:\n",
    "        s+=n\n",
    "    print(\"Sum of Number:\",s)\n",
    "sum_num(45,78)\n",
    "sum_num(45,78,45,100)\n",
    "sum_num(45,78,65)\n",
    "sum_num(45,78,78,63,12)"
   ]
  },
  {
   "cell_type": "markdown",
   "id": "d8601b15-b4d1-40a2-8077-a54eb1878a2a",
   "metadata": {},
   "source": [
    "kwargs:python passed variable length non keyword argument to function Unsing *args But we Can't use this to pass keyword argument.For this problem Python has got a solution called **kwargs, it allows us to pass the variable length of keyword arguments to the function.In the function, we use the double asterisk ** before the parameter name to denote this type of argument. The arguments are passed as a dictionary and these arguments make a dictionary inside function with name same as the parameter excluding double asterisk **."
   ]
  },
  {
   "cell_type": "code",
   "execution_count": 3,
   "id": "40c20a8a-7cf1-454e-a028-dac9720c2567",
   "metadata": {},
   "outputs": [
    {
     "name": "stdout",
     "output_type": "stream",
     "text": [
      "Firstname is john\n",
      "Lastname is Ben\n",
      "Jobprofile is Accountant\n",
      "Firstname is john\n",
      "Lastname is Ben\n",
      "Jobprofile is Accountant\n",
      "salary is 15000\n"
     ]
    }
   ],
   "source": [
    "def staff_doc(**detail):\n",
    "    for i,j in detail.items():\n",
    "        print(\"{} is {}\".format(i,j))\n",
    "\n",
    "staff_doc(Firstname=\"john\",Lastname=\"Ben\",Jobprofile=\"Accountant\")\n",
    "staff_doc(Firstname=\"john\",Lastname=\"Ben\",Jobprofile=\"Accountant\",salary=15000)\n",
    "    "
   ]
  },
  {
   "cell_type": "markdown",
   "id": "6e57e8c3-f46b-4428-a8e2-31a9970d926c",
   "metadata": {},
   "source": [
    "Q3.What is an iterator in python? Name the method used to initialise the iterator object and the method \n",
    "used for iteration. Use these methods to print the first five elements of the given list [2, 4, 6, 8, 10, 12, 14, \n",
    "16, 18, 20]?"
   ]
  },
  {
   "cell_type": "markdown",
   "id": "fd250c7e-3c93-4834-b42f-796e07c278fb",
   "metadata": {},
   "source": [
    "In python ,iterator is an object that is iterate over iterable objects like lists,tuples,dicts and sets.The iterator object is intialize using iter()method and it is use next() method for iteration.\n",
    "__iter__(): The iter() method is called for the initialization of an iterator. This returns an iterator object.\n",
    "__next__(): The next() method is return next value for the itrable.when we use for loop to travers any itrable object ,internally it used the iter() method to get an iterator object ,which further use next() method to iterate over.This method raises a StopIteration to signal the end of the iteration."
   ]
  },
  {
   "cell_type": "code",
   "execution_count": 4,
   "id": "8d647651-8f3f-4396-81dc-309c11d5f330",
   "metadata": {},
   "outputs": [
    {
     "name": "stdout",
     "output_type": "stream",
     "text": [
      "2\n",
      "4\n",
      "6\n",
      "8\n",
      "10\n"
     ]
    }
   ],
   "source": [
    "l=[2, 4, 6, 8, 10, 12, 14, 16, 18, 20]\n",
    "i=iter(l)\n",
    "print(next(i))\n",
    "print(next(i))\n",
    "print(next(i))\n",
    "print(next(i))\n",
    "print(next(i))"
   ]
  },
  {
   "cell_type": "markdown",
   "id": "d4c770dd-6aa3-46e8-aa64-0e13dd5bf136",
   "metadata": {},
   "source": [
    "Q4.What is a generator function in python? Why yield keyword is used? Give an example of a generator function?"
   ]
  },
  {
   "cell_type": "markdown",
   "id": "61a52443-4c26-4ea6-af84-2dbb1a9652b9",
   "metadata": {},
   "source": [
    "In python, a generator is a function that return iterator that produce sequence of values when iterated over.Generator are Useful when we want to produce large  sequence of values but we don't want store all of them in memory at once.Generator function is defined like a normal function but whenever it needs to generate a value ,it does so with the yeild keyword insted of return function.If the body of a def contains yield, the function automatically becomes a generator function. "
   ]
  },
  {
   "cell_type": "code",
   "execution_count": 2,
   "id": "1eda3dd0-21f9-472d-84eb-6156b613a72d",
   "metadata": {},
   "outputs": [
    {
     "name": "stdout",
     "output_type": "stream",
     "text": [
      "2\n",
      "4\n",
      "6\n",
      "8\n",
      "10\n",
      "12\n",
      "14\n"
     ]
    }
   ],
   "source": [
    "def gen_num():\n",
    "    ''' This generator function yields even number '''\n",
    "    l1=list(range(1,15))\n",
    "    for i in l1:\n",
    "        if i%2==0:\n",
    "            yield i\n",
    "for enen_num in gen_num():\n",
    "    print(enen_num)"
   ]
  },
  {
   "cell_type": "markdown",
   "id": "5f7a010b-8b12-408a-a0da-178a6734eed1",
   "metadata": {},
   "source": [
    "Q5. Create a generator function for prime numbers less than 1000. Use the next() method to print the first 20 prime numbers"
   ]
  },
  {
   "cell_type": "code",
   "execution_count": 29,
   "id": "34fb3ad5-0015-4550-85e9-ecc7d337db3c",
   "metadata": {},
   "outputs": [
    {
     "name": "stdout",
     "output_type": "stream",
     "text": [
      "2\n",
      "3\n",
      "5\n",
      "7\n",
      "11\n",
      "13\n",
      "17\n",
      "19\n",
      "23\n",
      "29\n",
      "31\n",
      "37\n",
      "41\n",
      "43\n",
      "47\n",
      "53\n",
      "59\n",
      "61\n",
      "67\n",
      "71\n"
     ]
    }
   ],
   "source": [
    "def gen_prime():\n",
    "    l=[]\n",
    "    for i in range(2,1000):\n",
    "        for j in range(2,i):\n",
    "            if i%j==0:\n",
    "                break\n",
    "        else: \n",
    "            l.append(i)\n",
    "            yield i\n",
    "\n",
    "            \n",
    "k=gen_prime()\n",
    "for i in range(1,21):\n",
    "    print(next(k))"
   ]
  },
  {
   "cell_type": "markdown",
   "id": "e077b970-397e-4b5b-b0f3-51dcee4d202d",
   "metadata": {},
   "source": [
    "Q6.Write a python program to print the first 10 Fibonacci numbers using a while loop"
   ]
  },
  {
   "cell_type": "code",
   "execution_count": 36,
   "id": "47c6bb52-e491-4d8a-808f-e5ef9ff547d1",
   "metadata": {},
   "outputs": [
    {
     "name": "stdout",
     "output_type": "stream",
     "text": [
      "0\n",
      "1\n",
      "1\n",
      "2\n",
      "3\n",
      "5\n",
      "8\n",
      "13\n",
      "21\n",
      "34\n"
     ]
    }
   ],
   "source": [
    "def fib_series(n):\n",
    "    a,b=0,1\n",
    "    i=1\n",
    "    while i<=n:\n",
    "        print(a)\n",
    "        c=a+b\n",
    "        a=b\n",
    "        b=c\n",
    "        i+=1\n",
    "        \n",
    "fib_series(10)\n",
    "        \n",
    "    "
   ]
  },
  {
   "cell_type": "markdown",
   "id": "4aeb1b2f-61d1-4b55-a6ba-6c0ce3318972",
   "metadata": {},
   "source": [
    "Q7. Write a List Comprehension to iterate through the given string: ‘pwskills’?\n",
    "\n",
    "Expected output:['p', 'w', 's', 'k', 'i', 'l', 'l', 's'] "
   ]
  },
  {
   "cell_type": "code",
   "execution_count": 38,
   "id": "7adc3176-cfd0-4dd0-9821-3f6d6e1b8070",
   "metadata": {},
   "outputs": [
    {
     "name": "stdout",
     "output_type": "stream",
     "text": [
      "['p', 'w', 's', 'k', 'i', 'l', 'l', 's']\n"
     ]
    }
   ],
   "source": [
    "s=\"pwskills\"\n",
    "l=[x for x in s]\n",
    "print(l)"
   ]
  },
  {
   "cell_type": "markdown",
   "id": "f1d55679-3f00-4ec1-ae91-f68bc1168ec6",
   "metadata": {},
   "source": [
    "Q8.Write a python program to check whether a given number is Palindrome or not using a while loop."
   ]
  },
  {
   "cell_type": "code",
   "execution_count": 52,
   "id": "bd7faad2-4265-45ea-bf82-9bcb924d08ba",
   "metadata": {},
   "outputs": [
    {
     "name": "stdin",
     "output_type": "stream",
     "text": [
      "Enter a number to check the number is palindrome or not 12321\n"
     ]
    },
    {
     "name": "stdout",
     "output_type": "stream",
     "text": [
      "The Number is Palindrome\n"
     ]
    }
   ],
   "source": [
    "num=int(input(\"Enter a number to check the number is palindrome or not\"))\n",
    "temp=num\n",
    "reverse=0\n",
    "while num>0:\n",
    "    digit=num%10\n",
    "    reverse=reverse*10+digit\n",
    "    num=num//10\n",
    "if temp==reverse:\n",
    "    print(\"The Number is Palindrome\")\n",
    "else:\n",
    "    print(\"The Number is Not a palindrome \")\n",
    "    "
   ]
  },
  {
   "cell_type": "markdown",
   "id": "8787ef3a-bf9e-4812-abe2-4bd282d8248c",
   "metadata": {},
   "source": [
    "Q9. Write a code to print odd numbers from 1 to 100 using list comprehension.\n",
    "\n",
    "Note: Use a list comprehension to create a list from 1 to 100 and use another List comprehension to filter \n",
    "out odd numbers."
   ]
  },
  {
   "cell_type": "code",
   "execution_count": 56,
   "id": "76685062-b9a0-48e0-98c1-3f9004f4cb90",
   "metadata": {},
   "outputs": [
    {
     "name": "stdout",
     "output_type": "stream",
     "text": [
      "[1, 3, 5, 7, 9, 11, 13, 15, 17, 19, 21, 23, 25, 27, 29, 31, 33, 35, 37, 39, 41, 43, 45, 47, 49, 51, 53, 55, 57, 59, 61, 63, 65, 67, 69, 71, 73, 75, 77, 79, 81, 83, 85, 87, 89, 91, 93, 95, 97, 99] "
     ]
    }
   ],
   "source": [
    "rangelist=[x for x in range(1,100)]\n",
    "odd_num=[i for i in rangelist if i%2==1]\n",
    "print(odd_num,end=\" \")"
   ]
  }
 ],
 "metadata": {
  "kernelspec": {
   "display_name": "Python 3 (ipykernel)",
   "language": "python",
   "name": "python3"
  },
  "language_info": {
   "codemirror_mode": {
    "name": "ipython",
    "version": 3
   },
   "file_extension": ".py",
   "mimetype": "text/x-python",
   "name": "python",
   "nbconvert_exporter": "python",
   "pygments_lexer": "ipython3",
   "version": "3.10.8"
  }
 },
 "nbformat": 4,
 "nbformat_minor": 5
}
