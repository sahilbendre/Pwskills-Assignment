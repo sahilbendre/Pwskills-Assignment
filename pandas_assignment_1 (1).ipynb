{
 "cells": [
  {
   "cell_type": "markdown",
   "id": "03c11a8b-8269-461f-a705-d37148fde6ae",
   "metadata": {},
   "source": [
    "Q1. Create a Pandas Series that contains the following data: 4, 8, 15, 16, 23, and 42. Then, print the series?"
   ]
  },
  {
   "cell_type": "code",
   "execution_count": null,
   "id": "5740e337-e09e-4d52-8119-226f786323f4",
   "metadata": {},
   "outputs": [
    {
     "data": {
      "text/plain": [
       "0     4\n",
       "1     8\n",
       "2    15\n",
       "3    16\n",
       "4    23\n",
       "5    42\n",
       "dtype: int64"
      ]
     },
     "execution_count": 4,
     "metadata": {},
     "output_type": "execute_result"
    }
   ],
   "source": [
    "import pandas as pd \n",
    "data=[4, 8, 15, 16, 23,42]\n",
    "pd.Series(data)"
   ]
  },
  {
   "cell_type": "markdown",
   "id": "93037c25-a9e0-4a24-b09b-73e25a5809b9",
   "metadata": {},
   "source": [
    "Q2. Create a variable of list type containing 10 elements in it, and apply pandas.Series function on the\n",
    "variable print it?"
   ]
  },
  {
   "cell_type": "code",
   "execution_count": null,
   "id": "c86c564b-93e3-4fde-ba53-68e54186d9f0",
   "metadata": {},
   "outputs": [
    {
     "data": {
      "text/plain": [
       "0      bow\n",
       "1    erase\n",
       "2     john\n",
       "3       45\n",
       "4       96\n",
       "5       12\n",
       "6       74\n",
       "7       l1\n",
       "8       a1\n",
       "9       e1\n",
       "dtype: object"
      ]
     },
     "execution_count": 6,
     "metadata": {},
     "output_type": "execute_result"
    }
   ],
   "source": [
    "data_list=[\"bow\",\"erase\",\"john\",45,96,12,74,\"l1\",\"a1\",\"e1\"]\n",
    "pd.Series(data_list)"
   ]
  },
  {
   "cell_type": "markdown",
   "id": "898a524c-f5e7-4e7c-b938-5047ce7f2fcc",
   "metadata": {},
   "source": [
    "Q3. Create a Pandas DataFrame that contains the following data:\n",
    "Name     Age     Gender\n",
    "Alice    25      Female\n",
    "Bob      30      Male\n",
    "Claire   27      Female\n",
    "Then, print the DataFrame."
   ]
  },
  {
   "cell_type": "code",
   "execution_count": 15,
   "id": "290de5b4-89b8-4f3b-b838-06f6f49c50f6",
   "metadata": {},
   "outputs": [],
   "source": [
    "dl={\"Name\":[\"Alice\",\"Bob\",\"Claire\"],\n",
    "    \"Age\":[25,30,27],\n",
    "    \"Gender\":[\"Female\",\"Male\",\"Female\"]}"
   ]
  },
  {
   "cell_type": "code",
   "execution_count": 17,
   "id": "1c07b3da-933b-48b5-a75f-09aa041f4d56",
   "metadata": {},
   "outputs": [
    {
     "data": {
      "text/html": [
       "<div>\n",
       "<style scoped>\n",
       "    .dataframe tbody tr th:only-of-type {\n",
       "        vertical-align: middle;\n",
       "    }\n",
       "\n",
       "    .dataframe tbody tr th {\n",
       "        vertical-align: top;\n",
       "    }\n",
       "\n",
       "    .dataframe thead th {\n",
       "        text-align: right;\n",
       "    }\n",
       "</style>\n",
       "<table border=\"1\" class=\"dataframe\">\n",
       "  <thead>\n",
       "    <tr style=\"text-align: right;\">\n",
       "      <th></th>\n",
       "      <th>Name</th>\n",
       "      <th>Age</th>\n",
       "      <th>Gender</th>\n",
       "    </tr>\n",
       "  </thead>\n",
       "  <tbody>\n",
       "    <tr>\n",
       "      <th>0</th>\n",
       "      <td>Alice</td>\n",
       "      <td>25</td>\n",
       "      <td>Female</td>\n",
       "    </tr>\n",
       "    <tr>\n",
       "      <th>1</th>\n",
       "      <td>Bob</td>\n",
       "      <td>30</td>\n",
       "      <td>Male</td>\n",
       "    </tr>\n",
       "    <tr>\n",
       "      <th>2</th>\n",
       "      <td>Claire</td>\n",
       "      <td>27</td>\n",
       "      <td>Female</td>\n",
       "    </tr>\n",
       "  </tbody>\n",
       "</table>\n",
       "</div>"
      ],
      "text/plain": [
       "     Name  Age  Gender\n",
       "0   Alice   25  Female\n",
       "1     Bob   30    Male\n",
       "2  Claire   27  Female"
      ]
     },
     "execution_count": 17,
     "metadata": {},
     "output_type": "execute_result"
    }
   ],
   "source": [
    "pd.DataFrame(dl)"
   ]
  },
  {
   "cell_type": "markdown",
   "id": "14969854-18a4-43ae-8e4d-9c08892c2495",
   "metadata": {},
   "source": [
    "Q4. What is ‘DataFrame’ in pandas and how is it different from pandas.series? Explain with an example."
   ]
  },
  {
   "cell_type": "markdown",
   "id": "b80af106-0332-4a4a-8ba5-cb69cbd9fabd",
   "metadata": {},
   "source": [
    "A Pandas DataFrame is a 2 dimensional data structure, like a 2 dimensional array, or a table with rows and columns.DataFrame  can be  store data of different types (e.g., numerical, categorical, textual) in rows and columns,similar to a spreadsheet or SQL table.\n",
    "\n",
    "A DataFrame consists of rows and columns, where each column can be thought of as a Series object"
   ]
  },
  {
   "cell_type": "code",
   "execution_count": 24,
   "id": "17c5ca20-979f-4102-a4b5-be02b7b66213",
   "metadata": {},
   "outputs": [
    {
     "name": "stdout",
     "output_type": "stream",
     "text": [
      "     Name  Age  Gender\n",
      "0   Alice   25  Female\n",
      "1     Bob   30    Male\n",
      "2  Claire   27  Female\n"
     ]
    },
    {
     "data": {
      "text/plain": [
       "pandas.core.frame.DataFrame"
      ]
     },
     "execution_count": 24,
     "metadata": {},
     "output_type": "execute_result"
    }
   ],
   "source": [
    "dl={\"Name\":[\"Alice\",\"Bob\",\"Claire\"],\n",
    "    \"Age\":[25,30,27],\n",
    "    \"Gender\":[\"Female\",\"Male\",\"Female\"]}\n",
    "g=pd.DataFrame(dl)\n",
    "print(g)\n",
    "type(g)\n"
   ]
  },
  {
   "cell_type": "markdown",
   "id": "9933873a-5486-4662-95f7-cf160e06b279",
   "metadata": {},
   "source": [
    "Series: A Series is a 1-dimensional labeled array that can store homogeneous data of any type (e.g., integer, float, string, etc.). In other words, a Series is a single column of a DataFrame."
   ]
  },
  {
   "cell_type": "code",
   "execution_count": 26,
   "id": "a8b3b55c-8470-4b8a-93c2-cd005d842c7f",
   "metadata": {},
   "outputs": [
    {
     "name": "stdout",
     "output_type": "stream",
     "text": [
      "0     Alice\n",
      "1       Bob\n",
      "2    Claire\n",
      "Name: Name, dtype: object\n"
     ]
    },
    {
     "data": {
      "text/plain": [
       "pandas.core.series.Series"
      ]
     },
     "execution_count": 26,
     "metadata": {},
     "output_type": "execute_result"
    }
   ],
   "source": [
    "print(g[\"Name\"])\n",
    "type(g[\"Name\"])"
   ]
  },
  {
   "cell_type": "markdown",
   "id": "30c1fad9-57b8-4805-901e-4df3954ef214",
   "metadata": {},
   "source": [
    "Q5. What are some common functions you can use to manipulate data in a Pandas DataFrame? Can\n",
    "you give an example of when you might use one of these functions?"
   ]
  },
  {
   "cell_type": "code",
   "execution_count": 29,
   "id": "66870abf-51e3-494c-96d6-4a67bdc79747",
   "metadata": {},
   "outputs": [],
   "source": [
    "data={\"job_p\":[\"Python Developer\",\"Android Developer\",\"Software Development\"]\n",
    "      ,\"salary\":[50000,60000,70000],\"location\":[\"Delhi\",\"Mumbai\",\"Banglore\"]}\n",
    "df=pd.DataFrame(data)"
   ]
  },
  {
   "cell_type": "markdown",
   "id": "4436097f-049a-4d85-b47e-4dedf85af3ce",
   "metadata": {},
   "source": [
    " Some of the commons functions that were discussed during  lecture that can be used to manipulate data in Pandas are\n",
    "\n",
    "1.df.head(n):In Pandas, df.head(n) is a method of a DataFrame object that returns the first n rows of the DataFrame,and if we not assign n value then it will be return first 5 rows."
   ]
  },
  {
   "cell_type": "code",
   "execution_count": 32,
   "id": "7fcfcf2d-7a47-4d6c-a360-341a39ce3eaf",
   "metadata": {},
   "outputs": [
    {
     "data": {
      "text/html": [
       "<div>\n",
       "<style scoped>\n",
       "    .dataframe tbody tr th:only-of-type {\n",
       "        vertical-align: middle;\n",
       "    }\n",
       "\n",
       "    .dataframe tbody tr th {\n",
       "        vertical-align: top;\n",
       "    }\n",
       "\n",
       "    .dataframe thead th {\n",
       "        text-align: right;\n",
       "    }\n",
       "</style>\n",
       "<table border=\"1\" class=\"dataframe\">\n",
       "  <thead>\n",
       "    <tr style=\"text-align: right;\">\n",
       "      <th></th>\n",
       "      <th>job_p</th>\n",
       "      <th>salary</th>\n",
       "      <th>location</th>\n",
       "    </tr>\n",
       "  </thead>\n",
       "  <tbody>\n",
       "    <tr>\n",
       "      <th>0</th>\n",
       "      <td>Python Developer</td>\n",
       "      <td>50000</td>\n",
       "      <td>Delhi</td>\n",
       "    </tr>\n",
       "    <tr>\n",
       "      <th>1</th>\n",
       "      <td>Android Developer</td>\n",
       "      <td>60000</td>\n",
       "      <td>Mumbai</td>\n",
       "    </tr>\n",
       "    <tr>\n",
       "      <th>2</th>\n",
       "      <td>Software Development</td>\n",
       "      <td>70000</td>\n",
       "      <td>Banglore</td>\n",
       "    </tr>\n",
       "  </tbody>\n",
       "</table>\n",
       "</div>"
      ],
      "text/plain": [
       "                  job_p  salary  location\n",
       "0      Python Developer   50000     Delhi\n",
       "1     Android Developer   60000    Mumbai\n",
       "2  Software Development   70000  Banglore"
      ]
     },
     "execution_count": 32,
     "metadata": {},
     "output_type": "execute_result"
    }
   ],
   "source": [
    "df.head()"
   ]
  },
  {
   "cell_type": "markdown",
   "id": "f64c5a5a-01f0-4261-b388-e3cb510b1f07",
   "metadata": {},
   "source": [
    "1.df.tail(n):In Pandas, df.tail(n) is a method of a DataFrame object that returns the last n rows of the DataFrame,and if we not pass argument n value then it will be return last 5 rows."
   ]
  },
  {
   "cell_type": "code",
   "execution_count": 31,
   "id": "d114f6f3-84b2-464d-ad3e-1f3cf95a4640",
   "metadata": {},
   "outputs": [
    {
     "data": {
      "text/html": [
       "<div>\n",
       "<style scoped>\n",
       "    .dataframe tbody tr th:only-of-type {\n",
       "        vertical-align: middle;\n",
       "    }\n",
       "\n",
       "    .dataframe tbody tr th {\n",
       "        vertical-align: top;\n",
       "    }\n",
       "\n",
       "    .dataframe thead th {\n",
       "        text-align: right;\n",
       "    }\n",
       "</style>\n",
       "<table border=\"1\" class=\"dataframe\">\n",
       "  <thead>\n",
       "    <tr style=\"text-align: right;\">\n",
       "      <th></th>\n",
       "      <th>job_p</th>\n",
       "      <th>salary</th>\n",
       "      <th>location</th>\n",
       "    </tr>\n",
       "  </thead>\n",
       "  <tbody>\n",
       "    <tr>\n",
       "      <th>1</th>\n",
       "      <td>Android Developer</td>\n",
       "      <td>60000</td>\n",
       "      <td>Mumbai</td>\n",
       "    </tr>\n",
       "    <tr>\n",
       "      <th>2</th>\n",
       "      <td>Software Development</td>\n",
       "      <td>70000</td>\n",
       "      <td>Banglore</td>\n",
       "    </tr>\n",
       "  </tbody>\n",
       "</table>\n",
       "</div>"
      ],
      "text/plain": [
       "                  job_p  salary  location\n",
       "1     Android Developer   60000    Mumbai\n",
       "2  Software Development   70000  Banglore"
      ]
     },
     "execution_count": 31,
     "metadata": {},
     "output_type": "execute_result"
    }
   ],
   "source": [
    "df.tail(2)"
   ]
  },
  {
   "cell_type": "markdown",
   "id": "fad42f29-362f-485b-a4ce-e631448939a0",
   "metadata": {},
   "source": [
    "3.df.columns: df.columns returns the column names of a dataframe\n"
   ]
  },
  {
   "cell_type": "code",
   "execution_count": 34,
   "id": "66c9a557-8934-488a-a1f1-de06d2856d62",
   "metadata": {},
   "outputs": [
    {
     "data": {
      "text/plain": [
       "Index(['job_p', 'salary', 'location'], dtype='object')"
      ]
     },
     "execution_count": 34,
     "metadata": {},
     "output_type": "execute_result"
    }
   ],
   "source": [
    "df.columns"
   ]
  },
  {
   "cell_type": "markdown",
   "id": "f50cd8ba-d0fb-404b-9277-c7b5c4659e84",
   "metadata": {},
   "source": [
    "4.df.dtypes: returns the data type of all the columns in a dataframe"
   ]
  },
  {
   "cell_type": "code",
   "execution_count": 38,
   "id": "2627a625-0035-41ed-ab65-f2c48771406e",
   "metadata": {},
   "outputs": [
    {
     "data": {
      "text/plain": [
       "job_p       object\n",
       "salary       int64\n",
       "location    object\n",
       "dtype: object"
      ]
     },
     "execution_count": 38,
     "metadata": {},
     "output_type": "execute_result"
    }
   ],
   "source": [
    "df.dtypes"
   ]
  },
  {
   "cell_type": "markdown",
   "id": "1e16c9f2-38ec-41ff-9896-91d760c95b01",
   "metadata": {},
   "source": [
    "5.df.shape: returns the number of rows and columns in the DataFrame."
   ]
  },
  {
   "cell_type": "code",
   "execution_count": 39,
   "id": "72e0a8fd-f068-4b44-b4d2-5ffe93dc23be",
   "metadata": {},
   "outputs": [
    {
     "data": {
      "text/plain": [
       "(3, 3)"
      ]
     },
     "execution_count": 39,
     "metadata": {},
     "output_type": "execute_result"
    }
   ],
   "source": [
    "df.shape"
   ]
  },
  {
   "cell_type": "markdown",
   "id": "8b81c1f8-55dd-4b4b-84a6-132ee5c8af08",
   "metadata": {},
   "source": [
    "6.df[]: is not a pandas method, but it can be used to access a single column from a datframe."
   ]
  },
  {
   "cell_type": "code",
   "execution_count": 42,
   "id": "ea2ea2f9-1921-43a4-97d0-42f825397764",
   "metadata": {},
   "outputs": [
    {
     "data": {
      "text/plain": [
       "0    50000\n",
       "1    60000\n",
       "2    70000\n",
       "Name: salary, dtype: int64"
      ]
     },
     "execution_count": 42,
     "metadata": {},
     "output_type": "execute_result"
    }
   ],
   "source": [
    "df[\"salary\"]"
   ]
  },
  {
   "cell_type": "markdown",
   "id": "1c70f335-0e35-423a-a7a7-4072129be5e1",
   "metadata": {},
   "source": [
    "7.df[[]]: is not a pandas method, but can be used to access multiple columns of a dataframe"
   ]
  },
  {
   "cell_type": "code",
   "execution_count": 43,
   "id": "ecebdd57-2523-41ad-a331-5c24cafcee13",
   "metadata": {},
   "outputs": [
    {
     "data": {
      "text/html": [
       "<div>\n",
       "<style scoped>\n",
       "    .dataframe tbody tr th:only-of-type {\n",
       "        vertical-align: middle;\n",
       "    }\n",
       "\n",
       "    .dataframe tbody tr th {\n",
       "        vertical-align: top;\n",
       "    }\n",
       "\n",
       "    .dataframe thead th {\n",
       "        text-align: right;\n",
       "    }\n",
       "</style>\n",
       "<table border=\"1\" class=\"dataframe\">\n",
       "  <thead>\n",
       "    <tr style=\"text-align: right;\">\n",
       "      <th></th>\n",
       "      <th>salary</th>\n",
       "      <th>location</th>\n",
       "    </tr>\n",
       "  </thead>\n",
       "  <tbody>\n",
       "    <tr>\n",
       "      <th>0</th>\n",
       "      <td>50000</td>\n",
       "      <td>Delhi</td>\n",
       "    </tr>\n",
       "    <tr>\n",
       "      <th>1</th>\n",
       "      <td>60000</td>\n",
       "      <td>Mumbai</td>\n",
       "    </tr>\n",
       "    <tr>\n",
       "      <th>2</th>\n",
       "      <td>70000</td>\n",
       "      <td>Banglore</td>\n",
       "    </tr>\n",
       "  </tbody>\n",
       "</table>\n",
       "</div>"
      ],
      "text/plain": [
       "   salary  location\n",
       "0   50000     Delhi\n",
       "1   60000    Mumbai\n",
       "2   70000  Banglore"
      ]
     },
     "execution_count": 43,
     "metadata": {},
     "output_type": "execute_result"
    }
   ],
   "source": [
    "df[[\"salary\",\"location\"]]"
   ]
  },
  {
   "cell_type": "markdown",
   "id": "28b85027-e0d8-44a5-8e64-ed55b3fd4ebf",
   "metadata": {},
   "source": [
    "Q6. Which of the following is mutable in nature Series, DataFrame, Panel?"
   ]
  },
  {
   "cell_type": "markdown",
   "id": "94231878-ac18-4cb0-9a2f-901787781302",
   "metadata": {},
   "source": [
    "Pandas Series, DataFrame and Panel all of them are mutable but panel has been deprecated and is no longer recommended for use"
   ]
  },
  {
   "cell_type": "markdown",
   "id": "5e2f9206-dd86-49a8-8c1c-80e45a0a8101",
   "metadata": {},
   "source": [
    "Q7. Create a DataFrame using multiple Series. Explain with an example."
   ]
  },
  {
   "cell_type": "code",
   "execution_count": 51,
   "id": "f5522c5c-48f1-46e8-b8cb-bccd8a63eed4",
   "metadata": {},
   "outputs": [
    {
     "data": {
      "text/html": [
       "<div>\n",
       "<style scoped>\n",
       "    .dataframe tbody tr th:only-of-type {\n",
       "        vertical-align: middle;\n",
       "    }\n",
       "\n",
       "    .dataframe tbody tr th {\n",
       "        vertical-align: top;\n",
       "    }\n",
       "\n",
       "    .dataframe thead th {\n",
       "        text-align: right;\n",
       "    }\n",
       "</style>\n",
       "<table border=\"1\" class=\"dataframe\">\n",
       "  <thead>\n",
       "    <tr style=\"text-align: right;\">\n",
       "      <th></th>\n",
       "      <th>cl</th>\n",
       "      <th>cl2</th>\n",
       "      <th>cl3</th>\n",
       "    </tr>\n",
       "  </thead>\n",
       "  <tbody>\n",
       "    <tr>\n",
       "      <th>0</th>\n",
       "      <td>45.0</td>\n",
       "      <td>78</td>\n",
       "      <td>45.0</td>\n",
       "    </tr>\n",
       "    <tr>\n",
       "      <th>1</th>\n",
       "      <td>89.0</td>\n",
       "      <td>65</td>\n",
       "      <td>32.0</td>\n",
       "    </tr>\n",
       "    <tr>\n",
       "      <th>2</th>\n",
       "      <td>74.0</td>\n",
       "      <td>41</td>\n",
       "      <td>78.0</td>\n",
       "    </tr>\n",
       "    <tr>\n",
       "      <th>3</th>\n",
       "      <td>63.0</td>\n",
       "      <td>78</td>\n",
       "      <td>6.0</td>\n",
       "    </tr>\n",
       "    <tr>\n",
       "      <th>4</th>\n",
       "      <td>NaN</td>\n",
       "      <td>2</td>\n",
       "      <td>NaN</td>\n",
       "    </tr>\n",
       "  </tbody>\n",
       "</table>\n",
       "</div>"
      ],
      "text/plain": [
       "     cl  cl2   cl3\n",
       "0  45.0   78  45.0\n",
       "1  89.0   65  32.0\n",
       "2  74.0   41  78.0\n",
       "3  63.0   78   6.0\n",
       "4   NaN    2   NaN"
      ]
     },
     "execution_count": 51,
     "metadata": {},
     "output_type": "execute_result"
    }
   ],
   "source": [
    "s1=pd.Series([45,89,74,63])\n",
    "s2=pd.Series([78,65,41,78,2])\n",
    "s3=pd.Series([45,32,78,6])\n",
    "pd.DataFrame({\"cl\":s1,\"cl2\":s2,\"cl3\":s3})"
   ]
  },
  {
   "cell_type": "code",
   "execution_count": null,
   "id": "8d360a6b-ef0e-4ba0-be61-be68552449f2",
   "metadata": {},
   "outputs": [],
   "source": []
  }
 ],
 "metadata": {
  "kernelspec": {
   "display_name": "Python 3 (ipykernel)",
   "language": "python",
   "name": "python3"
  },
  "language_info": {
   "codemirror_mode": {
    "name": "ipython",
    "version": 3
   },
   "file_extension": ".py",
   "mimetype": "text/x-python",
   "name": "python",
   "nbconvert_exporter": "python",
   "pygments_lexer": "ipython3",
   "version": "3.10.8"
  }
 },
 "nbformat": 4,
 "nbformat_minor": 5
}
