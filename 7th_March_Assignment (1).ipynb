{
 "cells": [
  {
   "cell_type": "markdown",
   "id": "85972c1e-187d-4b85-99e7-80473b81ffe8",
   "metadata": {},
   "source": [
    "Q1. What are the three measures of central tendency?"
   ]
  },
  {
   "cell_type": "markdown",
   "id": "4db4f76c-bffe-4842-8350-ebf8fd934bac",
   "metadata": {},
   "source": [
    "The three measures of central tendency are:\n",
    "\n",
    "1.Mean\n",
    "\n",
    "2.Median\n",
    "\n",
    "3.Mode"
   ]
  },
  {
   "cell_type": "markdown",
   "id": "ba189c8b-e7e8-48bc-b734-68fdd3e46946",
   "metadata": {},
   "source": [
    "Q2. What is the difference between the mean, median, and mode? How are they used to measure the\n",
    "central tendency of a dataset?"
   ]
  },
  {
   "cell_type": "markdown",
   "id": "d026f1ff-87b2-4621-bdf2-53781c299663",
   "metadata": {},
   "source": [
    "Mean: The arithmetic mean, or average, is calculated by summing all the values in a dataset and dividing by the number of values. The mean is a useful measure of central tendency when the data is normally distributed and there are no extreme values or outliers.\n",
    "\n",
    "Median: The median is the middle value in a dataset when the values are arranged in order. The median is useful when there are extreme values or outliers in the dataset, since it is not affected by these values in the same way as the mean.\n",
    "\n",
    "Mode: The mode is the most common value in a dataset. The mode is useful when dealing with categorical data or discrete variables, where there may be several values that occur with the same frequency.\n",
    "\n",
    "All three measures can be used to give an idea of where the \"middle\" of the data lies. The choice of which measure to use will depend on the specific context and the nature of the data set. For example, the mean might be the most appropriate measure for normally distributed data, while the median might be more appropriate for skewed data. The mode is often used for categorical data or discrete variables."
   ]
  },
  {
   "cell_type": "markdown",
   "id": "83e52439-5467-4883-8120-83a9be3add25",
   "metadata": {},
   "source": [
    "Q3. Measure the three measures of central tendency for the given height data:\n",
    "[178,177,176,177,178.2,178,175,179,180,175,178.9,176.2,177,172.5,178,176.5]"
   ]
  },
  {
   "cell_type": "code",
   "execution_count": 1,
   "id": "199c7d39-c2aa-4904-9ec1-8a7c0c837628",
   "metadata": {},
   "outputs": [
    {
     "name": "stdout",
     "output_type": "stream",
     "text": [
      "Mean of the given array is: 177.01875\n",
      "Median of the given array is: 177.0\n",
      "Mode of the given array is: ModeResult(mode=array([177.]), count=array([3]))\n"
     ]
    },
    {
     "name": "stderr",
     "output_type": "stream",
     "text": [
      "/tmp/ipykernel_243/1373409079.py:8: FutureWarning: Unlike other reduction functions (e.g. `skew`, `kurtosis`), the default behavior of `mode` typically preserves the axis it acts along. In SciPy 1.11.0, this behavior will change: the default value of `keepdims` will become False, the `axis` over which the statistic is taken will be eliminated, and the value None will no longer be accepted. Set `keepdims` to True or False to avoid this warning.\n",
      "  height_mode=stats.mode(x)\n"
     ]
    }
   ],
   "source": [
    "x=[178,177,176,177,178.2,178,175,179,180,175,178.9,176.2,177,172.5,178,176.5]\n",
    "\n",
    "#Numpy has built-in function for calculating mean, we can use it to find mean for the given array as:\n",
    "import numpy as np\n",
    "from scipy import stats\n",
    "height_mean=np.mean(x)\n",
    "height_median=np.median(x)\n",
    "height_mode=stats.mode(x)\n",
    "print(f\"Mean of the given array is:\",height_mean)\n",
    "print(f\"Median of the given array is:\",height_median)\n",
    "print(f\"Mode of the given array is:\",height_mode)"
   ]
  },
  {
   "cell_type": "markdown",
   "id": "129c655a-f8f3-43b4-bfa3-e46ea8e9dac0",
   "metadata": {},
   "source": [
    "Q4. Find the standard deviation for the given data:\n",
    "[178,177,176,177,178.2,178,175,179,180,175,178.9,176.2,177,172.5,178,176.5]"
   ]
  },
  {
   "cell_type": "code",
   "execution_count": 2,
   "id": "e134bb8c-71cc-4191-b979-159f77e541e3",
   "metadata": {},
   "outputs": [
    {
     "name": "stdout",
     "output_type": "stream",
     "text": [
      "The stadard deviation of the given array is: 1.7885814036548633\n"
     ]
    }
   ],
   "source": [
    "std=np.std(x)\n",
    "print(f'The stadard deviation of the given array is: {std}')\n"
   ]
  },
  {
   "cell_type": "markdown",
   "id": "d7e5239a-cef2-45b3-90dc-c8a5ae94ec2e",
   "metadata": {},
   "source": [
    "Q5. How are measures of dispersion such as range, variance, and standard deviation used to describe\n",
    "the spread of a dataset? Provide an example."
   ]
  },
  {
   "cell_type": "markdown",
   "id": "448be98c-918a-4d28-ac8a-ed472189a6f0",
   "metadata": {},
   "source": [
    "Measures of dispersion, such as range, variance, and standard deviation, describe the spread or variability of a data set. They complement measures of central tendency, such as the mean, median, and mode, by providing additional information about how much the data values deviate from the center.\n",
    "\n",
    "Range: It is simply the difference between the maximum value and the minimum value given in a data set. The range provides an idea of the spread of the data but is not as informative as other measures of dispersion, as it only takes into account the two extreme values.-\n",
    "Example: 1, 3,5, 6, 7 => Range = 7 -1= 6\n",
    "\n",
    "Variance and standard deviation are more informative measures of dispersion that take into account all the values in a data set. Variance is the average of the squared deviations of each value from the mean, while the standard deviation is the square root of the variance. The standard deviation is often preferred because it has the same units as the original data set, while variance is in squared units.\n",
    "\n",
    "For example, let's consider the following data set of test scores: 70, 80, 85, 90, 95.\n",
    "\n",
    "The mean score is 84, and the range is 25 (95 - 70).\n",
    "To calculate the variance, we first find the deviation of each score from the mean: -14, -4, 1, 6, 11. Squaring each deviation gives: 196, 16, 1, 36, 121. The sum of these squared deviations is 370, which, divided by the number of scores (5), gives a variance of 74.\n",
    "To find the standard deviation, we take the square root of the variance, giving us a standard deviation of approximately 8.6."
   ]
  },
  {
   "cell_type": "markdown",
   "id": "a2645940-dc6d-40a2-b445-167c9a440ea3",
   "metadata": {},
   "source": [
    "Q6. What is a Venn diagram?"
   ]
  },
  {
   "cell_type": "markdown",
   "id": "dcfd51e1-a5f9-47a8-a5d0-211e8c1dc878",
   "metadata": {},
   "source": [
    "A Venn diagram is a graphical representation of sets or groups.\n",
    "\n",
    "A Venn diagram consists of one or more circles or other shapes, each representing a set or group. The circles may overlap, indicating elements that belong to more than one set. The area within each circle represents the elements that belong to that set, while the overlap between circles represents the elements that belong to both sets.\n",
    "\n",
    "Venn diagrams are useful for visualizing relationships between sets and for analyzing data with multiple categories or variables. They can also be used to illustrate logical relationships between concepts or propositions."
   ]
  },
  {
   "cell_type": "markdown",
   "id": "7b5ccffd-6a97-4be4-8ece-2cca62a97cbf",
   "metadata": {},
   "source": [
    "Q7. For the two given sets A = (2,3,4,5,6,7) & B = (0,2,6,8,10). Find:\n",
    "(i) A ⋂ B\n",
    "(ii) A ⋃ B"
   ]
  },
  {
   "cell_type": "code",
   "execution_count": 3,
   "id": "00868553-0eb9-49c9-9dba-51a0a2adbfcc",
   "metadata": {},
   "outputs": [
    {
     "name": "stdout",
     "output_type": "stream",
     "text": [
      "The intersection of two sets is: {0, 2, 3, 4, 5, 6, 7, 8, 10}\n",
      "The union of two sets is: {2, 6}\n"
     ]
    }
   ],
   "source": [
    "# In python, we can use the \"|\" or \"&\" operator to find union or intersection between two collections. As:\n",
    "A = {2,3,4,5,6,7}\n",
    "B = {0,2,6,8,10}\n",
    "inter=A|B\n",
    "uni=A&B\n",
    "print(f\"The intersection of two sets is: {inter}\")\n",
    "print(f\"The union of two sets is: {uni}\")"
   ]
  },
  {
   "cell_type": "markdown",
   "id": "79882b43-a252-44c0-acc0-9a678b55dd44",
   "metadata": {},
   "source": [
    "Q8. What do you understand about skewness in data?"
   ]
  },
  {
   "cell_type": "markdown",
   "id": "590c7c2e-c69c-478c-80e9-87617e951be1",
   "metadata": {},
   "source": [
    "Skewness is a measure of the asymmetry of a probability distribution. In a symmetrical distribution, the mean, median, and mode are all the same, and the distribution is said to be \"balanced.\" However, in an asymmetrical distribution, the mean, median, and mode are different, and the distribution is said to be \"skewed.\"Positive skewness (also known as right-skewedness) means that the tail of the distribution is longer on the right side, and the mode is smaller than the median, which is smaller than the mean.\n",
    "\n",
    "Skewness is characterized by the direction and degree of the deviation from symmetry.\n",
    "\n",
    "Positive skewness (also known as right-skewedness) means that the tail of the distribution is longer on the right side, and the mode is smaller than the median, which is smaller than the mean.\n",
    "\n",
    "Negative skewness (also known as left-skewedness) means that the tail of the distribution is longer on the left side, and the mode is larger than the median, which is larger than the mean."
   ]
  },
  {
   "cell_type": "markdown",
   "id": "96826cbd-ff61-4eff-a45b-0c3231dc72d5",
   "metadata": {},
   "source": [
    "Q9.If a data is right skewed then what will be the position of median with respect to mean?"
   ]
  },
  {
   "cell_type": "markdown",
   "id": "db36981b-8d59-4511-8872-7de21e3cb196",
   "metadata": {},
   "source": [
    "In a right-skewed distribution, the tail on the right side is longer or fatter than the left side. In such a distribution:\n",
    "\n",
    "The mean (average) will be greater than the median.\n",
    "The median will be closer to the left (smaller) tail of the distribution than the mean.\n",
    "In simple terms, in a right-skewed distribution, the mean is pulled towards the longer right tail, so it is larger than the median, and the median is closer to the smaller left tail."
   ]
  },
  {
   "cell_type": "markdown",
   "id": "47955565-cb27-4d20-8a3c-57a564ef14e4",
   "metadata": {},
   "source": [
    "Q10.Explain the difference between covariance and correlation. How are these measures used in statistical analysis?\n",
    "\n"
   ]
  },
  {
   "cell_type": "markdown",
   "id": "72edf25a-8dc6-49ec-8a1d-46e09faf07cb",
   "metadata": {},
   "source": [
    "Covariance is a measure of the degree to which two variables vary together. Specifically, it measures how much the two variables move together in the same direction. A positive covariance indicates that the two variables tend to increase or decrease together, while a negative covariance indicates that they tend to move in opposite directions.\n",
    "\n",
    "Correlation, on the other hand, measures both the strength and direction of the relationship between two variables. Unlike covariance, correlation is standardized, meaning it is scaled between -1 and 1. A correlation coefficient of +1 indicates a perfect positive correlation, while a correlation coefficient of -1 indicates a perfect negative correlation. A correlation coefficient of 0 indicates no linear relationship between the variables.\n",
    "\n",
    "In statistical analysis, covariance and correlation are used to measure the relationship between two variables. They are used to determine whether the two variables are related, and if so, how strongly and in what direction."
   ]
  },
  {
   "cell_type": "markdown",
   "id": "31df6d26-93b3-434d-80dc-b7e45ce1211d",
   "metadata": {},
   "source": [
    "Q11.What is the formula for calculating the sample mean? Provide an example calculation for a dataset.\n",
    "\n"
   ]
  },
  {
   "cell_type": "markdown",
   "id": "5d4e05a4-9885-40f0-b61b-48ee9848d937",
   "metadata": {},
   "source": []
  },
  {
   "cell_type": "code",
   "execution_count": 7,
   "id": "c4339955-fd8c-4f22-a1c8-eeb06dfb854f",
   "metadata": {},
   "outputs": [
    {
     "data": {
      "text/html": [
       "<div>\n",
       "<style scoped>\n",
       "    .dataframe tbody tr th:only-of-type {\n",
       "        vertical-align: middle;\n",
       "    }\n",
       "\n",
       "    .dataframe tbody tr th {\n",
       "        vertical-align: top;\n",
       "    }\n",
       "\n",
       "    .dataframe thead th {\n",
       "        text-align: right;\n",
       "    }\n",
       "</style>\n",
       "<table border=\"1\" class=\"dataframe\">\n",
       "  <thead>\n",
       "    <tr style=\"text-align: right;\">\n",
       "      <th></th>\n",
       "      <th>total_bill</th>\n",
       "      <th>tip</th>\n",
       "      <th>sex</th>\n",
       "      <th>smoker</th>\n",
       "      <th>day</th>\n",
       "      <th>time</th>\n",
       "      <th>size</th>\n",
       "    </tr>\n",
       "  </thead>\n",
       "  <tbody>\n",
       "    <tr>\n",
       "      <th>0</th>\n",
       "      <td>16.99</td>\n",
       "      <td>1.01</td>\n",
       "      <td>Female</td>\n",
       "      <td>No</td>\n",
       "      <td>Sun</td>\n",
       "      <td>Dinner</td>\n",
       "      <td>2</td>\n",
       "    </tr>\n",
       "    <tr>\n",
       "      <th>1</th>\n",
       "      <td>10.34</td>\n",
       "      <td>1.66</td>\n",
       "      <td>Male</td>\n",
       "      <td>No</td>\n",
       "      <td>Sun</td>\n",
       "      <td>Dinner</td>\n",
       "      <td>3</td>\n",
       "    </tr>\n",
       "    <tr>\n",
       "      <th>2</th>\n",
       "      <td>21.01</td>\n",
       "      <td>3.50</td>\n",
       "      <td>Male</td>\n",
       "      <td>No</td>\n",
       "      <td>Sun</td>\n",
       "      <td>Dinner</td>\n",
       "      <td>3</td>\n",
       "    </tr>\n",
       "    <tr>\n",
       "      <th>3</th>\n",
       "      <td>23.68</td>\n",
       "      <td>3.31</td>\n",
       "      <td>Male</td>\n",
       "      <td>No</td>\n",
       "      <td>Sun</td>\n",
       "      <td>Dinner</td>\n",
       "      <td>2</td>\n",
       "    </tr>\n",
       "    <tr>\n",
       "      <th>4</th>\n",
       "      <td>24.59</td>\n",
       "      <td>3.61</td>\n",
       "      <td>Female</td>\n",
       "      <td>No</td>\n",
       "      <td>Sun</td>\n",
       "      <td>Dinner</td>\n",
       "      <td>4</td>\n",
       "    </tr>\n",
       "  </tbody>\n",
       "</table>\n",
       "</div>"
      ],
      "text/plain": [
       "   total_bill   tip     sex smoker  day    time  size\n",
       "0       16.99  1.01  Female     No  Sun  Dinner     2\n",
       "1       10.34  1.66    Male     No  Sun  Dinner     3\n",
       "2       21.01  3.50    Male     No  Sun  Dinner     3\n",
       "3       23.68  3.31    Male     No  Sun  Dinner     2\n",
       "4       24.59  3.61  Female     No  Sun  Dinner     4"
      ]
     },
     "execution_count": 7,
     "metadata": {},
     "output_type": "execute_result"
    }
   ],
   "source": [
    "import seaborn as sns \n",
    "tip=sns.load_dataset(\"tips\")\n",
    "tip.head()\n",
    "\n"
   ]
  },
  {
   "cell_type": "code",
   "execution_count": 14,
   "id": "e6e66a65-cc24-4eda-9826-c550570d8f10",
   "metadata": {},
   "outputs": [
    {
     "name": "stdout",
     "output_type": "stream",
     "text": [
      "Mean total bill paid by customers is: 19.78594262295082\n"
     ]
    }
   ],
   "source": [
    "mean_total_bill=tip[\"total_bill\"].mean()\n",
    "print(\"Mean total bill paid by customers is:\",mean_total_bill)"
   ]
  },
  {
   "cell_type": "markdown",
   "id": "d14f201f-42af-4622-bbfb-63f2a00ffa94",
   "metadata": {},
   "source": [
    "Q12.For a normal distribution data what is the relationship between its measure of central tendency?"
   ]
  },
  {
   "cell_type": "markdown",
   "id": "ed9a5ee9-d4ff-436f-8d4a-4716fcfaef53",
   "metadata": {},
   "source": [
    "For a normal distribution, the mean, median, and mode are all equal, and they are located at the center of the distribution. This means that the distribution is symmetric around its central point, and the measures of central tendency coincide with each other."
   ]
  },
  {
   "cell_type": "markdown",
   "id": "eae2a6c1-c9e7-496c-8139-554b9b4bfebe",
   "metadata": {},
   "source": [
    "Q13.How is covariance different from correlation?"
   ]
  },
  {
   "cell_type": "markdown",
   "id": "ba4e8403-e9d0-487d-a416-6a71b270dd38",
   "metadata": {},
   "source": [
    "Covariance reveals how two variables change together while correlation determines how closely two variables are related to each other.\n",
    "\n",
    "Both covariance and correlation measure the relationship and the dependency between two variables.\n",
    "Covariance indicates the direction of the linear relationship between variables.\n",
    "Correlation measures both the strength and direction of the linear relationship between two variables.\n",
    "Correlation values are standardized.\n",
    "Covariance values are not standardized."
   ]
  },
  {
   "cell_type": "markdown",
   "id": "712d3ad6-7cb3-446a-b930-92cac76a33ef",
   "metadata": {},
   "source": [
    "Q14.How do outliers affect measures of central tendency and dispersion? Provide an example.\n",
    "\n"
   ]
  },
  {
   "cell_type": "markdown",
   "id": "3b0f9eb3-a6ad-4eb3-9072-63acf53c8d25",
   "metadata": {},
   "source": [
    "Outliers are data values that are very different from the rest of the data. They can affect measures of central tendency and dispersion, which are statistics that describe the center and spread of a dataset."
   ]
  },
  {
   "cell_type": "code",
   "execution_count": 25,
   "id": "514955ee-915a-4143-8207-e3a8dc8cfebb",
   "metadata": {},
   "outputs": [
    {
     "name": "stdout",
     "output_type": "stream",
     "text": [
      "Mean of l is 4.0\n",
      "Mean of l is 4.0\n"
     ]
    }
   ],
   "source": [
    "#Measure of Centeral Tendency without outliar \n",
    "l=[1,5,3,7,2,6]\n",
    "print(f\"Mean of l is {np.mean(l)}\")\n",
    "print(f\"Mean of l is {np.median(l)}\")"
   ]
  },
  {
   "cell_type": "code",
   "execution_count": 26,
   "id": "5e308df2-9ee2-4344-a129-e76dcf3fd391",
   "metadata": {},
   "outputs": [
    {
     "name": "stdout",
     "output_type": "stream",
     "text": [
      "Mean of l is 7.714285714285714\n",
      "Mean of l is 5.0\n"
     ]
    }
   ],
   "source": [
    "#Measure of Centeral Tendency with outliar \n",
    "l=[1,5,3,7,2,6,30]\n",
    "print(f\"Mean of l is {np.mean(l)}\")\n",
    "print(f\"Mean of l is {np.median(l)}\")"
   ]
  },
  {
   "cell_type": "markdown",
   "id": "60d6cbc1-d2a9-4bbd-9bbb-60c4fba2677d",
   "metadata": {},
   "source": [
    "Note that the mean of the data that contains outlier is not an accurate representation of the mean of that data"
   ]
  },
  {
   "cell_type": "code",
   "execution_count": 27,
   "id": "2938cc42-c7dd-41d0-9ad4-858336d275be",
   "metadata": {},
   "outputs": [
    {
     "name": "stdout",
     "output_type": "stream",
     "text": [
      "Varience of l is 4.666666666666667\n",
      "Stadard Deviation of l is 2.160246899469287\n"
     ]
    }
   ],
   "source": [
    "#Measure of Dispersion without outliar \n",
    "l=[1,5,3,7,2,6]\n",
    "print(f\"Varience of l is {np.var(l)}\")\n",
    "print(f\"Stadard Deviation of l is {np.std(l)}\")"
   ]
  },
  {
   "cell_type": "code",
   "execution_count": 28,
   "id": "d256c6ad-5f6f-4635-81b8-fc6d4b303867",
   "metadata": {},
   "outputs": [
    {
     "name": "stdout",
     "output_type": "stream",
     "text": [
      "Varience of l is 86.77551020408164\n",
      "Stadard Deviation of l is 9.31533736394349\n"
     ]
    }
   ],
   "source": [
    "#Measure of Dispersion with outliar \n",
    "l=[1,5,3,7,2,6,30]\n",
    "print(f\"Varience of l is {np.var(l)}\")\n",
    "print(f\"Stadard Deviation of l is {np.std(l)}\")"
   ]
  },
  {
   "cell_type": "markdown",
   "id": "aa7c44f8-ac70-46e9-b1a7-764131ba1dde",
   "metadata": {},
   "source": [
    "Notice the drastic change in the variance and standard deviation of the data with outliers"
   ]
  },
  {
   "cell_type": "code",
   "execution_count": null,
   "id": "b1f507d2-9961-442c-9287-745ff928b1bb",
   "metadata": {},
   "outputs": [],
   "source": []
  }
 ],
 "metadata": {
  "kernelspec": {
   "display_name": "Python 3 (ipykernel)",
   "language": "python",
   "name": "python3"
  },
  "language_info": {
   "codemirror_mode": {
    "name": "ipython",
    "version": 3
   },
   "file_extension": ".py",
   "mimetype": "text/x-python",
   "name": "python",
   "nbconvert_exporter": "python",
   "pygments_lexer": "ipython3",
   "version": "3.10.8"
  }
 },
 "nbformat": 4,
 "nbformat_minor": 5
}
