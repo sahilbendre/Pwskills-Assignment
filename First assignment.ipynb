{
 "cells": [
  {
   "cell_type": "markdown",
   "id": "0258496f-a72f-45e9-b91c-2141368e175d",
   "metadata": {},
   "source": [
    "1. Who developed Python Programming Language?"
   ]
  },
  {
   "cell_type": "markdown",
   "id": "0e3a13e2-0465-41bf-beb2-e6e5a644a77a",
   "metadata": {},
   "source": [
    "Python is Created by Guido Van Rassum From CWI(Centrum Wiskunde & Informatica) which is a national research institude for mathematics and computer science in netherlands.python got it's name from BBC Comedy Series From Seventies :- \"Monty Python's Flying Circus\". and Python released in 1991."
   ]
  },
  {
   "cell_type": "markdown",
   "id": "c0a4e144-aadb-4fe8-88a2-e4c0fbaf0d98",
   "metadata": {},
   "source": [
    "2. Which type of programming does python support?"
   ]
  },
  {
   "cell_type": "markdown",
   "id": "c355f093-1c00-4916-a1bc-0028f066dcc4",
   "metadata": {},
   "source": [
    "Python is a Multi-paradigm Programming Language.Python is Spport object orient Programming and Structure Programming  and many of thier Features Spport in Functional programming and aspect-oriented programming."
   ]
  },
  {
   "cell_type": "markdown",
   "id": "62976f20-8568-4c9f-b015-e6e71957fbd7",
   "metadata": {},
   "source": [
    "3.Is Python case sensitive when dealing with identifiers?"
   ]
  },
  {
   "cell_type": "markdown",
   "id": "31a70e26-92f3-444a-8005-519ac7fa117e",
   "metadata": {},
   "source": [
    "Yes,Python is Case Sensitive Language i.e. Uppercase characters and Lowercase characters is treated Differntly.This applies to identifiers too.When we are Created 2 Variable or identifiers in same name but in Different cases it is treated different variable or identifiers.You must avoid using the same name with different cases while naming identifiers."
   ]
  },
  {
   "cell_type": "markdown",
   "id": "a18112ef-a1c1-418b-b98f-41e0f2f42815",
   "metadata": {},
   "source": [
    "4. What is the correct extension of the Python file?"
   ]
  },
  {
   "cell_type": "markdown",
   "id": "5a8ee266-6f73-467c-974b-9c8bef132743",
   "metadata": {},
   "source": [
    "Python is Widely used Programming Language and It is used for Different Purpose.The extensions for Python files are - .py, .pyi, .pyc, .pyd, .pyo, .pyw, and .pyz. "
   ]
  },
  {
   "cell_type": "markdown",
   "id": "6853d3ab-99b7-43ad-b63a-59311bae5ce2",
   "metadata": {},
   "source": [
    "5.Is Python code compiled or interpreted?"
   ]
  },
  {
   "cell_type": "markdown",
   "id": "a4e91d40-1cfb-4eca-85f1-90d0b3d6a334",
   "metadata": {},
   "source": [
    "Python is an Interpreter language.which means the source code of python file is converted in byte code that is an excuted by python virtual machine.such as c and c++ as Python code is not required to be built and linked like code for these languages.python interpreter has  main feature is Python code is fast to develop and we also called just in time compile."
   ]
  },
  {
   "cell_type": "markdown",
   "id": "1dde4d36-f0e6-4d95-8553-67e7650e987b",
   "metadata": {},
   "source": [
    "6.Name a few blocks of code used to define in Python language?"
   ]
  },
  {
   "cell_type": "markdown",
   "id": "f35b71c7-7825-4fe5-bb32-3a7b257da40a",
   "metadata": {},
   "source": [
    "We used if-else block(it use for conditioning),for loop and while loop block (both use for iterating ovr a sequence), def block(for creating  function),try-catch block(it is use for handling error)"
   ]
  },
  {
   "cell_type": "markdown",
   "id": "7265fd09-743b-4603-b040-3f317aafbc05",
   "metadata": {},
   "source": [
    "7.sate a character used to give single—line comments in Python?"
   ]
  },
  {
   "cell_type": "markdown",
   "id": "360b027b-1332-45a3-b905-844bf7f286f3",
   "metadata": {},
   "source": [
    "we can write single-line comment using # character before any statement or line of code."
   ]
  },
  {
   "cell_type": "markdown",
   "id": "385653f9-ce15-4152-8c16-f9fd0603fc4b",
   "metadata": {},
   "source": [
    "8.Mention functions which can help us to find the version of that we are currently working on?"
   ]
  },
  {
   "cell_type": "markdown",
   "id": "04d18e27-bf08-4f24-acae-0bbae30bdb4a",
   "metadata": {},
   "source": [
    "We can find current version of python using 2 function :1]using sys.version method 2]Using python_version() function\n",
    "1]using sys.version function: First we import sys library then we will print sys.version for current version.\n",
    "2]using python_version():This function is accessible by importing the platform library and will always return a string of the running user’s python version.\n",
    "this methods are use current version of python.and also we Use python -V command also we get python version."
   ]
  },
  {
   "cell_type": "markdown",
   "id": "bbcd2e4d-12f5-487a-9620-1baf3321a257",
   "metadata": {},
   "source": [
    "9.Python supports the creation of anonymous functions at runtime, using a construct called_______"
   ]
  },
  {
   "cell_type": "markdown",
   "id": "f10001cc-147b-4786-abdb-3c7d1839388d",
   "metadata": {},
   "source": [
    "Python supports the creation of anonymous functions at runtime, using a construct called Lambda Function"
   ]
  },
  {
   "cell_type": "markdown",
   "id": "3ef3d04b-9723-48d2-a7fa-532be0a0f8d3",
   "metadata": {},
   "source": [
    "10.What does pip stand for python"
   ]
  },
  {
   "cell_type": "markdown",
   "id": "276a24e6-354e-4b9e-af4e-7b9de519d44f",
   "metadata": {},
   "source": [
    "pip Stand for Preferred Installer Program.PIP is a package manager for Python packages, or modules if you like.We can install external pacakge or library"
   ]
  },
  {
   "cell_type": "markdown",
   "id": "3009a112-bf17-4769-b711-cd3b084d3c3e",
   "metadata": {},
   "source": [
    "11.Mention a few built—in functions in python?"
   ]
  },
  {
   "cell_type": "markdown",
   "id": "31e2fcee-bbf4-4afd-893c-6ff1a3314348",
   "metadata": {},
   "source": [
    "1]print():Prints to the standard output device\n",
    "2]list():Returns a list\n",
    "3]round():Rounds a numbers\n",
    "4]range():Returns a sequence of numbers, starting from 0 and increments by 1 (by default)\n",
    "5]type():Returns the type of an object\n",
    "6]input():Allowing user input"
   ]
  },
  {
   "cell_type": "markdown",
   "id": "739a8556-e790-4b20-b162-456c27ddda9c",
   "metadata": {},
   "source": [
    "12.What is the maximum possible length of an identifier in Python?"
   ]
  },
  {
   "cell_type": "markdown",
   "id": "5eee1fcc-6239-4b86-968f-0b8e1390656f",
   "metadata": {},
   "source": [
    "First of all we are see what is Identifier ,a particular name given by programmer to define a variable,function,structure or class is called identifier.and In Python, the highest possible length of an identifier is 79 characters."
   ]
  },
  {
   "cell_type": "markdown",
   "id": "2c5fc152-4403-4321-bdfb-8e2e04c5a62b",
   "metadata": {},
   "source": [
    "13.What are the benefits of using Python?"
   ]
  },
  {
   "cell_type": "markdown",
   "id": "695661e2-189d-4674-b2c2-b366a3a89311",
   "metadata": {},
   "source": [
    "python has many benifits but we know some of them:\n",
    "1]Extensive support libraries(NumPy for numerical calculations, Pandas for data analytics, etc.) \n",
    "2]Open source and large active community base \n",
    "3]User-friendly data structures \n",
    "4]High-level language \n",
    "5]Dynamically typed language(No need to mention data type based on the value assigned, it takes data type) \n",
    "6]Object-Oriented and Procedural  Programming language\n",
    "7]Internet of Things(IoT) Opportunities\n",
    "8]Interpreted Language\n",
    "9]Portable across Operating systems "
   ]
  },
  {
   "cell_type": "markdown",
   "id": "824c38cc-b42f-484b-85ff-7092e9843ae4",
   "metadata": {},
   "source": [
    "14.HOW is memory managed in python"
   ]
  },
  {
   "cell_type": "markdown",
   "id": "5ed46074-1cda-4cab-8168-63428512c1aa",
   "metadata": {},
   "source": [
    "Memory allocation and deallocation is automatic in python.it also has garbage collection which is free the memory.Meomry management in python handled by python meomory mananager.The memory allocate form of private heap space.All python object is stored is private heap space and being private,it is inaccessible to the programmer.Python support some cor API  function  to  work upon the private heap space"
   ]
  },
  {
   "cell_type": "markdown",
   "id": "fb4d2014-9d63-485d-ba74-3510b366fd7c",
   "metadata": {},
   "source": [
    "15.How to install Python on Windows and set path variables?"
   ]
  },
  {
   "cell_type": "markdown",
   "id": "eaff04c9-5214-4dc3-9d18-604d0fc767b3",
   "metadata": {},
   "source": [
    "First we go to browser and search python download for link then go to python.org website then download the python.after downloading install that python application on your computer.This is installation step for python . Now we will see step of how to set path variable  and what is path variable.The PATH variable is a list of directories where each directory contains the executable file for a command.\n",
    "Step:\n",
    "1]Right-clicking This PC and going to Properties.\n",
    "2]Clicking on the Advanced system settings in the menu on the left.\n",
    "3]Clicking on the Environment Variables button on the bottom right.\n",
    "4]In the System variables section, selecting the Path variable and clicking on Edit. The next screen will show all the directories that are currently a part of the PATH variable.\n",
    "5]Clicking on New and entering Python’s install directory."
   ]
  },
  {
   "cell_type": "markdown",
   "id": "a14f7f01-686a-4aa1-9850-7763725c28f0",
   "metadata": {},
   "source": [
    "16.Is indentation required in python?"
   ]
  },
  {
   "cell_type": "markdown",
   "id": "67ec4d4a-490d-4b46-bb4a-0415ef6848a9",
   "metadata": {},
   "source": [
    "Python refers to the space at the begining of a code line.Where in other programming languages the indentation in code is for readability only, the indentation in Python is very important.Python uses indentation to indicate a block of code."
   ]
  }
 ],
 "metadata": {
  "kernelspec": {
   "display_name": "Python 3 (ipykernel)",
   "language": "python",
   "name": "python3"
  },
  "language_info": {
   "codemirror_mode": {
    "name": "ipython",
    "version": 3
   },
   "file_extension": ".py",
   "mimetype": "text/x-python",
   "name": "python",
   "nbconvert_exporter": "python",
   "pygments_lexer": "ipython3",
   "version": "3.9.12"
  }
 },
 "nbformat": 4,
 "nbformat_minor": 5
}
