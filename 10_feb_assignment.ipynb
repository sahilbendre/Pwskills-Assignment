{
 "cells": [
  {
   "cell_type": "markdown",
   "id": "24d60f43-5d4f-4a68-9e3d-c4afee6909f1",
   "metadata": {},
   "source": [
    "Q1. Which function is used to open a file? What are the different modes of opening a file? Explain each mode \n",
    "of file opening?"
   ]
  },
  {
   "cell_type": "markdown",
   "id": "b5cffeb6-e5b2-47ff-9ab1-c6e9ebf81903",
   "metadata": {},
   "source": [
    "In Python, We use open() to open a file.\n",
    "The dfferent modes of opering a file are:\n",
    "r:Open File For Reading.\n",
    "w:Open File For Writing.if file is not created in directory then it will be creat new file and truncate the file if exists .\n",
    "- x : Open a file for exclusive creation. If the file already exists, the operation fails.\n",
    "- a : Open a file for appending at the end of the file without truncating it. Creates a new file if it does not exist\n",
    "- t : Open in text mode.\n",
    "- b : Open in binary mode.\n",
    "- Plus(+) : Open a file for updating (reading and writing)"
   ]
  },
  {
   "cell_type": "markdown",
   "id": "cd426a8c-56cc-4301-9e5f-a0b10d6f36d5",
   "metadata": {},
   "source": [
    "Q2. Why close() function is used? Why is it important to close a file?"
   ]
  },
  {
   "cell_type": "markdown",
   "id": "3f6f1429-8ba7-49fa-a415-a098658291b5",
   "metadata": {},
   "source": [
    "The close() method closes an open file.\n",
    "You should always close your files, in some cases, due to buffering, changes made to a file may not show until you close the file."
   ]
  },
  {
   "cell_type": "markdown",
   "id": "b8713a46-1888-4a6e-898f-11709d92e51c",
   "metadata": {},
   "source": [
    "Q3. Write a python program to create a text file. Write ‘I want to become a Data Scientist’ in that file. Then \n",
    "close the file. Open this file and read the content of the file.  "
   ]
  },
  {
   "cell_type": "code",
   "execution_count": 1,
   "id": "899d8e39-e49e-48f4-a9b3-4c1df093e188",
   "metadata": {},
   "outputs": [],
   "source": [
    "#first We Write a file \n",
    "f=open(\"test.txt\",\"w\")\n",
    "f.write(\"I want to become a Data Scientist\")\n",
    "f.close()"
   ]
  },
  {
   "cell_type": "code",
   "execution_count": 2,
   "id": "45e61004-6e2e-4743-8bae-4e78090c067e",
   "metadata": {},
   "outputs": [
    {
     "name": "stdout",
     "output_type": "stream",
     "text": [
      "I want to become a Data Scientist\n"
     ]
    }
   ],
   "source": [
    "#now We read a file \n",
    "with open(\"test.txt\",\"r\") as f:\n",
    "    r=f.read()\n",
    "    print(r)"
   ]
  },
  {
   "cell_type": "markdown",
   "id": "e6e0d0d4-b7ee-416e-8aa5-19862eaad362",
   "metadata": {},
   "source": [
    "Q4. Explain the following with python code: read(), readline() and readlines()."
   ]
  },
  {
   "cell_type": "markdown",
   "id": "9ce747ee-ca9f-4f37-81cc-9d6b71d8a086",
   "metadata": {},
   "source": [
    "To understand the functionality of read(), readline() and readlines() properly, let's first create a .txt file and write a few lines of text in it."
   ]
  },
  {
   "cell_type": "code",
   "execution_count": 4,
   "id": "0bfff509-9e24-4894-89f3-ecf489d797d7",
   "metadata": {},
   "outputs": [],
   "source": [
    "with open(\"a.txt\",\"w\") as f:\n",
    "    f.write('This is the first line in the file\\nThis is second line in the file\\nThis is last line in the file\\n')"
   ]
  },
  {
   "cell_type": "markdown",
   "id": "4bccf718-6a96-430f-bf20-8d04fda77121",
   "metadata": {},
   "source": [
    "1]read():read() method is used to read the entire contents of a file as a single string."
   ]
  },
  {
   "cell_type": "code",
   "execution_count": 8,
   "id": "ded54c05-8b38-4342-b01e-d5ed363fcc4d",
   "metadata": {},
   "outputs": [
    {
     "name": "stdout",
     "output_type": "stream",
     "text": [
      "This is the first line in the file\n",
      "This is second line in the file\n",
      "This is last line in the file\n",
      "\n"
     ]
    }
   ],
   "source": [
    "with open(\"a.txt\",\"r\") as f:\n",
    "    r=f.read()\n",
    "    print(r)"
   ]
  },
  {
   "cell_type": "markdown",
   "id": "1ed9ce3a-ca0a-44d9-a923-42f8584e7999",
   "metadata": {},
   "source": [
    "2]readline():readline() method will return a line from the file when it called."
   ]
  },
  {
   "cell_type": "code",
   "execution_count": 9,
   "id": "1c322f9c-7159-4382-a3d4-c84b83aa601a",
   "metadata": {},
   "outputs": [
    {
     "name": "stdout",
     "output_type": "stream",
     "text": [
      "This is the first line in the file\n",
      "\n"
     ]
    }
   ],
   "source": [
    "with open(\"a.txt\",\"r\") as f:\n",
    "    r=f.readline()\n",
    "    print(r)"
   ]
  },
  {
   "cell_type": "markdown",
   "id": "ca9f597a-b847-43d1-a54e-46ce76efd769",
   "metadata": {},
   "source": [
    "3]readlines():readlines() method will return all the lines in the file in the format of list where each element is a line in the file."
   ]
  },
  {
   "cell_type": "code",
   "execution_count": 10,
   "id": "a3d357f0-810e-4009-a3bc-9c38e7f2816c",
   "metadata": {},
   "outputs": [
    {
     "name": "stdout",
     "output_type": "stream",
     "text": [
      "['This is the first line in the file\\n', 'This is second line in the file\\n', 'This is last line in the file\\n']\n"
     ]
    }
   ],
   "source": [
    "with open(\"a.txt\",\"r\") as f:\n",
    "    r=f.readlines()\n",
    "    print(r)"
   ]
  },
  {
   "cell_type": "markdown",
   "id": "6d602bfb-51f6-43da-bd5c-cc9f28b75ff6",
   "metadata": {},
   "source": [
    "Q5. Explain why with statement is used with open(). What is the advantage of using with statement and \n",
    "open() together?"
   ]
  },
  {
   "cell_type": "markdown",
   "id": "5d10d25a-60e5-424f-8003-5cbf199daf36",
   "metadata": {},
   "source": [
    "-The with statement works with the open() function to open a file. open() where you have to close the file with the close() method, the with statement closes the file for you without you telling it to."
   ]
  },
  {
   "cell_type": "markdown",
   "id": "f80840ea-388e-4e09-85ff-c2534cc2e0ce",
   "metadata": {},
   "source": [
    "Q6. Explain the write() and writelines() functions. Give a suitable example"
   ]
  },
  {
   "cell_type": "markdown",
   "id": "bf6698d6-ba95-4115-bd74-ee787b3510d6",
   "metadata": {},
   "source": [
    "The write() and writelines() functions in Python are used to write text data to a file."
   ]
  },
  {
   "cell_type": "markdown",
   "id": "b4fbb6ef-79b3-47c2-b572-340701d19e2a",
   "metadata": {},
   "source": [
    "The write() function is used to write a string to a file. It takes a single string argument and returns the number of characters written to the file. For example:"
   ]
  },
  {
   "cell_type": "code",
   "execution_count": 13,
   "id": "ac166dbd-88f7-4425-93bd-f566e91ff5ea",
   "metadata": {},
   "outputs": [],
   "source": [
    "with open (\"b.txt\",\"w\") as f:\n",
    "    f.write(\"Hello, I Am Learn Data Science\")"
   ]
  },
  {
   "cell_type": "markdown",
   "id": "6043d9fe-4743-4876-9ed8-5d22d1ffa953",
   "metadata": {},
   "source": [
    "The writelines() function is used to write a list of strings to a file. It takes a list of strings as an argument and writes each string to a separate line in the file. For example:"
   ]
  },
  {
   "cell_type": "code",
   "execution_count": 16,
   "id": "e24ea76a-2c9a-4809-be44-6acf33e88824",
   "metadata": {},
   "outputs": [],
   "source": [
    "lines = ['Line 1\\n','Line 2\\n', 'Line 3\\n']\n",
    "with open (\"b.txt\",\"w\") as f:\n",
    "    f.writelines(lines)"
   ]
  },
  {
   "cell_type": "markdown",
   "id": "abb8a9da-0386-482d-9724-96949ad6cb9d",
   "metadata": {},
   "source": [
    "Now lets read the file contents for verification"
   ]
  },
  {
   "cell_type": "code",
   "execution_count": null,
   "id": "83b12dee-88b7-42ff-acb4-082a2c71d59d",
   "metadata": {},
   "outputs": [],
   "source": []
  }
 ],
 "metadata": {
  "kernelspec": {
   "display_name": "Python 3 (ipykernel)",
   "language": "python",
   "name": "python3"
  },
  "language_info": {
   "codemirror_mode": {
    "name": "ipython",
    "version": 3
   },
   "file_extension": ".py",
   "mimetype": "text/x-python",
   "name": "python",
   "nbconvert_exporter": "python",
   "pygments_lexer": "ipython3",
   "version": "3.10.8"
  }
 },
 "nbformat": 4,
 "nbformat_minor": 5
}
