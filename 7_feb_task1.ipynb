{
 "cells": [
  {
   "cell_type": "markdown",
   "id": "0031dbf2-a9ff-42d8-b7c1-125d7022fa3e",
   "metadata": {},
   "source": [
    "Q1. You are writing code for a company. The requirement of the company is that you create a python \n",
    "function that will check whether the password entered by the user is correct or not. The function should \n",
    "take the password as input and return the string “Valid Password” if the entered password follows the \n",
    "below-given password guidelines else it should return “Invalid Password”.\n",
    "Note: \n",
    "1. The Password should contain at least two uppercase letters and at least two lowercase letters.\n",
    "2. The Password should contain at least a number and three special characters.\n",
    "3. The length of the password should be 10 characters long."
   ]
  },
  {
   "cell_type": "code",
   "execution_count": 33,
   "id": "35834000-5193-4c62-b505-baa79cd0d458",
   "metadata": {},
   "outputs": [],
   "source": [
    "def password_validator(password):\n",
    "    special_chars ='[@_!#$%^&*()<>?/\\|}{~:]'\n",
    "    count=0\n",
    "    count1=0\n",
    "    count2=0\n",
    "    count3=0\n",
    "    for i in password:\n",
    "        if i.isupper()==True:\n",
    "            count+=1\n",
    "        if i.islower()==True:\n",
    "            count1+=1\n",
    "        if i.isnumeric()==True:\n",
    "            count2+=1\n",
    "        if i in special_chars:\n",
    "            count3+=1\n",
    "    if count>=2 and count1>=2 and count2>=1 and count3>=3 and len(password)>=10:\n",
    "        print(\"Valid Password\")\n",
    "    else:\n",
    "        print(\"Invalid Password\")"
   ]
  },
  {
   "cell_type": "code",
   "execution_count": 35,
   "id": "090c7b09-99fb-4fce-91ea-4f022b1fd637",
   "metadata": {},
   "outputs": [
    {
     "name": "stdin",
     "output_type": "stream",
     "text": [
      "Enter Password AASS@@#1478\n"
     ]
    },
    {
     "name": "stdout",
     "output_type": "stream",
     "text": [
      "Invalid Password\n"
     ]
    }
   ],
   "source": [
    "pas=input(\"Enter Password\")\n",
    "password_validator(pas)"
   ]
  },
  {
   "cell_type": "markdown",
   "id": "6b562963-da72-416d-a7a5-d64f36fc3531",
   "metadata": {},
   "source": [
    "Q2. Solve the below-given questions using at least one of the following: \n",
    "1. Lambda function\n",
    "2. Filter function\n",
    "3. Map function\n",
    "4. List Comprehension\n",
    "\n",
    "\n",
    "\n",
    "\n"
   ]
  },
  {
   "cell_type": "markdown",
   "id": "69734bd4-1c8d-4e5d-9036-917e28940481",
   "metadata": {},
   "source": [
    "- Check if the string starts with a particular letter."
   ]
  },
  {
   "cell_type": "code",
   "execution_count": 36,
   "id": "8f2e3c1e-05f4-49c1-bb5b-49035b7e0854",
   "metadata": {},
   "outputs": [],
   "source": [
    "parti_word=\"h\"\n",
    "check_str=lambda x:True if x[0]==parti_word else False"
   ]
  },
  {
   "cell_type": "code",
   "execution_count": 37,
   "id": "be63bd93-d45b-4a1d-92d1-abaa304600d4",
   "metadata": {},
   "outputs": [
    {
     "data": {
      "text/plain": [
       "True"
      ]
     },
     "execution_count": 37,
     "metadata": {},
     "output_type": "execute_result"
    }
   ],
   "source": [
    "\n",
    "check_str(\"hl1233\")"
   ]
  },
  {
   "cell_type": "markdown",
   "id": "d2cebf9e-6c09-4455-bff6-9ba813f984c5",
   "metadata": {},
   "source": [
    " - Check if the string is numeric."
   ]
  },
  {
   "cell_type": "code",
   "execution_count": 38,
   "id": "b44fabfb-33bb-4fe2-ae6b-5b133788bc67",
   "metadata": {},
   "outputs": [],
   "source": [
    "csn=lambda x: True if x.isnumeric() else False"
   ]
  },
  {
   "cell_type": "code",
   "execution_count": 39,
   "id": "1de65806-2b27-4095-81b0-76653621c555",
   "metadata": {},
   "outputs": [
    {
     "data": {
      "text/plain": [
       "False"
      ]
     },
     "execution_count": 39,
     "metadata": {},
     "output_type": "execute_result"
    }
   ],
   "source": [
    "csn(\"78996p544\")"
   ]
  },
  {
   "cell_type": "markdown",
   "id": "a41cdb49-1ea5-4448-b288-514441f853b5",
   "metadata": {},
   "source": [
    "- Sort a list of tuples having fruit names and their quantity. [(\"mango\",99),(\"orange\",80), (\"grapes\", 1000)]\n"
   ]
  },
  {
   "cell_type": "code",
   "execution_count": 71,
   "id": "1b797034-4e03-48c2-9ff1-c1b86d6317f4",
   "metadata": {},
   "outputs": [],
   "source": [
    "st=[(\"mango\",99),(\"orange\",80), (\"grapes\", 1000)]"
   ]
  },
  {
   "cell_type": "code",
   "execution_count": 75,
   "id": "aa5c1280-0695-4950-a839-a00cea698a23",
   "metadata": {},
   "outputs": [
    {
     "data": {
      "text/plain": [
       "[('orange', 80), ('mango', 99), ('grapes', 1000)]"
      ]
     },
     "execution_count": 75,
     "metadata": {},
     "output_type": "execute_result"
    }
   ],
   "source": [
    "sorted(st,key=lambda x:x[1])"
   ]
  },
  {
   "cell_type": "markdown",
   "id": "11979b8b-befe-4ee5-b72f-f2a7953df3fd",
   "metadata": {},
   "source": [
    "- Find the squares of numbers from 1 to 10.\n"
   ]
  },
  {
   "cell_type": "code",
   "execution_count": 84,
   "id": "8356127a-d2c5-4302-9791-45e3ba270d01",
   "metadata": {},
   "outputs": [],
   "source": [
    "l1=list(range(1,11))"
   ]
  },
  {
   "cell_type": "code",
   "execution_count": 85,
   "id": "61644d47-2157-438c-8ae9-579d39c8c965",
   "metadata": {},
   "outputs": [],
   "source": [
    "l2=map(lambda x:x**2,l1)\n"
   ]
  },
  {
   "cell_type": "code",
   "execution_count": 86,
   "id": "80386c11-e449-4346-af90-3be80f3bb77a",
   "metadata": {},
   "outputs": [
    {
     "name": "stdout",
     "output_type": "stream",
     "text": [
      "[1, 4, 9, 16, 25, 36, 49, 64, 81, 100]\n"
     ]
    }
   ],
   "source": [
    "print(list(l2))"
   ]
  },
  {
   "cell_type": "markdown",
   "id": "8ab6fb21-cb98-4271-8fbb-8dc8b4a8aceb",
   "metadata": {},
   "source": [
    "- Find the cube root of numbers from 1 to 10."
   ]
  },
  {
   "cell_type": "code",
   "execution_count": 21,
   "id": "cd71ba71-888b-4dda-91f7-273c590c5584",
   "metadata": {},
   "outputs": [],
   "source": [
    "l1=list(range(1,11))"
   ]
  },
  {
   "cell_type": "code",
   "execution_count": 22,
   "id": "1b00cbb0-7dc9-4330-8cab-988c75720771",
   "metadata": {},
   "outputs": [],
   "source": [
    "l2=map(lambda x:x**(1/3),l1)"
   ]
  },
  {
   "cell_type": "code",
   "execution_count": 23,
   "id": "5f6297c2-4db1-4c97-8d61-0cbb08c5728c",
   "metadata": {},
   "outputs": [
    {
     "name": "stdout",
     "output_type": "stream",
     "text": [
      "[1.0, 1.2599210498948732, 1.4422495703074083, 1.5874010519681994, 1.7099759466766968, 1.8171205928321397, 1.912931182772389, 2.0, 2.080083823051904, 2.154434690031884]\n"
     ]
    }
   ],
   "source": [
    "print(list(l2))"
   ]
  },
  {
   "cell_type": "markdown",
   "id": "c29f550e-b381-45a3-ac39-080098b96415",
   "metadata": {},
   "source": [
    "- Check if a given number is even"
   ]
  },
  {
   "cell_type": "code",
   "execution_count": 32,
   "id": "77beeee7-9453-4d1b-ae48-fcd672cba038",
   "metadata": {},
   "outputs": [
    {
     "name": "stdout",
     "output_type": "stream",
     "text": [
      "[False, True, False, True, False, True, False, True, False, True]\n"
     ]
    }
   ],
   "source": [
    "l3=map(lambda x:x%2==0,l1)\n",
    "print(list(l3))"
   ]
  },
  {
   "cell_type": "markdown",
   "id": "db309314-8ff5-4cda-b1b3-e2b838d0a514",
   "metadata": {},
   "source": [
    "- Filter odd numbers from the given list.\n",
    " [1,2,3,4,5,6,7,8,9,10]"
   ]
  },
  {
   "cell_type": "code",
   "execution_count": 30,
   "id": "18c84bf1-2b18-40b6-aea4-db231a2f9b53",
   "metadata": {},
   "outputs": [],
   "source": [
    "a=[1,2,3,4,5,6,7,8,9,10]\n",
    "l=filter(lambda x:x%2!=0,a)"
   ]
  },
  {
   "cell_type": "code",
   "execution_count": 31,
   "id": "b344d729-fbc8-49b7-b6cf-ccd60b2ff708",
   "metadata": {},
   "outputs": [
    {
     "name": "stdout",
     "output_type": "stream",
     "text": [
      "[1, 3, 5, 7, 9]\n"
     ]
    }
   ],
   "source": [
    "print(list(l))"
   ]
  },
  {
   "cell_type": "markdown",
   "id": "1a927254-9c05-4af7-b122-0ba479d3027e",
   "metadata": {},
   "source": [
    "- Sort a list of integers into positive and negative integers lists.\n",
    " [1,2,3,4,5,6,-1,-2,-3,-4,-5,0]"
   ]
  },
  {
   "cell_type": "code",
   "execution_count": 9,
   "id": "852edd0c-fa68-4c33-85b0-027ce390773a",
   "metadata": {},
   "outputs": [
    {
     "name": "stdout",
     "output_type": "stream",
     "text": [
      "[1, 2, 3, 4, 5, 6, 0] [-1, -2, -3, -4, -5]\n"
     ]
    }
   ],
   "source": [
    "a=[1,2,3,4,5,6,-1,-2,-3,-4,-5,0]\n",
    "positive_list=[i for i in a if i>=0]\n",
    "negative_list=[i for i in a if i<0]\n",
    "print(positive_list,negative_list)"
   ]
  },
  {
   "cell_type": "code",
   "execution_count": null,
   "id": "fa8fd962-9558-4810-8b9e-d9e256b47763",
   "metadata": {},
   "outputs": [],
   "source": []
  },
  {
   "cell_type": "code",
   "execution_count": null,
   "id": "bea2f9b5-cf93-4832-bf5f-7db6319b3f7b",
   "metadata": {},
   "outputs": [],
   "source": []
  },
  {
   "cell_type": "code",
   "execution_count": null,
   "id": "60330a3d-2d9c-462c-9c1a-1c638fe141fd",
   "metadata": {},
   "outputs": [],
   "source": []
  }
 ],
 "metadata": {
  "kernelspec": {
   "display_name": "Python 3 (ipykernel)",
   "language": "python",
   "name": "python3"
  },
  "language_info": {
   "codemirror_mode": {
    "name": "ipython",
    "version": 3
   },
   "file_extension": ".py",
   "mimetype": "text/x-python",
   "name": "python",
   "nbconvert_exporter": "python",
   "pygments_lexer": "ipython3",
   "version": "3.10.8"
  }
 },
 "nbformat": 4,
 "nbformat_minor": 5
}
