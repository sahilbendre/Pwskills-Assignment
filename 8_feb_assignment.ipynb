{
 "cells": [
  {
   "cell_type": "markdown",
   "id": "c8c5b392-93ac-44d7-af33-f25ab13f130a",
   "metadata": {},
   "source": [
    "Q1. What is Abstraction in OOps? Explain with an example?"
   ]
  },
  {
   "cell_type": "markdown",
   "id": "daa2780d-ceb8-4000-b427-4780ad6683be",
   "metadata": {},
   "source": [
    "Abstraction is  a process of handling complexity by hiding unnecessary information from the user. This is one of the core concepts of object-oriented programming (OOP) languages.Abstraction provides a programmer to hide all the irrelevant data/process of an application in order to reduce complexity and increase the efficiency of the program.when we create absract class then we can't access directly. it's means we can't create object of base class.if we can try to create a object of abstract class then error will be occur."
   ]
  },
  {
   "cell_type": "code",
   "execution_count": 3,
   "id": "9dc4ced3-5dd9-41e9-89da-2a36ec2873b8",
   "metadata": {},
   "outputs": [
    {
     "name": "stdout",
     "output_type": "stream",
     "text": [
      "The Rolls-Royce Key Feature is : Power Steering,Power Windows Front,Anti Lock Braking System,Driver Airbag ,Passenger Airbag,Automatic Climate Control,Fog Lights - Front,Alloy Wheels\n",
      "The Tesla key feature : All Tesla models feature a unique touchscreen that comes with an array of features including video games, streaming services, and live traffic updates. The screens are also home to standard features like climate control and navigation but look nothing like anything else on the market.\n"
     ]
    }
   ],
   "source": [
    "from abc import ABC,abstractmethod\n",
    "class car(ABC):\n",
    "    @abstractmethod\n",
    "    def feature(self):\n",
    "        pass\n",
    "class Rolls_Royce(car):\n",
    "    def feature(self):\n",
    "        print(\"The Rolls-Royce Key Feature is : Power Steering,Power Windows Front,Anti Lock Braking System,Driver Airbag ,Passenger Airbag,Automatic Climate Control,Fog Lights - Front,Alloy Wheels\")\n",
    "class tesla(car):\n",
    "    def feature(self):\n",
    "        print(\"The Tesla key feature : All Tesla models feature a unique touchscreen that comes with an array of features including video games, streaming services, and live traffic updates. The screens are also home to standard features like climate control and navigation but look nothing like anything else on the market.\")\n",
    "class audi(car):\n",
    "    def feature(self):\n",
    "        print(\"The Audi Car Key Feature is Ultimate Peace of Mind: Audi is a reliable brand with a great track record. Superior Handling: Audi offers premiere handling thanks to its quattro® All-Wheel Drive system and turbocharged engines. Electric Capability: Audi is quickly becoming a leader in all-electric vehicles with the e-tron® lineup rapidly growing.\")\n",
    "Rolls_Royce=Rolls_Royce()\n",
    "Rolls_Royce.feature()\n",
    "tesla=tesla()\n",
    "tesla.feature()\n",
    "\n"
   ]
  },
  {
   "cell_type": "markdown",
   "id": "3912545d-b6f4-4af0-92e6-60ffb09630fd",
   "metadata": {},
   "source": [
    "Q2. Differentiate between Abstraction and Encapsulation. Explain with an example?"
   ]
  },
  {
   "cell_type": "markdown",
   "id": "a7b99981-22ed-4b4a-b5c0-54811601ba68",
   "metadata": {},
   "source": [
    " **Abstraction** is a design level process.Abstraction is concerned about what a class instance can do, instead of the implementation of the class.Abstraction is a design level process and it is used to reduce the complexity at the designing stage of a project.\n",
    " "
   ]
  },
  {
   "cell_type": "markdown",
   "id": "c6d3ffea-4c97-4c79-9186-41caf6c4fb8d",
   "metadata": {},
   "source": [
    "**Encapsulation** is an implementation level process.Encapsulation helps in data binding and control over maintaining the transparency of the data.Encapsulation is an implementation level process, and it is used to provide privacy and maintain control over the transparency of data at the implementation stage of a project."
   ]
  },
  {
   "cell_type": "code",
   "execution_count": 12,
   "id": "e426c079-7d50-4a8a-ad6e-78eebfb023da",
   "metadata": {},
   "outputs": [
    {
     "name": "stdout",
     "output_type": "stream",
     "text": [
      "Human can speak human Language.\n",
      "Dog is Bark\n"
     ]
    }
   ],
   "source": [
    "#abstraction example\n",
    "from abc import ABC,abstractmethod\n",
    "class animals(ABC):\n",
    "    def language(self):\n",
    "        pass\n",
    "class human(animals):\n",
    "    def language(self):\n",
    "        print(\"Human can speak human Language.\")\n",
    "class lion(animals):\n",
    "    def language(self):\n",
    "        print(\"Lion is roar\")\n",
    "class Dog(animals):\n",
    "    def language(self):\n",
    "        print(\"Dog is Bark\")\n",
    "human=human()\n",
    "human.language()\n",
    "dog=Dog()\n",
    "dog.language()\n"
   ]
  },
  {
   "cell_type": "code",
   "execution_count": 22,
   "id": "8aea8024-263d-481c-9df7-f87dc953411f",
   "metadata": {},
   "outputs": [
    {
     "name": "stdout",
     "output_type": "stream",
     "text": [
      "The Project Name  is NLP project\n",
      "The salary of Avi is 25000rs\n"
     ]
    }
   ],
   "source": [
    "#Encapsulation example\n",
    "class project():\n",
    "    def __init__(self,name,salary,project):\n",
    "        self.name=name\n",
    "        self._salary=salary\n",
    "        self.__project=project\n",
    "    def show_project(self):\n",
    "        print(f\"The Project Name  is {self.__project}\")\n",
    "class employee(project):\n",
    "    def salary(self):\n",
    "        print(f\"The salary of {self.name} is {self._salary}rs\")\n",
    "\n",
    "Avi=employee(\"Avi\",25000,\"NLP project\")\n",
    "Avi.show_project()\n",
    "# Avi=employee()\n",
    "Avi.salary()\n",
    "        "
   ]
  },
  {
   "cell_type": "markdown",
   "id": "88f43167-78f4-4fb3-bdfc-3cb3d8cc8351",
   "metadata": {},
   "source": [
    "Q3.What is abc module in python? Why is it used?"
   ]
  },
  {
   "cell_type": "markdown",
   "id": "2e9d46a1-b245-407d-9c01-5c67e70e8b79",
   "metadata": {},
   "source": [
    " The 'abc' module in Python library provides the infrastructure for defining custom abstract base classes.'abc' works by marking methods of the base class as abstract. This is done by @absttractmethod decorator.They are used as a base class for creating a hierarchy of classes and to enforce a common interface between objects."
   ]
  },
  {
   "cell_type": "markdown",
   "id": "e2da9027-1a58-4adf-b22c-2acfeb0bc56b",
   "metadata": {},
   "source": [
    "Q4.How can we achieve data abstraction?"
   ]
  },
  {
   "cell_type": "markdown",
   "id": "c3c46396-42a0-4d2d-8161-3fac3a4a13e8",
   "metadata": {},
   "source": [
    "Data abstraction can be achieved in Python by using classes and objects. We can define a class with private attributes and methods that are not accessible from outside the class. This way, we can hide the implementation details of the class and expose only the necessary information through public methods. By doing this, we can achieve data abstraction and encapsulation. In addition, we can also use abstract base classes from the abc module to define a common interface for a group of related classes, which helps to enforce a certain level of abstraction and modularity in our code."
   ]
  },
  {
   "cell_type": "markdown",
   "id": "9e4d416e-9ab9-4d02-8417-f87207848409",
   "metadata": {},
   "source": [
    "Q5. Can we create an instance of an abstract class? Explain your answer."
   ]
  },
  {
   "cell_type": "markdown",
   "id": "9a81dc92-8a04-453b-b9fd-39d133d40e6e",
   "metadata": {},
   "source": [
    "No, we cannot create an instance of an abstract class in Python. Abstract classes are designed to be incomplete and cannot be instantiated directly. They are meant to be subclassed and implemented by their concrete subclasses. The purpose of an abstract class is to define a common interface or set of methods that must be implemented by its concrete subclasses. When we create an instance of a concrete subclass, it will have all the necessary methods and attributes defined in the abstract base class."
   ]
  }
 ],
 "metadata": {
  "kernelspec": {
   "display_name": "Python 3 (ipykernel)",
   "language": "python",
   "name": "python3"
  },
  "language_info": {
   "codemirror_mode": {
    "name": "ipython",
    "version": 3
   },
   "file_extension": ".py",
   "mimetype": "text/x-python",
   "name": "python",
   "nbconvert_exporter": "python",
   "pygments_lexer": "ipython3",
   "version": "3.10.8"
  }
 },
 "nbformat": 4,
 "nbformat_minor": 5
}
