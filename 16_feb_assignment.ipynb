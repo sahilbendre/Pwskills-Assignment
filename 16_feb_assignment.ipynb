{
 "cells": [
  {
   "cell_type": "markdown",
   "id": "9540e4e3-c4bb-473d-b592-0e0945137ac0",
   "metadata": {},
   "source": [
    "Q1. What is a database? Differentiate between SQL and NoSQL databases?"
   ]
  },
  {
   "cell_type": "markdown",
   "id": "7ba0a5fe-ba5e-4cc2-90cc-7ffc7a3b9fb8",
   "metadata": {},
   "source": [
    "Databases are used for storing, maintaining and accessing any sort of data. They collect information on people, places or things. That information is gathered in one place so that it can be observed and analyzed. Databases can be thought of as an organized collection of information.\n",
    "\n",
    "SQL databases are relational, and NoSQL databases are non-relational.\n",
    "\n",
    "SQL databases use structured query language (SQL) and have a predefined schema. NoSQL databases have dynamic schemas for unstructured data.\n",
    "\n",
    "SQL databases are vertically scalable, while NoSQL databases are horizontally scalable.\n",
    "\n",
    "SQL databases are table-based, while NoSQL databases are document, key-value, graph, or wide-column stores.\n",
    "\n",
    "SQL databases are better for multi-row transactions, while NoSQL is better for unstructured data like documents or JSON."
   ]
  },
  {
   "cell_type": "markdown",
   "id": "2645f101-fa4d-4d12-872b-7734b9f770db",
   "metadata": {},
   "source": [
    "Q2. What is DDL? Explain why CREATE, DROP, ALTER, and TRUNCATE are used with an example."
   ]
  },
  {
   "cell_type": "markdown",
   "id": "53426859-55b4-451c-b08a-59c85e1e61e2",
   "metadata": {},
   "source": [
    "DDL stand For Data Defination Language.It is used to define Structure of database and table.DDL statements are used to create, modify, and delete database objects such as tables, views, indexes, and constraints."
   ]
  },
  {
   "cell_type": "markdown",
   "id": "044e9c81-e961-4385-93c0-bdb9ee7fa4af",
   "metadata": {},
   "source": [
    "CREATE:This command is used to create a new database and database object such as a table, view, index, or stored procedure."
   ]
  },
  {
   "cell_type": "markdown",
   "id": "f24b8404-4d85-498b-8fd9-1e553693ae76",
   "metadata": {},
   "source": [
    "CREATE TABLE employee(\n",
    "    \n",
    "    id int primary key,\n",
    "    \n",
    "    name varchar(50),\n",
    "    \n",
    "    job_profile varchar(50)\n",
    ");"
   ]
  },
  {
   "cell_type": "markdown",
   "id": "bdbf97c2-faf5-4431-93f0-0e186cbf6a55",
   "metadata": {},
   "source": [
    "ALTER:This Command is used to modify the exisiting  databse object such as a table,view,index and stored procedure.ALTER can be used to add, modify, or delete columns from a table, or change the data type of a column."
   ]
  },
  {
   "cell_type": "markdown",
   "id": "c07531a8-8730-4bcd-a039-b0677750ccae",
   "metadata": {},
   "source": [
    "ALTER table student ADD COLUMN email VARCHAR(50);"
   ]
  },
  {
   "cell_type": "markdown",
   "id": "567e7441-6d47-43fa-8189-856b026bf418",
   "metadata": {},
   "source": [
    "DROP:This command is used to delete an existing database and database object such as a table, view, index, or stored procedure"
   ]
  },
  {
   "cell_type": "markdown",
   "id": "afaacc89-5802-4aac-af86-e75553190d0d",
   "metadata": {},
   "source": [
    "DROP TABLE employee"
   ]
  },
  {
   "cell_type": "markdown",
   "id": "3317dcdd-cf26-4ff5-b976-7a49b0190a6c",
   "metadata": {},
   "source": [
    "TRUNCATE:This Command is used to remove the data without removing structure of table"
   ]
  },
  {
   "cell_type": "markdown",
   "id": "a9408f66-15e1-4792-aec1-9c4702383228",
   "metadata": {},
   "source": [
    "TRUNCATE TABLE employee;"
   ]
  },
  {
   "cell_type": "markdown",
   "id": "7f5fe18f-d4ad-4a93-91aa-3b732c423a0a",
   "metadata": {},
   "source": [
    "Q3. What is DML? Explain INSERT, UPDATE, and DELETE with an example."
   ]
  },
  {
   "cell_type": "markdown",
   "id": "fbfc349a-83a4-4314-ac13-bd5d1bea69dc",
   "metadata": {},
   "source": [
    "DML stand for Data Manipulation Language.It is used for inserting/storing,modifying and deleting the data store in the database"
   ]
  },
  {
   "cell_type": "markdown",
   "id": "9f67f5e9-ed32-46c3-9bd8-88582f788096",
   "metadata": {},
   "source": [
    "INSERT:This Command is used Insert data in the existing table."
   ]
  },
  {
   "cell_type": "markdown",
   "id": "cf3a4bf8-407a-4dfe-be2d-fef5fe8b2942",
   "metadata": {},
   "source": [
    "INSERT INTO employee (id, name, job_profile, email) VALUES (1, 'Ram', 'data Scientist', 'Ram123@gmail.com');"
   ]
  },
  {
   "cell_type": "markdown",
   "id": "cf7d3ac9-9f94-43d7-baa6-79d91c938358",
   "metadata": {},
   "source": [
    "UPDATE:This command is used to modify existing data in a table."
   ]
  },
  {
   "cell_type": "markdown",
   "id": "d30cd135-c544-40b1-8e30-c5717797cd00",
   "metadata": {},
   "source": [
    "UPDATE employee SET email=\"ram142@gmail.com\" whe"
   ]
  },
  {
   "cell_type": "markdown",
   "id": "a2a8b10d-91f1-43fd-a8e6-56ae6a43e65a",
   "metadata": {},
   "source": [
    "DELETE:This command is used to delete data from a table."
   ]
  },
  {
   "cell_type": "markdown",
   "id": "f60fba31-48c9-4adc-b271-a9289944833e",
   "metadata": {},
   "source": [
    "DELETE FROM students WHERE id = 1;"
   ]
  },
  {
   "cell_type": "markdown",
   "id": "79df6dac-114a-4f05-92a3-5c58a1a4baca",
   "metadata": {},
   "source": [
    "Q4. What is DQL? Explain SELECT with an example."
   ]
  },
  {
   "cell_type": "markdown",
   "id": "08bd3194-094a-4b3d-bd41-01929db12691",
   "metadata": {},
   "source": [
    "DQL stand for Data Query Language. which is a subset of SQL (Structured Query Language) used to retrieve data from a database. DQL commands are used to search, filter, and sort data from tables in a database."
   ]
  },
  {
   "cell_type": "markdown",
   "id": "4a9c5817-bfbd-4a57-97a7-c8c3dcc5a7a1",
   "metadata": {},
   "source": [
    "SELECT:he SELECT statement is used to retrieve data from one or more tables in a database. It is one of the most commonly used SQL statements."
   ]
  },
  {
   "cell_type": "markdown",
   "id": "6039b0e4-9584-42a2-a3c9-cd97b5a8032c",
   "metadata": {},
   "source": [
    "SELECT * from product "
   ]
  },
  {
   "cell_type": "markdown",
   "id": "0ee41b1c-f364-4d94-b627-db38321ad482",
   "metadata": {},
   "source": [
    "This statement retrieves all the columns (indicated by the * symbol) from the product table in a database. The semicolon at the end of the statement signifies the end of the statement."
   ]
  },
  {
   "cell_type": "markdown",
   "id": "a7cc5afc-a103-4d5e-9644-8cd76793ccec",
   "metadata": {},
   "source": [
    "SELECT p_name,p_price,p_desc FROM product;"
   ]
  },
  {
   "cell_type": "markdown",
   "id": "3d7c7a21-2c98-47e8-91a7-87348685c82a",
   "metadata": {},
   "source": [
    "This statement retrieves only the  p_name,p_price,p_desc columns from the product table. You can also use WHERE clause to add conditions to filter data"
   ]
  },
  {
   "cell_type": "markdown",
   "id": "30542e65-6745-4b8c-9524-16ca8f4bf7c3",
   "metadata": {},
   "source": [
    "Q5. Explain Primary Key and Foreign Key."
   ]
  },
  {
   "cell_type": "markdown",
   "id": "0085dba5-f019-4b89-81f0-4e83f275f558",
   "metadata": {},
   "source": [
    "Primary key:The PRIMARY KEY constraint uniquely identifies each record in a table.\n",
    "Primary keys must contain UNIQUE values, and cannot contain NULL values.\n",
    "A table can have only ONE primary key; and in the table, this primary key can consist of single or multiple columns (fields).\n",
    "\n",
    "Foreign Key:The FOREIGN KEY constraint is used to prevent actions that would destroy links between tables.\n",
    "A FOREIGN KEY is a field (or collection of fields) in one table, that refers to the PRIMARY KEY in another table.\n",
    "The table with the foreign key is called the child table, and the table with the primary key is called the referenced or parent table."
   ]
  },
  {
   "cell_type": "markdown",
   "id": "50dc557d-2815-4338-9d98-b4b2fb4a30a9",
   "metadata": {},
   "source": [
    "Q6. Write a python code to connect MySQL to python. Explain the cursor() and execute() method"
   ]
  },
  {
   "cell_type": "code",
   "execution_count": 1,
   "id": "e99044e1-4a37-4881-ad26-b3d25464fd9e",
   "metadata": {},
   "outputs": [
    {
     "name": "stdout",
     "output_type": "stream",
     "text": [
      "Requirement already satisfied: mysql-connector-python==8.0.31 in /opt/conda/lib/python3.10/site-packages (8.0.31)\n",
      "Requirement already satisfied: protobuf<=3.20.1,>=3.11.0 in /opt/conda/lib/python3.10/site-packages (from mysql-connector-python==8.0.31) (3.20.1)\n",
      "Note: you may need to restart the kernel to use updated packages.\n"
     ]
    }
   ],
   "source": [
    "pip install mysql-connector-python==8.0.31"
   ]
  },
  {
   "cell_type": "code",
   "execution_count": 9,
   "id": "93175f59-bd27-4068-9c27-f822fd19916b",
   "metadata": {},
   "outputs": [
    {
     "name": "stdout",
     "output_type": "stream",
     "text": [
      "SQL Interface Error\n"
     ]
    }
   ],
   "source": [
    "import mysql.connector\n",
    "try:\n",
    "    connection = mysql.connector.connect(\n",
    "    host=\"localhost\",\n",
    "    user=\"abc\",\n",
    "    password=\"password\",\n",
    "    database=\"product\")\n",
    "    # Create a cursor object\n",
    "    cursor = connection.cursor()\n",
    "    # Execute SQL queries\n",
    "    cursor.execute(\"Create table product_detail(id int PRIMARY KEY,p_name varchar(50),p_desc varchar(50))\")\n",
    "except Exception as e :\n",
    "    print(\"SQL Interface Error\")"
   ]
  },
  {
   "cell_type": "markdown",
   "id": "a89623fe-9db0-411f-b767-04ab36af5161",
   "metadata": {},
   "source": [
    "cursor(): The execute() method is used to execute a SQL query on the database. It takes in a string containing the SQL query as a parameter.\n",
    "\n",
    "execute(): The cursor() method creates a new cursor object that can be used to execute SQL queries on the database. The cursor object is used to fetch the results of the query and perform other operations on the database."
   ]
  },
  {
   "cell_type": "code",
   "execution_count": null,
   "id": "3fc33d66-b222-45ce-801b-3150137be1e2",
   "metadata": {},
   "outputs": [],
   "source": [
    "Q7. Give the order of execution of SQL clauses in an SQL query."
   ]
  }
 ],
 "metadata": {
  "kernelspec": {
   "display_name": "Python 3 (ipykernel)",
   "language": "python",
   "name": "python3"
  },
  "language_info": {
   "codemirror_mode": {
    "name": "ipython",
    "version": 3
   },
   "file_extension": ".py",
   "mimetype": "text/x-python",
   "name": "python",
   "nbconvert_exporter": "python",
   "pygments_lexer": "ipython3",
   "version": "3.10.8"
  }
 },
 "nbformat": 4,
 "nbformat_minor": 5
}
