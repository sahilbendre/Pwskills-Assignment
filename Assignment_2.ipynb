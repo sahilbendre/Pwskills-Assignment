{
 "cells": [
  {
   "cell_type": "markdown",
   "id": "c5c88303-5b2d-4f67-9292-42844e872611",
   "metadata": {},
   "source": [
    "<!-- Write a program to accept percentage from the user and display the grade according  to the following criteria:\n",
    "Marks           Grade\n",
    ">90               A\n",
    ">80 and <=90      B\n",
    ">=60 and <=80     C\n",
    "bebw 60           D -->"
   ]
  },
  {
   "cell_type": "markdown",
   "id": "67000035-7d1b-4f5d-9106-975fb583eb8b",
   "metadata": {},
   "source": [
    "1. Write a program to accept percentage from the user and display the grade according to the following criteria:\n",
    "Marks    Grade\n",
    ">90        A\n",
    ">80and<=90 B\n",
    ">=60"
   ]
  },
  {
   "cell_type": "code",
   "execution_count": 5,
   "id": "cb9aaa49-a2ec-47e8-9d96-98d6faff9b8c",
   "metadata": {},
   "outputs": [
    {
     "name": "stdin",
     "output_type": "stream",
     "text": [
      "Enter the Percentage 95\n"
     ]
    },
    {
     "name": "stdout",
     "output_type": "stream",
     "text": [
      "Congrats! you have get `A` Grade\n"
     ]
    }
   ],
   "source": [
    "p=int(input(\"Enter the Percentage\"))\n",
    "if p>90:\n",
    "    print(\"Congrats! you have get `A` Grade\")\n",
    "elif p>80 and p<=90:\n",
    "    print(\"Congrats! you have get `B` Grade\")\n",
    "elif p>60 and p<=80:\n",
    "    print(\"Congrats! you have get `C` Grade\")\n",
    "else:\n",
    "    print(\"Congrats! you have get `D` Grade\")\n",
    "          "
   ]
  },
  {
   "cell_type": "markdown",
   "id": "e85ea63b-1b36-448f-a823-ceb1e62c72a1",
   "metadata": {},
   "source": [
    "2 Write a program to accept the cost price Of a bike and the tax to be paid to the\n",
    "following criteria:\n",
    "Tax      Cost Price(in Rs)\n",
    "15%        >100000\n",
    "10%        >5OOOO and <=100000\n",
    "5%         < = 50000"
   ]
  },
  {
   "cell_type": "code",
   "execution_count": 6,
   "id": "05100b4d-3485-465a-8f2e-8442e734d081",
   "metadata": {},
   "outputs": [
    {
     "name": "stdin",
     "output_type": "stream",
     "text": [
      "Enter the Price of Bike 899999\n"
     ]
    },
    {
     "name": "stdout",
     "output_type": "stream",
     "text": [
      "You paid 15% Tax\n"
     ]
    }
   ],
   "source": [
    "price=int(input(\"Enter the Price of Bike\"))\n",
    "if price >100000:\n",
    "    print(\"You paid 15% Tax\")\n",
    "elif price>50000 and price<=100000:\n",
    "    print(\"You Paid 10% Tax\")\n",
    "else:\n",
    "    print(\"you paid 5% Tax\")"
   ]
  },
  {
   "cell_type": "markdown",
   "id": "3520221c-fff4-41db-b03d-b9bcb9b2e15e",
   "metadata": {},
   "source": [
    "3. Accept any City from the user and Display Monuments Of that City.\n",
    "City       Monument \n",
    "Delhi      Red Fort\n",
    "Agra       Taj Mahal\n",
    "Jaipur     Jai Mahal"
   ]
  },
  {
   "cell_type": "code",
   "execution_count": 7,
   "id": "790c947c-3611-4f1e-a288-51724198fdad",
   "metadata": {},
   "outputs": [
    {
     "name": "stdin",
     "output_type": "stream",
     "text": [
      "Enter the City and City name must start with Capital letter Agra\n"
     ]
    },
    {
     "name": "stdout",
     "output_type": "stream",
     "text": [
      "The Famous place in Agra is Taj Mahal\n"
     ]
    }
   ],
   "source": [
    "c=input(\"Enter the City and City name must start with Capital letter\")\n",
    "if c==\"Delhi\":\n",
    "    print(\"The Famous Place in Delhi is Red Fort \")\n",
    "elif c==\"Agra\":\n",
    "    print(\"The Famous place in Agra is Taj Mahal\")\n",
    "elif c==\"Jaipur\":\n",
    "    print(\"The Famous place in Jaipur is Jai Mahal\")\n",
    "else:\n",
    "    print(\"please Enter Proper city\")"
   ]
  },
  {
   "cell_type": "markdown",
   "id": "bc66ada9-b4dc-48d9-a21e-17910186f234",
   "metadata": {},
   "source": [
    "4. Check how many times a given number can be divided by 3 before it is less than or equal to 10."
   ]
  },
  {
   "cell_type": "code",
   "execution_count": 4,
   "id": "05be5d45-9dc5-4a49-b8bd-c1cfb82f5f53",
   "metadata": {},
   "outputs": [
    {
     "name": "stdin",
     "output_type": "stream",
     "text": [
      "Enter a number 78\n"
     ]
    },
    {
     "name": "stdout",
     "output_type": "stream",
     "text": [
      "2\n"
     ]
    }
   ],
   "source": [
    "h=int(input(\"Enter a number\"))\n",
    "count=0\n",
    "while h>10:\n",
    "    h/=3\n",
    "    count+=1\n",
    "print(count)"
   ]
  },
  {
   "cell_type": "markdown",
   "id": "1e4d5b28-1000-497d-9914-05ea11dee089",
   "metadata": {},
   "source": [
    "5.why and When to use  while LOOP in Python give a detailed description With example"
   ]
  },
  {
   "cell_type": "markdown",
   "id": "2deffc67-927d-4249-bb14-c09378861ccb",
   "metadata": {},
   "source": [
    "Python while loop is used to run a block code until a certain condition is met.The Syntax of While loop is :- \n",
    "while condition:\n",
    "    # body of while loop\n",
    "Here,\n",
    "\n",
    "A while loop evaluates the condition\n",
    "If the condition evaluates to True, the code inside the while loop is executed.\n",
    "condition is evaluated again.\n",
    "This process continues until the condition is False.\n",
    "When condition evaluates to False, the loop stops.\n",
    "The Example of while loop is:"
   ]
  },
  {
   "cell_type": "code",
   "execution_count": 8,
   "id": "5e6864cb-5751-4198-883a-aa5a2e58531a",
   "metadata": {},
   "outputs": [
    {
     "name": "stdout",
     "output_type": "stream",
     "text": [
      "1\n",
      "2\n",
      "3\n",
      "4\n",
      "5\n"
     ]
    }
   ],
   "source": [
    "# program to display numbers from 1 to 5\n",
    "\n",
    "# initialize the variable\n",
    "i = 1\n",
    "n = 5\n",
    "\n",
    "# while loop from i = 1 to 5\n",
    "while i <= n:\n",
    "    print(i)\n",
    "    i = i + 1"
   ]
  },
  {
   "cell_type": "markdown",
   "id": "31a4493b-b6de-42d8-8308-1b48ded55ad1",
   "metadata": {},
   "source": [
    "6.use nested While loop to print 3 different pattern."
   ]
  },
  {
   "cell_type": "markdown",
   "id": "ae979319-f7e6-4551-ab49-f8456131bb45",
   "metadata": {},
   "source": [
    "1]Python Program to Print Right Triangle using While Loop"
   ]
  },
  {
   "cell_type": "code",
   "execution_count": 6,
   "id": "c45fe580-f56c-4963-ade2-cdab40d1b3c9",
   "metadata": {},
   "outputs": [
    {
     "name": "stdout",
     "output_type": "stream",
     "text": [
      "* \n",
      "* * \n",
      "* * * \n",
      "* * * * \n",
      "* * * * * \n"
     ]
    }
   ],
   "source": [
    "i=1\n",
    "while i<=5:\n",
    "    j=1\n",
    "    while j<=i:\n",
    "        print(\"*\",end=\" \")\n",
    "        j+=1\n",
    "    print(\"\")\n",
    "    i+=1"
   ]
  },
  {
   "cell_type": "markdown",
   "id": "a2856a5d-4b46-4de3-a452-05d6c15ce54e",
   "metadata": {},
   "source": [
    "2]Python Program to Print Inverted Right Triangle using While Loop"
   ]
  },
  {
   "cell_type": "code",
   "execution_count": 7,
   "id": "18a5af75-d5ff-423e-8dfd-2e0af71fc8fb",
   "metadata": {},
   "outputs": [
    {
     "name": "stdout",
     "output_type": "stream",
     "text": [
      "* * * * *  \n",
      "* * * *  \n",
      "* * *  \n",
      "* *  \n",
      "*  \n"
     ]
    }
   ],
   "source": [
    "i=1\n",
    "while i<=5:\n",
    "    j=5\n",
    "    while j>=i:\n",
    "        print(\"*\",end=\" \")\n",
    "        j-=1\n",
    "    print(\" \")\n",
    "    i+=1"
   ]
  },
  {
   "cell_type": "markdown",
   "id": "30462aee-ff02-4664-84f3-2532fe32c126",
   "metadata": {},
   "source": [
    "3]Python Program to Print Number Pattern using While Loop"
   ]
  },
  {
   "cell_type": "code",
   "execution_count": 8,
   "id": "678ccdb4-b08a-4f61-afd3-4b411121ff41",
   "metadata": {},
   "outputs": [
    {
     "name": "stdout",
     "output_type": "stream",
     "text": [
      "1 \n",
      "2 3 \n",
      "4 5 6 \n",
      "7 8 9 10 \n",
      "11 12 13 14 15 \n"
     ]
    }
   ],
   "source": [
    "i=1\n",
    "k=1\n",
    "while i<=5:\n",
    "    j=1\n",
    "    while j<=i:\n",
    "        print(k,end=\" \")\n",
    "        j+=1\n",
    "        k+=1\n",
    "    print()\n",
    "    i+=1\n",
    "    "
   ]
  },
  {
   "cell_type": "markdown",
   "id": "923b9760-21ef-43d3-b974-cd219fa8e019",
   "metadata": {},
   "source": [
    "7.Reverse a while loop to display numbers 1O to 1."
   ]
  },
  {
   "cell_type": "code",
   "execution_count": 9,
   "id": "ca55b8ea-b188-4de3-a504-aa1826c548cc",
   "metadata": {},
   "outputs": [
    {
     "name": "stdout",
     "output_type": "stream",
     "text": [
      "10\n",
      "9\n",
      "8\n",
      "7\n",
      "6\n",
      "5\n",
      "4\n",
      "3\n",
      "2\n",
      "1\n"
     ]
    }
   ],
   "source": [
    "i=10\n",
    "while i>0:\n",
    "    print(i)\n",
    "    i-=1"
   ]
  },
  {
   "cell_type": "markdown",
   "id": "46427998-b991-4bdd-912d-648cdd9aba26",
   "metadata": {},
   "source": [
    "8.7.Reverse a while loop to display numbers 1O to 1."
   ]
  },
  {
   "cell_type": "code",
   "execution_count": 12,
   "id": "e7e9969d-7d0f-4292-b18d-9340802515c8",
   "metadata": {},
   "outputs": [
    {
     "name": "stdout",
     "output_type": "stream",
     "text": [
      "10\n",
      "9\n",
      "8\n",
      "7\n",
      "6\n",
      "5\n",
      "4\n",
      "3\n",
      "2\n",
      "1\n"
     ]
    }
   ],
   "source": [
    "i=1\n",
    "j=10\n",
    "while i<=10:\n",
    "    print(j)\n",
    "    i+=1\n",
    "    j-=1"
   ]
  },
  {
   "cell_type": "code",
   "execution_count": null,
   "id": "ede0ce56-2881-4c62-a293-3817b88a09df",
   "metadata": {},
   "outputs": [],
   "source": []
  }
 ],
 "metadata": {
  "kernelspec": {
   "display_name": "Python 3 (ipykernel)",
   "language": "python",
   "name": "python3"
  },
  "language_info": {
   "codemirror_mode": {
    "name": "ipython",
    "version": 3
   },
   "file_extension": ".py",
   "mimetype": "text/x-python",
   "name": "python",
   "nbconvert_exporter": "python",
   "pygments_lexer": "ipython3",
   "version": "3.10.8"
  }
 },
 "nbformat": 4,
 "nbformat_minor": 5
}
