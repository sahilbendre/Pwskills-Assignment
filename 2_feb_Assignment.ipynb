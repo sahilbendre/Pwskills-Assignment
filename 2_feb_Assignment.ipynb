{
 "cells": [
  {
   "cell_type": "markdown",
   "id": "9ccf0f0b-5ddd-451c-8f7f-d1b8e34ffa6a",
   "metadata": {},
   "source": [
    "Q1.Explain with an example each when to use a for loop and a while loop?"
   ]
  },
  {
   "cell_type": "markdown",
   "id": "fcf94a51-3b19-4289-87d9-959985f87c4a",
   "metadata": {},
   "source": [
    "The for loop is used when we already know the number of iterations, which means when we know how many times a statement has to be executed. That is why we have to specify the ending point in the for loop initialization."
   ]
  },
  {
   "cell_type": "code",
   "execution_count": 1,
   "id": "0299b701-61fb-44a5-87c8-d1ef1ae988a7",
   "metadata": {},
   "outputs": [
    {
     "name": "stdout",
     "output_type": "stream",
     "text": [
      "1 56 78 65 85 "
     ]
    }
   ],
   "source": [
    "# for loop example\n",
    "l=[1,56,78,65,85]\n",
    "for i in l:\n",
    "    print(i,end=\" \")"
   ]
  },
  {
   "cell_type": "markdown",
   "id": "147302f7-3a22-410f-ad00-6dd0fa582efb",
   "metadata": {},
   "source": [
    "When we need to end the loop on a condition other than the number of times, we use a while loop. In this case, it is not necessary to know the condition beforehand. That is why we can give a boolean expression in the initialization of the loop."
   ]
  },
  {
   "cell_type": "code",
   "execution_count": 2,
   "id": "8b3a358c-055c-44ee-a114-b3b61556da7d",
   "metadata": {},
   "outputs": [
    {
     "name": "stdout",
     "output_type": "stream",
     "text": [
      "1 56 78 65 85 "
     ]
    }
   ],
   "source": [
    "k=[1,56,78,65,85]\n",
    "l=0\n",
    "while l<len(k):\n",
    "    print(k[l],end=\" \")\n",
    "    l+=1"
   ]
  },
  {
   "cell_type": "markdown",
   "id": "07d622d8-2d3c-46d3-8cde-bf5f86fff207",
   "metadata": {},
   "source": [
    "In the case of a for loop, the initialization is done once at the start, so there is no need to initialize it again. But in the case of a while loop, we require to initialize the loop manually by taking a variable that is further modified (incremented, decremented, multiplied, etc.) as per our requirement."
   ]
  },
  {
   "cell_type": "markdown",
   "id": "9f9d7104-4732-45ee-9abd-fe89c0bcea5f",
   "metadata": {},
   "source": [
    "Q2.  Write a python program to print the sum and product of the first 10 natural numbers using for \n",
    "and while loop?"
   ]
  },
  {
   "cell_type": "code",
   "execution_count": 3,
   "id": "d7a56794-97ea-4b78-9a61-64ef6e6b052b",
   "metadata": {},
   "outputs": [
    {
     "name": "stdout",
     "output_type": "stream",
     "text": [
      "The sum of the first 10 natural numbers is: 45\n",
      "The Product of the first 10 natural numbers is: 362880\n"
     ]
    }
   ],
   "source": [
    "nat_number=range(1,10)\n",
    "nat_sum=0\n",
    "nat_product=1\n",
    "for i in nat_number:\n",
    "    nat_sum+=i\n",
    "    nat_product*=i\n",
    "print(\"The sum of the first 10 natural numbers is:\",nat_sum)\n",
    "print(\"The Product of the first 10 natural numbers is:\",nat_product)"
   ]
  },
  {
   "cell_type": "markdown",
   "id": "9228c2e2-9229-48d7-97f4-e67d7a33dccb",
   "metadata": {},
   "source": [
    "Q3. Create a python program to compute the electricity bill for a household.The per-unit charges in rupees are as follows:\n",
    "For the first 100 units, the user will be charged Rs. 4.5 per unit,\n",
    "for the next 100 units, the user will be charged Rs. 6 per unit, and \n",
    "for the next 100 units, the user will be charged Rs. 10 per unit, \n",
    "After 300 units and above the user will be charged Rs. 20 per unit.\n",
    "You are required to take the units of electricity consumed in a month from the user as input.\n",
    "Your program must pass this test case: when the unit of electricity consumed by the user in a month is 310, the total electricity bill should be 2250."
   ]
  },
  {
   "cell_type": "code",
   "execution_count": 4,
   "id": "1c216db1-4b15-4374-81a3-0298dd542f1d",
   "metadata": {},
   "outputs": [
    {
     "name": "stdin",
     "output_type": "stream",
     "text": [
      "Enter The units of electricity consumed in a month  310\n"
     ]
    },
    {
     "name": "stdout",
     "output_type": "stream",
     "text": [
      "total bill is : 2250.0\n"
     ]
    }
   ],
   "source": [
    "unit_consumed=int(input(\"Enter The units of electricity consumed in a month \"))\n",
    "t_bill=0\n",
    "if unit_consumed<100:\n",
    "    t_bill=unit_consumed*4.5\n",
    "elif unit_consumed>100 and unit_consumed<=200:\n",
    "    greater_than_hun_units = unit_consumed-100\n",
    "    t_bill=(greater_than_hun_units*6)+(100*4.5)\n",
    "elif unit_consumed>200 and unit_consumed<=300:\n",
    "    greater_than_hun_units = unit_consumed-200\n",
    "    t_bill=(greater_than_hun_units*10)+(100*4.5)+(100*6)\n",
    "else:\n",
    "    greater_than_hun_units = unit_consumed-300\n",
    "    t_bill=(greater_than_hun_units*20)+(100*10)+(100*6)+(100*4.5)\n",
    "\n",
    "print(\"total bill is :\",t_bill)\n",
    "    "
   ]
  },
  {
   "cell_type": "markdown",
   "id": "5877bee1-31de-43ae-801f-d40bfa829abb",
   "metadata": {},
   "source": [
    "Q4. Create a list of numbers from 1 to 100. Use for loop and while loop to calculate the cube of each \n",
    "number and if the cube of that number is divisible by 4 or 5 then append that number in a list and print \n",
    "that list?"
   ]
  },
  {
   "cell_type": "code",
   "execution_count": 5,
   "id": "8b34956a-9d03-4268-ab93-cd8f2aa85ef4",
   "metadata": {},
   "outputs": [],
   "source": [
    "l=[i**3 for i in range(1,101) ]"
   ]
  },
  {
   "cell_type": "code",
   "execution_count": 6,
   "id": "43516ba6-bdbc-4544-802e-2b1234435563",
   "metadata": {},
   "outputs": [
    {
     "name": "stdout",
     "output_type": "stream",
     "text": [
      "[8, 64, 125, 216, 512, 1000, 1728, 2744, 3375, 4096, 5832, 8000, 10648, 13824, 15625, 17576, 21952, 27000, 32768, 39304, 42875, 46656, 54872, 64000, 74088, 85184, 91125, 97336, 110592, 125000, 140608, 157464, 166375, 175616, 195112, 216000, 238328, 262144, 274625, 287496, 314432, 343000, 373248, 405224, 421875, 438976, 474552, 512000, 551368, 592704, 614125, 636056, 681472, 729000, 778688, 830584, 857375, 884736, 941192, 1000000] "
     ]
    }
   ],
   "source": [
    "l1=[]\n",
    "for i in l:\n",
    "    if i%4==0 or i%5==0:\n",
    "        l1.append(i)\n",
    "print(l1,end=\" \")"
   ]
  },
  {
   "cell_type": "code",
   "execution_count": 7,
   "id": "70e84464-3339-4e73-a629-0e7d856d1e13",
   "metadata": {},
   "outputs": [
    {
     "name": "stdout",
     "output_type": "stream",
     "text": [
      "[8, 64, 125, 216, 512, 1000, 1728, 2744, 3375, 4096, 5832, 8000, 10648, 13824, 15625, 17576, 21952, 27000, 32768, 39304, 42875, 46656, 54872, 64000, 74088, 85184, 91125, 97336, 110592, 125000, 140608, 157464, 166375, 175616, 195112, 216000, 238328, 262144, 274625, 287496, 314432, 343000, 373248, 405224, 421875, 438976, 474552, 512000, 551368, 592704, 614125, 636056, 681472, 729000, 778688, 830584, 857375, 884736, 941192, 1000000] "
     ]
    }
   ],
   "source": [
    "o=list(range(1,101))\n",
    "l2=[]\n",
    "m=0\n",
    "k=0\n",
    "while k<100:\n",
    "    m=o[k]**3\n",
    "    if m%4==0 or m%5==0:\n",
    "        l2.append(m)\n",
    "    k+=1\n",
    "print(l2,end=\" \")"
   ]
  },
  {
   "cell_type": "markdown",
   "id": "cc4fec90-0566-4aaa-89e9-2cd92b3c0b95",
   "metadata": {},
   "source": [
    "Q5.  Write a program to filter count vowels in the below-given string.\n",
    "\n",
    "string = \"I want to become a data scientist\""
   ]
  },
  {
   "cell_type": "code",
   "execution_count": 4,
   "id": "fedb52aa-cbb5-4669-995c-cdd187ec721b",
   "metadata": {},
   "outputs": [
    {
     "name": "stdout",
     "output_type": "stream",
     "text": [
      "count vowel: 11\n"
     ]
    }
   ],
   "source": [
    "string = \"I want to become a data scientist\"\n",
    "vowels=['a','e','i','o','u']\n",
    "count=0\n",
    "for i in string:\n",
    "    for j in vowels:\n",
    "        if i==j:\n",
    "            count+=1\n",
    "print(\"count vowel:\",count)\n",
    "        \n",
    "        "
   ]
  },
  {
   "cell_type": "code",
   "execution_count": null,
   "id": "39e013fb-08b5-4171-b7da-6508b97a4d89",
   "metadata": {},
   "outputs": [],
   "source": []
  }
 ],
 "metadata": {
  "kernelspec": {
   "display_name": "Python 3 (ipykernel)",
   "language": "python",
   "name": "python3"
  },
  "language_info": {
   "codemirror_mode": {
    "name": "ipython",
    "version": 3
   },
   "file_extension": ".py",
   "mimetype": "text/x-python",
   "name": "python",
   "nbconvert_exporter": "python",
   "pygments_lexer": "ipython3",
   "version": "3.10.8"
  }
 },
 "nbformat": 4,
 "nbformat_minor": 5
}
