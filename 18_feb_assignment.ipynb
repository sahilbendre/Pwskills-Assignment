{
 "cells": [
  {
   "cell_type": "markdown",
   "id": "9ceb3745-d8b0-44d0-9efc-52b8d57dbd49",
   "metadata": {},
   "source": [
    "Q1.What is an API? Give an example, where an API is used in real life."
   ]
  },
  {
   "cell_type": "markdown",
   "id": "4f6c1124-624b-4368-ad8a-0ff3c58012d8",
   "metadata": {},
   "source": [
    "API stand for application programming interface.API is set of rule that can be communicate between two different system. \n",
    "\n",
    "An API can be thought of as a contract between the software system providing the API and the software system consuming the API. The API specifies how to access certain functionality and data provided by the system. The consumer of the API can then use this information to interact with the system in a way that is intended and supported by the system.\n",
    "\n",
    "An example of an API in real life is the Sharing flight information between airlines and travel sites.multiple apps and website provide information and booking of airlines.for emaple Flipkart provide book airline tickets from their application"
   ]
  },
  {
   "cell_type": "markdown",
   "id": "a29aa111-56ad-4ce3-a350-e18cc49a5e57",
   "metadata": {},
   "source": [
    "Q2. Give advantages and disadvantages of using API."
   ]
  },
  {
   "cell_type": "markdown",
   "id": "550ede8b-9e72-49c3-b047-d0ac1fa408d5",
   "metadata": {},
   "source": [
    "__Advantage of API__:\n",
    "\n",
    "Reusability: APIs can be used by multiple applications, which helps in avoiding the need to rewrite code for every application.\n",
    "\n",
    "Efficiency: By providing a pre-built set of functionality, APIs can save time and effort for developers, who can focus on other aspects of their application.\n",
    "\n",
    "Scalability: APIs can help to scale applications and services by allowing them to easily communicate and interact with other systems.\n",
    "\n",
    "Standardization: APIs provide a standardized way for different systems to communicate, which helps to reduce errors and inconsistencies."
   ]
  },
  {
   "cell_type": "markdown",
   "id": "9c737f8b-b3fd-4e4e-a833-f4376d282ec3",
   "metadata": {},
   "source": [
    "__Disadvantage of API__:\n",
    "Complexity: APIs can be complex to work with, requiring specialized knowledge and expertise to develop and maintain.\n",
    "\n",
    "Security concerns: APIs can be vulnerable to attacks, especially if they are not secured properly. Security vulnerabilities can lead to data breaches and other security incidents.\n",
    "\n",
    "Changes in the API: If the API provider makes changes to the API, it can cause compatibility issues with applications that use it. This can lead to significant work and potential downtime for affected applications.\n",
    "\n",
    "Costs: Developing and integrating APIs can come with significant costs, including the time and resources required to build and test them."
   ]
  },
  {
   "cell_type": "markdown",
   "id": "72439570-1761-42c5-9cc5-afdea42d21b5",
   "metadata": {},
   "source": [
    "Q3. What is a Web API? Differentiate between API and Web API."
   ]
  },
  {
   "cell_type": "markdown",
   "id": "c782303d-a6d1-4b01-83d1-11b744dac045",
   "metadata": {},
   "source": [
    "A Web API is a type of API that is specifically designed for use on the web.A Web API allows different web-based applications to communicate with each other, typically through the use of HTTP requests and responses. A web API uses web-based communication protocols such as HTTP and REST to enable communication between different systems.\n",
    "\n",
    "The main difference between a  API and a web API is that a web API specifically uses web-based protocols and is designed for communication over the internet.  APIs can be used for communication between applications on the same system or network, whereas web APIs are specifically designed for communication between different systems over the internet."
   ]
  },
  {
   "cell_type": "markdown",
   "id": "77c8ce71-cf89-4839-affa-447704c8f19a",
   "metadata": {},
   "source": [
    "Q4. Explain REST and SOAP Architecture. Mention shortcomings of SOAP."
   ]
  },
  {
   "cell_type": "markdown",
   "id": "3e4d848b-cc88-4d34-a1cd-a829601023cb",
   "metadata": {},
   "source": [
    "__REST stand for Representational State Transfer__.REST is an architectural style that uses HTTP requests to interact with web-based resources. In a REST architecture, resources are represented by URLs, and clients can interact with those resources by sending HTTP requests to the server. REST typically returns data in a lightweight format, such as JSON or XML, that is easy for web-based applications to consume. REST is often used in web-based applications, as it allows for simple and flexible communication between client and server.\n",
    "\n",
    "__SOAP stand for Simple Object Access Protocol__.SOAP is a protocol that uses XML to format data, and is designed to provide a standardized way for applications to exchange information over a network. SOAP typically requires a lot of overhead, including the use of an XML envelope to encapsulate data and a large number of XML tags to specify message structure. SOAP is typically used in enterprise applications, as it provides a more structured and rigid framework for communication between systems.\n",
    "\n",
    "__Shortcomings of SOAP__:\n",
    "\n",
    "Complexity: SOAP is a complex protocol, with a lot of overhead and a steep learning curve for developers.\n",
    "\n",
    "Performance: Because SOAP uses XML, it can be slower and more resource-intensive than other protocols, which can impact performance.\n",
    "\n",
    "Scalability: Because of its complexity, SOAP can be difficult to scale, especially in large enterprise environments.\n",
    "\n",
    "Compatibility: SOAP implementations can vary widely, and interoperability between different SOAP systems can be a challenge."
   ]
  },
  {
   "cell_type": "markdown",
   "id": "b1acabad-e01e-43c6-8f4d-4195925238d6",
   "metadata": {},
   "source": [
    "Q5. Differentiate between REST and SOAP."
   ]
  },
  {
   "cell_type": "markdown",
   "id": "ea192bf4-7ae6-4ae5-86a6-169b7f16bcbe",
   "metadata": {},
   "source": [
    "Structure  REST relies on a client-server architectural style, with lightweight communication between them mostly using HTTP protocols and is a stateless approach, while SOAP uses a messaging protocol with a standardized envelope, header, and body sections with more structure.\n",
    "\n",
    "Communication : REST uses simple HTTP protocols to transfer information, while SOAP uses XML-based messages over different protocols like HTTP, SMTP, or TCP.\n",
    "\n",
    "Data format : REST can use a variety of data formats like JSON, HTML, and plain text, while SOAP is limited to using XML.\n",
    "\n",
    "Accessibility : REST is easy to use and understand and can be accessed using any web browser, while SOAP requires specialized clients to access the web services.\n",
    "\n",
    "Scalability : REST is highly scalable as it can support server-side caching and multiple data formats, while SOAP has fixed protocols making it less flexible and scalable.\n",
    "\n",
    "Performance : REST is generally faster and more lightweight than SOAP, as it does not require as much overhead and can use caching to improve performance. SOAP can be slower and more resource-intensive due to its complex structure and message format."
   ]
  }
 ],
 "metadata": {
  "kernelspec": {
   "display_name": "Python 3 (ipykernel)",
   "language": "python",
   "name": "python3"
  },
  "language_info": {
   "codemirror_mode": {
    "name": "ipython",
    "version": 3
   },
   "file_extension": ".py",
   "mimetype": "text/x-python",
   "name": "python",
   "nbconvert_exporter": "python",
   "pygments_lexer": "ipython3",
   "version": "3.10.8"
  }
 },
 "nbformat": 4,
 "nbformat_minor": 5
}
