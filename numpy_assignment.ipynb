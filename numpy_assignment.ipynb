{
 "cells": [
  {
   "cell_type": "markdown",
   "id": "8a3c11ad-998f-4ad0-a812-e9c39fb8f067",
   "metadata": {},
   "source": [
    "Consider the below code to answer further questions:"
   ]
  },
  {
   "cell_type": "code",
   "execution_count": 2,
   "id": "ef98421f-36a4-4ec8-babe-35c8f321c609",
   "metadata": {},
   "outputs": [],
   "source": [
    "import numpy as np\n",
    "\n",
    "list_= [ '1' , '2' , '3', '4' , '5' ]\n",
    "\n",
    "array_list = np.array(object = list_)"
   ]
  },
  {
   "cell_type": "markdown",
   "id": "8ef6c6c5-c6aa-43d1-b130-72a96a38d70f",
   "metadata": {},
   "source": [
    "Q1. Is there any difference in the data type of variables list_ and array_list? If there is then write a code \n",
    "to print the data types of both the variables"
   ]
  },
  {
   "cell_type": "markdown",
   "id": "f79ced2d-6298-478a-8606-bdf57b65253e",
   "metadata": {},
   "source": [
    "Yes, there is a difference in the data type of list_ and array_list.\n",
    "The data type of list_ is list, while the data type of array_list is numpy.ndarray.\n",
    "list_ is a Python built in data type , and its elements are strings ('1', '2', '3', '4', '5'), while array_list is a NumPy array we can use numpy and array libraries, and its elements are also strings.\n",
    "we can verify that data type of list_ and array_list:"
   ]
  },
  {
   "cell_type": "code",
   "execution_count": 3,
   "id": "e4cdc197-1640-4bec-9198-47dd0f2af134",
   "metadata": {},
   "outputs": [
    {
     "data": {
      "text/plain": [
       "list"
      ]
     },
     "execution_count": 3,
     "metadata": {},
     "output_type": "execute_result"
    }
   ],
   "source": [
    "type(list_)"
   ]
  },
  {
   "cell_type": "code",
   "execution_count": 4,
   "id": "4aab8c22-aa24-4ccc-a686-a2e4c12e4ec4",
   "metadata": {},
   "outputs": [
    {
     "data": {
      "text/plain": [
       "numpy.ndarray"
      ]
     },
     "execution_count": 4,
     "metadata": {},
     "output_type": "execute_result"
    }
   ],
   "source": [
    "type(array_list)"
   ]
  },
  {
   "cell_type": "markdown",
   "id": "10acc1ae-0ee3-477a-98c0-a740e8cb7619",
   "metadata": {},
   "source": [
    "Q2.Write a code to print the data type of each and every element of both the variables list_ and array_list."
   ]
  },
  {
   "cell_type": "code",
   "execution_count": 5,
   "id": "fec49db9-030e-4f78-8b0f-b173e43e74f9",
   "metadata": {},
   "outputs": [
    {
     "data": {
      "text/plain": [
       "[str, str, str, str, str]"
      ]
     },
     "execution_count": 5,
     "metadata": {},
     "output_type": "execute_result"
    }
   ],
   "source": [
    "list(map (lambda x :type(x),list_))"
   ]
  },
  {
   "cell_type": "code",
   "execution_count": 6,
   "id": "14e0fb39-3e93-4ed3-ba74-77fc5393369d",
   "metadata": {},
   "outputs": [
    {
     "data": {
      "text/plain": [
       "[numpy.str_, numpy.str_, numpy.str_, numpy.str_, numpy.str_]"
      ]
     },
     "execution_count": 6,
     "metadata": {},
     "output_type": "execute_result"
    }
   ],
   "source": [
    "list(map(lambda x:type(x),array_list))"
   ]
  },
  {
   "cell_type": "markdown",
   "id": "4a13ea47-0ab7-48f0-86ee-78d46b7bc0f7",
   "metadata": {},
   "source": [
    "Q3. Considering the following changes in the variable, array_list:"
   ]
  },
  {
   "cell_type": "code",
   "execution_count": 7,
   "id": "a3bd254d-2db5-42c2-a793-2e23bfbd7275",
   "metadata": {},
   "outputs": [],
   "source": [
    "array_list = np.array(object = list_, dtype = int)"
   ]
  },
  {
   "cell_type": "markdown",
   "id": "9e018c2f-8787-4ca2-ba90-8622bfd45508",
   "metadata": {},
   "source": [
    "Will there be any difference in the data type of the elements present in both the variables, list_ and \n",
    "arra_list? If so then print the data types of each and every element present in both the variables, list_ \n",
    "and arra_list."
   ]
  },
  {
   "cell_type": "markdown",
   "id": "ad314259-d34e-432b-aa49-9846cb311c12",
   "metadata": {},
   "source": [
    "Yes,By doing array_list = np.array(object = list_, dtype = int) we're specify the element in numpy array to be int.it creates a NumPy array with elements of the int data type."
   ]
  },
  {
   "cell_type": "code",
   "execution_count": 12,
   "id": "4e856604-93e4-4953-bec0-624e2b2e2ab0",
   "metadata": {},
   "outputs": [
    {
     "data": {
      "text/plain": [
       "[numpy.int64, numpy.int64, numpy.int64, numpy.int64, numpy.int64]"
      ]
     },
     "execution_count": 12,
     "metadata": {},
     "output_type": "execute_result"
    }
   ],
   "source": [
    "list(map(lambda x:type(x),array_list))"
   ]
  },
  {
   "cell_type": "markdown",
   "id": "69640a98-c1eb-4725-9abf-f84bace7950d",
   "metadata": {},
   "source": [
    "Consider the below code to answer further question"
   ]
  },
  {
   "cell_type": "code",
   "execution_count": 15,
   "id": "47c8a33e-8bdf-4fc8-9172-0bfb845bb601",
   "metadata": {},
   "outputs": [],
   "source": [
    "num_list = [ [ 1 , 2 , 3 ] , [ 4 , 5 , 6 ] ]\n",
    "\n",
    "num_array = np.array(object = num_list)"
   ]
  },
  {
   "cell_type": "markdown",
   "id": "2b951a27-0369-45d4-9af8-72d0dee1092f",
   "metadata": {},
   "source": [
    "Q4. Write a code to find the following characteristics of variable, num_array:\n",
    "\n",
    "(i)\t shape\n",
    "\n",
    "(ii) size"
   ]
  },
  {
   "cell_type": "code",
   "execution_count": 16,
   "id": "7a274a93-391e-44cf-b7ac-5e1d30311139",
   "metadata": {},
   "outputs": [
    {
     "data": {
      "text/plain": [
       "(2, 3)"
      ]
     },
     "execution_count": 16,
     "metadata": {},
     "output_type": "execute_result"
    }
   ],
   "source": [
    "num_array.shape"
   ]
  },
  {
   "cell_type": "code",
   "execution_count": 17,
   "id": "6d90dab8-f968-48c0-8ed1-c18d9bb89f2e",
   "metadata": {},
   "outputs": [
    {
     "data": {
      "text/plain": [
       "6"
      ]
     },
     "execution_count": 17,
     "metadata": {},
     "output_type": "execute_result"
    }
   ],
   "source": [
    "num_array.size"
   ]
  },
  {
   "cell_type": "markdown",
   "id": "325c128b-033d-47f0-a61b-2b4a300ed408",
   "metadata": {},
   "source": [
    "Q5. Write a code to create numpy array of 3*3 matrix containing zeros only, using a numpy array \n",
    "creation function.\n",
    "\n",
    "[Hint: The size of the array will be 9 and the shape will be (3,3).]"
   ]
  },
  {
   "cell_type": "code",
   "execution_count": 23,
   "id": "4112fcb8-2f7e-4f19-bf9d-74653dd92de6",
   "metadata": {},
   "outputs": [
    {
     "data": {
      "text/plain": [
       "array([[0., 0., 0.],\n",
       "       [0., 0., 0.],\n",
       "       [0., 0., 0.]])"
      ]
     },
     "execution_count": 23,
     "metadata": {},
     "output_type": "execute_result"
    }
   ],
   "source": [
    "ar=np.zeros((3,3))\n",
    "ar"
   ]
  },
  {
   "cell_type": "code",
   "execution_count": 22,
   "id": "90db867e-358e-4b41-b2fe-434ea35590c9",
   "metadata": {},
   "outputs": [
    {
     "data": {
      "text/plain": [
       "(9, (3, 3))"
      ]
     },
     "execution_count": 22,
     "metadata": {},
     "output_type": "execute_result"
    }
   ],
   "source": [
    "ar.size,ar.shape"
   ]
  },
  {
   "cell_type": "markdown",
   "id": "f1edbe3d-07f5-4d4d-be3a-7e180d7c047f",
   "metadata": {},
   "source": [
    "Q6.Create an identity matrix of shape (5,5) using numpy functions?\n",
    "\n",
    "[Hint: An identity matrix is a matrix containing 1 diagonally and other elements will be 0.]"
   ]
  },
  {
   "cell_type": "code",
   "execution_count": 29,
   "id": "dcc3e5f7-4e14-4eb4-8ec6-9a84f1803466",
   "metadata": {},
   "outputs": [
    {
     "data": {
      "text/plain": [
       "array([[1., 0., 0., 0., 0.],\n",
       "       [0., 1., 0., 0., 0.],\n",
       "       [0., 0., 1., 0., 0.],\n",
       "       [0., 0., 0., 1., 0.],\n",
       "       [0., 0., 0., 0., 1.]])"
      ]
     },
     "execution_count": 29,
     "metadata": {},
     "output_type": "execute_result"
    }
   ],
   "source": [
    "ar=np.eye(5)\n",
    "ar"
   ]
  },
  {
   "cell_type": "code",
   "execution_count": null,
   "id": "394c170f-37e9-411e-9555-a75247345ed3",
   "metadata": {},
   "outputs": [],
   "source": []
  }
 ],
 "metadata": {
  "kernelspec": {
   "display_name": "Python 3 (ipykernel)",
   "language": "python",
   "name": "python3"
  },
  "language_info": {
   "codemirror_mode": {
    "name": "ipython",
    "version": 3
   },
   "file_extension": ".py",
   "mimetype": "text/x-python",
   "name": "python",
   "nbconvert_exporter": "python",
   "pygments_lexer": "ipython3",
   "version": "3.10.8"
  }
 },
 "nbformat": 4,
 "nbformat_minor": 5
}
