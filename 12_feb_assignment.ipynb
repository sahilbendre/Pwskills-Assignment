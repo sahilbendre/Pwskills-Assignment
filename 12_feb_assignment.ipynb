{
 "cells": [
  {
   "cell_type": "markdown",
   "id": "6e582ada-0103-494d-bba7-571efab83ca2",
   "metadata": {},
   "source": [
    "Q1. What is an Exception in python? Write the difference between Exceptions and syntax errors?"
   ]
  },
  {
   "cell_type": "markdown",
   "id": "d9a77703-ba7e-4131-9da4-907565570683",
   "metadata": {},
   "source": [
    "An exception is an error that occurs during the execution of a program. When an exception occurs, the program stops executing and displays an error message.\n",
    "A syntax error is a type of error that occurs when the code violates the rules of the programming language. It occurs when there is a mistake in the syntax of the code. Syntax errors are detected by the compiler or interpreter during the compilation or execution of the program.\n",
    "The key difference between exceptions and syntax errors is that exceptions occur during the execution of a program, while syntax errors occur before the execution of a program, when the code is being parsed by the interpreter. Exceptions can be handled and recovered from, while syntax errors need to be fixed before the code can be executed."
   ]
  },
  {
   "cell_type": "markdown",
   "id": "1d0b8ca8-4144-43b7-8737-b394dc22943c",
   "metadata": {},
   "source": [
    "Q2. What happens when an exception is not handled? Explain with an example?"
   ]
  },
  {
   "cell_type": "markdown",
   "id": "21f6db28-2fc0-4473-89bc-48b0b2be30fd",
   "metadata": {},
   "source": [
    "When an exception is not handled, the program will terminate and an error message will be displayed to the user. The error message will contain the type of exception that was raised, along with a stack trace that shows the sequence of function calls that led to the exception.\n",
    "The stack trace provides information about where in the code the exception was raised and can help in identifying the cause of the problem. However, if the exception is not handled, the program will not be able to continue executing and the user will not be able to recover from the error.\n",
    "In some cases, an unhandled exception can also lead to data corruption, memory leaks, and other problems that can negatively impact the stability and reliability of the program.\n",
    "\n",
    "Example of Without Exception Handling:"
   ]
  },
  {
   "cell_type": "code",
   "execution_count": 1,
   "id": "03789604-c8b7-40a1-9cfe-d4e845a97be1",
   "metadata": {},
   "outputs": [],
   "source": [
    "from functools import reduce\n",
    "import logging\n",
    "logging.basicConfig(filename = 'mylogs.log', level = logging.INFO, format = '%(asctime)s %(message)s')"
   ]
  },
  {
   "cell_type": "code",
   "execution_count": 6,
   "id": "86a2b750-58fb-47ba-84e5-c52e5d72c941",
   "metadata": {},
   "outputs": [
    {
     "name": "stdin",
     "output_type": "stream",
     "text": [
      "Enter numbers:  4ff7\n"
     ]
    },
    {
     "ename": "ValueError",
     "evalue": "invalid literal for int() with base 10: 'f'",
     "output_type": "error",
     "traceback": [
      "\u001b[0;31m---------------------------------------------------------------------------\u001b[0m",
      "\u001b[0;31mValueError\u001b[0m                                Traceback (most recent call last)",
      "Cell \u001b[0;32mIn[6], line 6\u001b[0m\n\u001b[1;32m      4\u001b[0m all_list_ele\u001b[38;5;241m=\u001b[39m[]\n\u001b[1;32m      5\u001b[0m \u001b[38;5;28;01mfor\u001b[39;00m lis_ele \u001b[38;5;129;01min\u001b[39;00m some_input:\n\u001b[0;32m----> 6\u001b[0m     all_list_ele\u001b[38;5;241m.\u001b[39mappend(\u001b[38;5;28;43mint\u001b[39;49m\u001b[43m(\u001b[49m\u001b[43mlis_ele\u001b[49m\u001b[43m)\u001b[49m)\n\u001b[1;32m      7\u001b[0m logging\u001b[38;5;241m.\u001b[39minfo(\u001b[38;5;124m\"\u001b[39m\u001b[38;5;124mFinding greatest value\u001b[39m\u001b[38;5;124m\"\u001b[39m)\n\u001b[1;32m      8\u001b[0m maximum \u001b[38;5;241m=\u001b[39m reduce(\u001b[38;5;28;01mlambda\u001b[39;00m x,y: x \u001b[38;5;28;01mif\u001b[39;00m x\u001b[38;5;241m>\u001b[39my \u001b[38;5;28;01melse\u001b[39;00m y, all_values)\n",
      "\u001b[0;31mValueError\u001b[0m: invalid literal for int() with base 10: 'f'"
     ]
    }
   ],
   "source": [
    "logging.info(\"Asking user for values\")\n",
    "som_input = input('Enter numbers: ')\n",
    "some_input=list(som_input)\n",
    "all_list_ele=[]\n",
    "for lis_ele in some_input:\n",
    "    all_list_ele.append(int(lis_ele))\n",
    "logging.info(\"Finding greatest value\")\n",
    "maximum = reduce(lambda x,y: x if x>y else y, all_values)\n",
    "\n",
    "print(\"This is the input values list: \", some_input)\n",
    "print(\"This is the maximum value in the list: \",maximum)"
   ]
  },
  {
   "cell_type": "markdown",
   "id": "24eb5650-7a37-4e23-a5ba-970dd39cc6ac",
   "metadata": {},
   "source": [
    "With Exception handling"
   ]
  },
  {
   "cell_type": "markdown",
   "id": "7f996e2e-6d25-42a9-8dd0-84535a5f25ec",
   "metadata": {},
   "source": [
    "We can set an exception that will raise when the program is generating an error. But instead of interrupting the flow of the program, the exception will just print out the error that was generated during the execution and move on to execute the rest of the program.\n",
    "\n"
   ]
  },
  {
   "cell_type": "code",
   "execution_count": 10,
   "id": "895d4ac5-ea82-4eeb-9d23-6a2447c37061",
   "metadata": {},
   "outputs": [
    {
     "name": "stdin",
     "output_type": "stream",
     "text": [
      "Enter numbers:  4gg5\n"
     ]
    },
    {
     "name": "stdout",
     "output_type": "stream",
     "text": [
      "The following exception was raised during the execution:  invalid literal for int() with base 10: 'g'\n"
     ]
    }
   ],
   "source": [
    "try:\n",
    "    logging.info(\"Asking user for values\")\n",
    "    som_input = input('Enter numbers: ')\n",
    "    some_input=list(som_input)\n",
    "    all_list_ele=[]\n",
    "    for lis_ele in some_input:\n",
    "        all_list_ele.append(int(lis_ele))\n",
    "    logging.info(\"Finding greatest value\")\n",
    "    maximum = reduce(lambda x,y: x if x>y else y, all_values)\n",
    "\n",
    "    print(\"This is the input values list: \", some_input)\n",
    "    print(\"This is the maximum value in the list: \",maximum)\n",
    "except Exception as e:\n",
    "    logging.warning('Caught Exception, Handling..')\n",
    "    print('The following exception was raised during the execution: ', e)"
   ]
  },
  {
   "cell_type": "markdown",
   "id": "2031f157-9670-498d-a5a3-5a619b170a27",
   "metadata": {},
   "source": [
    "Q3. Which Python statements are used to catch and handle exceptions? Explain with an example?"
   ]
  },
  {
   "cell_type": "markdown",
   "id": "c21644a6-fca0-4ec7-81d5-7e90d5131694",
   "metadata": {},
   "source": [
    "In Python, the try and except statements are used to catch and handle exceptions. The basic structure of a try-except statement is as follows:"
   ]
  },
  {
   "cell_type": "code",
   "execution_count": 11,
   "id": "5225ef6d-e246-4094-a699-25c3d741576f",
   "metadata": {},
   "outputs": [],
   "source": [
    "try:\n",
    "    pass\n",
    "    # code that might raise an exception\n",
    "except Exception as e:\n",
    "    # code to handle the exception\n",
    "    pass\n",
    "    "
   ]
  },
  {
   "cell_type": "markdown",
   "id": "2d7dea73-79b8-4314-8db0-ed0097a22c79",
   "metadata": {},
   "source": [
    "In this Above code in try block we write code that might raise an exception.if an exception raise the program immediately jump into except block.The except block then handles the exception, based on its type.\n",
    "\n",
    "Example of Try block"
   ]
  },
  {
   "cell_type": "code",
   "execution_count": 13,
   "id": "0ea7ccab-3237-40de-8d86-689597662176",
   "metadata": {},
   "outputs": [
    {
     "name": "stdout",
     "output_type": "stream",
     "text": [
      "Error: division by zero\n"
     ]
    }
   ],
   "source": [
    "try :\n",
    "    x=1/0\n",
    "except Exception as e:\n",
    "    print(\"Error: division by zero\")"
   ]
  },
  {
   "cell_type": "markdown",
   "id": "36ca4763-b034-44a7-adab-28b0da3a19ac",
   "metadata": {},
   "source": [
    "Q4. Explain with an example:\n",
    "a. try and else\n",
    "b. finally\n",
    "c. raise"
   ]
  },
  {
   "cell_type": "markdown",
   "id": "7100579e-3726-4a58-9dbd-a84d7d72cf82",
   "metadata": {},
   "source": [
    "a.try and else:\n",
    "In try And else block ,The else block is executed if no exception is raised in the try block."
   ]
  },
  {
   "cell_type": "code",
   "execution_count": 14,
   "id": "b1089a51-7090-48c4-8153-fb375de0957a",
   "metadata": {},
   "outputs": [
    {
     "name": "stdout",
     "output_type": "stream",
     "text": [
      "Divide Properly\n"
     ]
    }
   ],
   "source": [
    "try:\n",
    "    logging.info(\"Division of value\")\n",
    "    x=10/5\n",
    "except Exception as e:\n",
    "    print(\"Error\",e)\n",
    "else:\n",
    "    print(\"Divide Properly\")"
   ]
  },
  {
   "cell_type": "markdown",
   "id": "5f8a01ff-1b80-47b9-8dc0-3bb01d3f3402",
   "metadata": {},
   "source": [
    "b.finally:finally block always excuted wheather an exception is raise or not"
   ]
  },
  {
   "cell_type": "code",
   "execution_count": 15,
   "id": "25d5a35e-4376-4b10-b99f-4633a331844a",
   "metadata": {},
   "outputs": [
    {
     "name": "stdout",
     "output_type": "stream",
     "text": [
      "Cannot divide by zero!\n",
      "This block is always executed.\n"
     ]
    }
   ],
   "source": [
    "try:\n",
    "    logging.info(\"division of values\")\n",
    "    x=1/0\n",
    "except ZeroDivisionError:\n",
    "    print(\"Cannot divide by zero!\")\n",
    "finally:\n",
    "    print(\"This block is always executed.\")"
   ]
  },
  {
   "cell_type": "markdown",
   "id": "838fa24b-ec52-4beb-bdd7-cfb15a11bab6",
   "metadata": {},
   "source": [
    "c.raise:The raise keyword is used to explicitly raise an exception.\n"
   ]
  },
  {
   "cell_type": "code",
   "execution_count": 17,
   "id": "f7fdf6e5-ad9c-4ab5-8c33-bf4890bd55aa",
   "metadata": {},
   "outputs": [
    {
     "ename": "ValueError",
     "evalue": "Value of x is too high!",
     "output_type": "error",
     "traceback": [
      "\u001b[0;31m---------------------------------------------------------------------------\u001b[0m",
      "\u001b[0;31mValueError\u001b[0m                                Traceback (most recent call last)",
      "Cell \u001b[0;32mIn[17], line 3\u001b[0m\n\u001b[1;32m      1\u001b[0m x \u001b[38;5;241m=\u001b[39m \u001b[38;5;241m10\u001b[39m\n\u001b[1;32m      2\u001b[0m \u001b[38;5;28;01mif\u001b[39;00m x \u001b[38;5;241m>\u001b[39m \u001b[38;5;241m5\u001b[39m:\n\u001b[0;32m----> 3\u001b[0m     \u001b[38;5;28;01mraise\u001b[39;00m \u001b[38;5;167;01mValueError\u001b[39;00m(\u001b[38;5;124m\"\u001b[39m\u001b[38;5;124mValue of x is too high!\u001b[39m\u001b[38;5;124m\"\u001b[39m)\n",
      "\u001b[0;31mValueError\u001b[0m: Value of x is too high!"
     ]
    }
   ],
   "source": [
    "x = 10\n",
    "if x > 5:\n",
    "    raise ValueError(\"Value of x is too high!\")"
   ]
  },
  {
   "cell_type": "markdown",
   "id": "c1b91e6c-d0ea-4044-ba80-8391e40b594f",
   "metadata": {},
   "source": [
    "Q5. What are Custom Exceptions in python? Why do we need Custom Exceptions? Explain with an example"
   ]
  },
  {
   "cell_type": "markdown",
   "id": "133d2124-dfa4-4cdd-aee4-a68ef21879ac",
   "metadata": {},
   "source": [
    "In Python, an exception is an error that occurs during the execution of a program. Python provides a set of built-in exceptions like ValueError, TypeError, IndexError, etc. that are raised in response to specific errors. However, sometimes we may need to create our own exceptions, which are called custom exceptions.\n",
    "\n",
    "Custom exceptions are used when we want to raise an exception that is specific to our program or application. They allow us to create meaningful error messages that can help us understand and debug our code more easily.\n",
    "\n",
    "We need custom exceptions in Python for several reasons, such as:\n",
    "\n",
    "To provide a better understanding of the cause of the exception. To create an exception that is specific to our program. To handle exceptional cases that are not covered by the built-in exceptions.\n",
    "\n",
    "Here we see the example of Custom Exception"
   ]
  },
  {
   "cell_type": "code",
   "execution_count": 29,
   "id": "442bd50c-f09e-4b2c-ab89-8f29a8439947",
   "metadata": {},
   "outputs": [
    {
     "name": "stdin",
     "output_type": "stream",
     "text": [
      "Enter Amount Here... 4556\n"
     ]
    },
    {
     "name": "stdout",
     "output_type": "stream",
     "text": [
      "insufficient Balance in your Account...\n"
     ]
    }
   ],
   "source": [
    "account_bal=1000\n",
    "class insufficientbal(Exception):\n",
    "    def __init__(self,error):\n",
    "        self.error=error\n",
    "def withdraw_amount(amount):\n",
    "    if amount>account_bal:\n",
    "        raise insufficientbal(\"insufficient Balance in your Account...\")\n",
    "    else:\n",
    "        print(\"Amount Withdrawn Successfully\")\n",
    "try:\n",
    "    amount=int(input(\"Enter Amount Here...\"))\n",
    "    withdraw_amount(amount)\n",
    "except Exception as e:\n",
    "    print(e)\n",
    "    "
   ]
  },
  {
   "cell_type": "markdown",
   "id": "adc52b27-25e3-408f-a1c5-e54b97102591",
   "metadata": {},
   "source": [
    "6. create a custom exception class. Use this class to handle an exception"
   ]
  },
  {
   "cell_type": "code",
   "execution_count": 51,
   "id": "523c7682-6bf7-467c-a700-c50cf67508b6",
   "metadata": {},
   "outputs": [],
   "source": [
    "class IdError(Exception):\n",
    "    def __init__(self,error):\n",
    "        self.error=error\n",
    "def identify_ID(id):\n",
    "    if len(id) != 10:\n",
    "        raise IdError(\"Id Invalid, length of Id must be 10\")\n",
    "    else:\n",
    "        print(\"Valid ID\")        "
   ]
  },
  {
   "cell_type": "code",
   "execution_count": 52,
   "id": "10979aa7-ba22-41cb-9938-0e55eb6925e9",
   "metadata": {},
   "outputs": [
    {
     "name": "stdin",
     "output_type": "stream",
     "text": [
      "Enter Id Here... 4585221\n"
     ]
    },
    {
     "name": "stdout",
     "output_type": "stream",
     "text": [
      "Id Invalid, length of Id must be 10\n"
     ]
    }
   ],
   "source": [
    "try:\n",
    "    id=input(\"Enter Id Here...\")\n",
    "    identify_ID(id)\n",
    "    \n",
    "except Exception as e:\n",
    "    print(e)"
   ]
  },
  {
   "cell_type": "code",
   "execution_count": null,
   "id": "5fa1d97a-1fb6-435b-8a46-445ac2772ad5",
   "metadata": {},
   "outputs": [],
   "source": []
  }
 ],
 "metadata": {
  "kernelspec": {
   "display_name": "Python 3 (ipykernel)",
   "language": "python",
   "name": "python3"
  },
  "language_info": {
   "codemirror_mode": {
    "name": "ipython",
    "version": 3
   },
   "file_extension": ".py",
   "mimetype": "text/x-python",
   "name": "python",
   "nbconvert_exporter": "python",
   "pygments_lexer": "ipython3",
   "version": "3.10.8"
  }
 },
 "nbformat": 4,
 "nbformat_minor": 5
}
