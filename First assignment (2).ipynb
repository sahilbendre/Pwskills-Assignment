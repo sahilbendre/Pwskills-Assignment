{
 "cells": [
  {
   "cell_type": "raw",
   "id": "2e95e206-4c07-4807-b0fc-b3ab2d9005a0",
   "metadata": {},
   "source": [
    "1. Who developed Python Programming Language?"
   ]
  },
  {
   "cell_type": "raw",
   "id": "e640cd6f-bdf8-4013-b75c-012d6335d312",
   "metadata": {},
   "source": [
    "Python is Created by Guido Van Rassum From CWI(Centrum Wiskunde & Informatica) which is a national research institude for mathematics and computer science in netherlands.python got it's name from BBC Comedy Series From Seventies :- \"Monty Python's Flying Circus\". and Python released in 1991."
   ]
  },
  {
   "cell_type": "raw",
   "id": "4bafd3ad-dfb5-4038-8ee1-b643de9862fe",
   "metadata": {},
   "source": [
    "2. Which type of programming does python support?"
   ]
  },
  {
   "cell_type": "raw",
   "id": "2789ec3a-9986-4f07-8b60-8aa17815fa8e",
   "metadata": {},
   "source": [
    "Python is a Multi-paradigm Programming Language.Python is Spport object orient Programming and Structure Programming  and many of thier Features Spport in Functional programming and aspect-oriented programming."
   ]
  },
  {
   "cell_type": "raw",
   "id": "bc57590e-a58f-4d5f-bf00-af76d143e73e",
   "metadata": {},
   "source": [
    "3.Is Python case sensitive when dealing with identifiers?"
   ]
  },
  {
   "cell_type": "raw",
   "id": "126625bc-a77c-4fb8-9f66-ef039cd8d8e3",
   "metadata": {},
   "source": [
    "Yes,Python is Case Sensitive Language i.e. Uppercase characters and Lowercase characters is treated Differntly.This applies to identifiers too.When we are Created 2 Variable or identifiers in same name but in Different cases it is treated different variable or identifiers.You must avoid using the same name with different cases while naming identifiers."
   ]
  },
  {
   "cell_type": "raw",
   "id": "6aeab7f9-c657-4ee9-9166-f2fca611f869",
   "metadata": {},
   "source": [
    "4. What is the correct extension of the Python file?"
   ]
  },
  {
   "cell_type": "raw",
   "id": "0f6699bf-7fd8-45e7-8776-04fed8431919",
   "metadata": {},
   "source": [
    "Python is Widely used Programming Language and It is used for Different Purpose.The extensions for Python files are - .py, .pyi, .pyc, .pyd, .pyo, .pyw, and .pyz. "
   ]
  },
  {
   "cell_type": "raw",
   "id": "4b68b30a-908d-427e-b9e9-384b54d46e25",
   "metadata": {},
   "source": [
    "5.Is Python code compiled or interpreted?"
   ]
  },
  {
   "cell_type": "raw",
   "id": "fb9925ae-cc1f-4ba5-9dfc-044bd2f8eb65",
   "metadata": {},
   "source": [
    "Python is an Interpreter language.which means the source code of python file is converted in byte code that is an excuted by python virtual machine.such as c and c++ as Python code is not required to be built and linked like code for these languages.python interpreter has  main feature is Python code is fast to develop and we also called just in time compile."
   ]
  },
  {
   "cell_type": "raw",
   "id": "3597aed0-5e2a-4564-9398-93b28f6c5e5e",
   "metadata": {},
   "source": [
    "6.Name a few blocks of code used to define in Python language?"
   ]
  },
  {
   "cell_type": "raw",
   "id": "82e5a621-a5bf-4167-b137-c80f56acc2bb",
   "metadata": {},
   "source": [
    "we used if-else block(it use for conditioning),for loop and while loop block (both use for iterating ovr a sequence), def block(for creating  function),try-catch block(it is use for handling error)"
   ]
  },
  {
   "cell_type": "raw",
   "id": "537b081b-f627-4904-a21c-283bce3b5a14",
   "metadata": {},
   "source": [
    "7.sate a character used to give single—line comments in Python?"
   ]
  },
  {
   "cell_type": "raw",
   "id": "cba29d10-fc42-4ce2-a605-36c994cea306",
   "metadata": {},
   "source": [
    "we can write single-line comment using # character before any statement or line of code."
   ]
  },
  {
   "cell_type": "raw",
   "id": "8e914495-6810-4f6c-bae7-58ecfe3f511f",
   "metadata": {},
   "source": [
    "8.Mention functions which can help us to find the version of that we are currently working on?"
   ]
  },
  {
   "cell_type": "raw",
   "id": "f9f6ae9f-65ba-4174-b163-ad9cb148d00f",
   "metadata": {},
   "source": [
    "We can find current version of python using 2 function :1]using sys.version method 2]Using python_version() function\n",
    "1]using sys.version function: First we import sys library then we will print sys.version for current version.\n",
    "2]using python_version():This function is accessible by importing the platform library and will always return a string of the running user’s python version.\n",
    "this methods are use current version of python.and also we Use python -V command also we get python version."
   ]
  },
  {
   "cell_type": "raw",
   "id": "9f1e82b3-1960-4921-bde2-c3434b13450b",
   "metadata": {},
   "source": [
    "9.Python supports the creation of anonymous functions at runtime, using a construct called_______"
   ]
  },
  {
   "cell_type": "raw",
   "id": "11b97386-1e42-438e-9e2b-d10fdc04de68",
   "metadata": {},
   "source": [
    "Python supports the creation of anonymous functions at runtime, using a construct called Lambda Function"
   ]
  },
  {
   "cell_type": "raw",
   "id": "93fe83a0-f8ee-40a9-81cb-d59a605c0db2",
   "metadata": {},
   "source": [
    "10.What does pip stand for python"
   ]
  },
  {
   "cell_type": "raw",
   "id": "80aebdaf-a1ff-450c-b7ef-7de834b700bf",
   "metadata": {},
   "source": [
    "pip Stand for Preferred Installer Program.PIP is a package manager for Python packages, or modules if you like.We can install external pacakge or library"
   ]
  },
  {
   "cell_type": "raw",
   "id": "3176733c-e6fb-4a80-a6e7-53029fc0a48e",
   "metadata": {},
   "source": [
    "11.Mention a few built—in functions in python?"
   ]
  },
  {
   "cell_type": "raw",
   "id": "9775282f-0825-4a58-b144-0053fdc4f22d",
   "metadata": {},
   "source": [
    "1]print():Prints to the standard output device\n",
    "2]list():Returns a list\n",
    "3]round():Rounds a numbers\n",
    "4]range():Returns a sequence of numbers, starting from 0 and increments by 1 (by default)\n",
    "5]type():Returns the type of an object\n",
    "6]input():Allowing user input"
   ]
  },
  {
   "cell_type": "raw",
   "id": "99bcb1d4-ecc2-43b3-bfd7-06678574da6c",
   "metadata": {},
   "source": [
    "12.What is the maximum possible length of an identifier in Python?"
   ]
  },
  {
   "cell_type": "raw",
   "id": "574a0e1e-c7c1-4c1c-92e6-9364dcd7410e",
   "metadata": {},
   "source": [
    "First of all we are see what is Identifier ,a particular name given by programmer to define a variable,function,structure or class is called identifier.and In Python, the highest possible length of an identifier is 79 characters."
   ]
  },
  {
   "cell_type": "raw",
   "id": "c8fbee02-efe7-4559-961b-70b69323a9c2",
   "metadata": {},
   "source": [
    "13.What are the benefits of using Python?"
   ]
  },
  {
   "cell_type": "raw",
   "id": "37caf31f-4b59-4aa6-bf7b-69c0065b2ee1",
   "metadata": {},
   "source": [
    "python has many benifits but we know some of them:\n",
    "1]Extensive support libraries(NumPy for numerical calculations, Pandas for data analytics, etc.) \n",
    "2]Open source and large active community base \n",
    "3]User-friendly data structures \n",
    "4]High-level language \n",
    "5]Dynamically typed language(No need to mention data type based on the value assigned, it takes data type) \n",
    "6]Object-Oriented and Procedural  Programming language\n",
    "7]Internet of Things(IoT) Opportunities\n",
    "8]Interpreted Language\n",
    "9]Portable across Operating systems "
   ]
  },
  {
   "cell_type": "raw",
   "id": "130254ea-e302-41c2-9536-03888efd7936",
   "metadata": {},
   "source": [
    "14.HOW is memory managed in python"
   ]
  },
  {
   "cell_type": "raw",
   "id": "b4a5f1bb-c9ed-4c23-a2ac-c7493e7a67b4",
   "metadata": {},
   "source": [
    "Memory allocation and deallocation is automatic in python.it also has garbage collection which is free the memory.Meomry management in python handled by python meomory mananager.The memory allocate form of private heap space.All python object is stored is private heap space and being private,it is inaccessible to the programmer.Python support some cor API  function  to  work upon the private heap space"
   ]
  },
  {
   "cell_type": "raw",
   "id": "19053e39-c97d-42a9-afb5-4623ac9ca32f",
   "metadata": {},
   "source": [
    "15.How to install Python on Windows and set path variables?"
   ]
  },
  {
   "cell_type": "raw",
   "id": "18536aed-5e0b-45e3-8395-21c0603c5e38",
   "metadata": {},
   "source": [
    "First we go to browser and search python download for link then go to python.org website then download the python.after downloading install that python application on your computer.This is installation step for python . Now we will see step of how to set path variable  and what is path variable.The PATH variable is a list of directories where each directory contains the executable file for a command.\n",
    "Step:\n",
    "1]Right-clicking This PC and going to Properties.\n",
    "2]Clicking on the Advanced system settings in the menu on the left.\n",
    "3]Clicking on the Environment Variables button on the bottom right.\n",
    "4]In the System variables section, selecting the Path variable and clicking on Edit. The next screen will show all the directories that are currently a part of the PATH variable.\n",
    "5]Clicking on New and entering Python’s install directory."
   ]
  },
  {
   "cell_type": "raw",
   "id": "e7e258b1-f066-45c1-9bc5-f37e9d18eef9",
   "metadata": {},
   "source": [
    "16.Is indentation required in python?"
   ]
  },
  {
   "cell_type": "raw",
   "id": "b69a77b2-484d-406e-94ce-c11c9865cacd",
   "metadata": {},
   "source": [
    "Python refers to the space at the begining of a code line.Where in other programming languages the indentation in code is for readability only, the indentation in Python is very important.Python uses indentation to indicate a block of code."
   ]
  },
  {
   "cell_type": "code",
   "execution_count": null,
   "id": "a75904a6-6bd3-4792-974b-599a794ba7ac",
   "metadata": {},
   "outputs": [],
   "source": []
  },
  {
   "cell_type": "code",
   "execution_count": null,
   "id": "9a23ffed-cffe-4109-b349-92e1de66ba4b",
   "metadata": {},
   "outputs": [],
   "source": []
  }
 ],
 "metadata": {
  "kernelspec": {
   "display_name": "Python 3 (ipykernel)",
   "language": "python",
   "name": "python3"
  },
  "language_info": {
   "codemirror_mode": {
    "name": "ipython",
    "version": 3
   },
   "file_extension": ".py",
   "mimetype": "text/x-python",
   "name": "python",
   "nbconvert_exporter": "python",
   "pygments_lexer": "ipython3",
   "version": "3.10.8"
  }
 },
 "nbformat": 4,
 "nbformat_minor": 5
}
